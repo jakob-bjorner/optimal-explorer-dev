{
  "cells": [
    {
      "cell_type": "markdown",
      "metadata": {
        "id": "1Gyzk-79jakA"
      },
      "source": [
        "To train this agent, click *Runtime* and press *Run all*. Make sure you've enabled a free Tesla T4 GPU!\n",
        "<div class=\"align-center\">\n",
        "<a href=\"https://github.com/openpipe/art\"><img src=\"https://github.com/openpipe/art/raw/main/assets/ART_pill.png\" height=\"50\"></a>\n",
        "<a href=\"https://discord.com/invite/dnseNZuQ\"><img src=\"https://github.com/openpipe/art/raw/main/assets/Discord_pill.png\" height=\"50\"></a>\n",
        "<a href=\"https://openpipe.ai/blog/art-e-mail-agent\"><img src=\"https://github.com/openpipe/art/raw/main/assets/ART_E_pill.png\" height=\"50\"></a>\n",
        "\n",
        "Questions? Join the Discord and ask away! For feature requests or to leave a star, visit our [Github](https://github.com/openpipe/art).\n",
        "</div>\n",
        "\n",
        "<a href=\"https://art.openpipe.ai/\"><img src=\"https://github.com/openpipe/art/raw/main/assets/Header_separator.png\" height=\"5\"></a>\n",
        "\n",
        "This notebook shows how to train a Qwen 2.5 3B model to play Codenames. It will demonstrate how to set up a multi-turn agent, how to train it, and how to evaluate it.\n",
        "\n",
        "Completions will be logged to OpenPipe, and metrics will be logged to Weights & Biases.\n",
        "\n",
        "\n",
        "You will learn how to construct an [agentic environment](#Environment), how to define a [rollout](#Rollout), and how to run a [training loop](#Loop)."
      ]
    },
    {
      "cell_type": "code",
      "execution_count": null,
      "metadata": {
        "colab": {
          "base_uri": "https://localhost:8080/"
        },
        "id": "4wI81EW7jakB",
        "outputId": "5aaed94c-ded8-4d2b-8b96-c02ba0e0fcb5"
      },
      "outputs": [
        {
          "name": "stdout",
          "output_type": "stream",
          "text": [
            "Requirement already satisfied: numpy<2.0.0 in /usr/local/lib/python3.11/dist-packages (1.26.4)\n"
          ]
        }
      ],
      "source": [
        "!pip install \"numpy<2.0.0\""
      ]
    },
    {
      "cell_type": "markdown",
      "metadata": {
        "id": "JcD6rgt0jakC"
      },
      "source": [
        "### WARNING:\n",
        "If you are running in Google Colab and installing numpy does not say \"Requirement already satisfied: numpy<2.0.0\" then click \"Runtime\" and \"Restart Session.\""
      ]
    },
    {
      "cell_type": "code",
      "execution_count": null,
      "metadata": {
        "colab": {
          "base_uri": "https://localhost:8080/"
        },
        "id": "4-eOLmcmjakC",
        "outputId": "31ed401a-f1ae-4e90-b92a-dce2fd6a79e6"
      },
      "outputs": [
        {
          "name": "stdout",
          "output_type": "stream",
          "text": [
            "Numpy version is 1.*.*, you're good to go!\n"
          ]
        }
      ],
      "source": [
        "# make sure we're using numpy 1.*.*\n",
        "import numpy as np\n",
        "\n",
        "if (np.__version__).startswith(\"1.\"):\n",
        "    print(\"Numpy version is 1.*.*, you're good to go!\")\n",
        "else:\n",
        "    raise ValueError(\"Please restart your runtime using the above instructions!\")"
      ]
    },
    {
      "cell_type": "markdown",
      "metadata": {
        "id": "-UAxXzqEjakC"
      },
      "source": [
        "### Environment Variables\n",
        "\n",
        "Later on in the notebook, we'll be creating a model that can automatically logs metrics to Weights & Biases. In order to do so, you'll need to provide your Weights & Biases API key as an environment variable.\n",
        "\n",
        "You can also optionally initiate an OpenPipe client to report completions to a [dashboard](https://app.openpipe.ai) to get a feel for what the completions your model is generating look like, and how they change over time. Logging to OpenPipe is free, but is not required for training!"
      ]
    },
    {
      "cell_type": "code",
      "execution_count": null,
      "metadata": {
        "id": "d_8E8Yj3jakC"
      },
      "outputs": [],
      "source": [
        "import os\n",
        "\n",
        "# Optional - We need an OPENAI_API_KEY to run validation. This is optional, and we will skip validation if not provided\n",
        "OPENAI_API_KEY = \"\"\n",
        "if OPENAI_API_KEY:\n",
        "    os.environ[\"OPENAI_API_KEY\"] = OPENAI_API_KEY\n",
        "\n",
        "# Optional\n",
        "WANDB_API_KEY = \"\"\n",
        "if WANDB_API_KEY:\n",
        "    os.environ[\"WANDB_API_KEY\"] = WANDB_API_KEY\n",
        "\n",
        "# Optional\n",
        "OPENPIPE_API_KEY = \"\"\n",
        "if OPENPIPE_API_KEY:\n",
        "    os.environ[\"OPENPIPE_API_KEY\"] = OPENPIPE_API_KEY"
      ]
    },
    {
      "cell_type": "markdown",
      "metadata": {
        "id": "a0MXGfxPjakD"
      },
      "source": [
        "### Installation"
      ]
    },
    {
      "cell_type": "code",
      "execution_count": null,
      "metadata": {
        "id": "xA5ADGKPjakD"
      },
      "outputs": [],
      "source": [
        "%%capture\n",
        "!uv pip install openpipe-art openpipe --prerelease allow --no-cache-dir"
      ]
    },
    {
      "cell_type": "markdown",
      "metadata": {
        "id": "C5n8N1uSjakD"
      },
      "source": [
        "# Agentic Environment\n",
        "<a name=\"Environment\"></a>\n",
        "\n",
        "ART allows your agent to learn by interacting with its environment. In this example, we'll create an environment in which the agent can play Codenames.\n",
        "\n",
        "Feel free to read as much or as little of this section's code as you'd like. The important thing to understand is that we're defining the rules of this agent's environment. In many cases, this will already be defined by the task you're trying to solve, but if you need to define a custom environment, this is how you do it."
      ]
    },
    {
      "cell_type": "code",
      "execution_count": null,
      "metadata": {
        "colab": {
          "base_uri": "https://localhost:8080/"
        },
        "id": "K9h-g67egOpy",
        "outputId": "f6489f2d-a795-4dc5-82ba-24a0cda6dbea"
      },
      "outputs": [
        {
          "name": "stdout",
          "output_type": "stream",
          "text": [
            "  % Total    % Received % Xferd  Average Speed   Time    Time     Time  Current\n",
            "                                 Dload  Upload   Total   Spent    Left  Speed\n",
            "100  2481  100  2481    0     0   6941      0 --:--:-- --:--:-- --:--:--  6949\n",
            "  % Total    % Received % Xferd  Average Speed   Time    Time     Time  Current\n",
            "                                 Dload  Upload   Total   Spent    Left  Speed\n",
            "100 4749k  100 4749k    0     0  5151k      0 --:--:-- --:--:-- --:--:-- 5150k\n"
          ]
        }
      ],
      "source": [
        "# Download the 400 original codenames words and a dictionary to ensure that the clue is not outside of this dictionary\n",
        "import requests\n",
        "codenames_words_path = \"https://raw.githubusercontent.com/OpenPipe/ART/refs/heads/main/examples/codenames/codenames_words.json\"\n",
        "dictionary_path = \"https://raw.githubusercontent.com/OpenPipe/ART/refs/heads/main/examples/codenames/dictionary.json\"\n",
        "CODENAMES_WORDS = requests.get(codenames_words_path).json()\n",
        "DICTIONARY = requests.get(dictionary_path).json()"
      ]
    },
    {
      "cell_type": "code",
      "execution_count": null,
      "metadata": {
        "id": "we0PhGpVoGmR",
        "outputId": "fc39772e-7f84-4dc4-8915-ff1125636b2f"
      },
      "outputs": [],
      "source": [
        "# Basic imports to get us running\n",
        "# ───────────────────────────────  Imports  ────────────────────────────────\n",
        "import asyncio\n",
        "import copy\n",
        "import logging\n",
        "import random\n",
        "import re\n",
        "import time\n",
        "import uuid\n",
        "from dataclasses import dataclass\n",
        "from pathlib import Path\n",
        "from typing import Dict, List, Tuple\n",
        "\n",
        "from openai import AsyncOpenAI\n",
        "from tqdm.asyncio import tqdm_asyncio\n",
        "\n",
        "import art\n",
        "from openpipe.client import AsyncOpenPipe"
      ]
    },
    {
      "cell_type": "code",
      "execution_count": null,
      "metadata": {
        "id": "jSlnMfuvoK0O"
      },
      "outputs": [],
      "source": [
        "# ───────────────────────────────  Config  ──────────────────────────────\n",
        "NUM_STEPS = 140\n",
        "NUM_GAMES_PER_STEP = 10\n",
        "NUM_ROLLOUTS_PER_GAME = 20\n",
        "# reduce all three above to 5 to run the example quickly\n",
        "\n",
        "MODEL_NAME = \"codenames_model_op_3\"\n",
        "BASE_MODEL_NAME = \"Qwen/Qwen2.5-3B-Instruct\"\n",
        "VAL_BENCHMARK_MODEL = \"gpt-4.1-nano\"\n",
        "NUM_VALIDATION_GAMES = 50\n",
        "LEARNING_RATE = 5e-6\n",
        "BETA = 0.0\n",
        "DEBUG = False\n",
        "\n",
        "# — reward constants —\n",
        "# The following is the weightage for different kinds of outcomes from a game, to determine the reward\n",
        "MARGIN_REWARD_DICT = {\n",
        "    \"turn_limit\": -100, # if the game reaches the turn limit for some reason, the team gets this penalty\n",
        "    \"error\": -100, # if the game ends in an error, the team player that caused the error gets this penalty (e.g. spymaster gets this penalty if the clue is invalid)\n",
        "    \"assassin\": -30, # if the team guesses the assassin, they get this penalty (both spymaster and operative get the penalty, since it could be an issue with the spymaster's clue or the operative's guess)\n",
        "    \"num_words_multiplier\": 10, # the team gets this reward for each word they guess (fraction of words they guess correctly * num_words_multiplier)\n",
        "    \"margin_multiplier\": 1, # the team gets this reward for however many words they defeat the other team by (difference in the number of words * margin_multiplier) (the losing team gets the negative of this)\n",
        "}"
      ]
    },
    {
      "cell_type": "code",
      "execution_count": null,
      "metadata": {
        "id": "_YTBUEFepm_J"
      },
      "outputs": [],
      "source": [
        "# ────────────────────────  1. Utility helpers  ────────────────────────────\n",
        "async def call_llm(\n",
        "    model: art.Model,\n",
        "    messages: List[Dict[str, str]],\n",
        "    temperature: float = 0.7,\n",
        "    max_tokens: int = 500,\n",
        "    num_retries: int = 3,\n",
        "):\n",
        "    \"\"\"\n",
        "    Minimal, retry‑aware wrapper around `chat.completions.create`.\n",
        "    \"\"\"\n",
        "    for attempt in range(num_retries):\n",
        "        try:\n",
        "            client = model.openai_client()\n",
        "            resp = await client.chat.completions.create(\n",
        "                model=model.name,\n",
        "                messages=messages,\n",
        "                temperature=temperature,\n",
        "                max_tokens=max_tokens,\n",
        "                logprobs=True,\n",
        "                store=False,\n",
        "            )\n",
        "            if not resp:\n",
        "                raise RuntimeError(\"empty response\")\n",
        "            return resp\n",
        "        except Exception as e:\n",
        "            print(f\"LLM error ({attempt+1}/{num_retries}): {e}\")\n",
        "            await asyncio.sleep(1)\n",
        "    raise RuntimeError(\"LLM call failed after retries\")\n",
        "\n",
        "\n",
        "# ───────────────────────  2. Core game classes  ───────────────────────────\n",
        "class Card:\n",
        "    \"\"\"\n",
        "    One word on the Codenames board.\n",
        "    \"\"\"\n",
        "    def __init__(self, word: str, color: str):\n",
        "        self.word = word\n",
        "        self.color = color  # blue | red | neutral | assassin\n",
        "        self.revealed = False\n",
        "\n",
        "    def __repr__(self) -> str:\n",
        "        return f\"{self.word}{'(X)' if self.revealed else ''}:{self.color}\"\n",
        "\n",
        "\n",
        "class GameState:\n",
        "    \"\"\"\n",
        "    Full mutable game state with an event log.\n",
        "    \"\"\"\n",
        "    def __init__(\n",
        "        self,\n",
        "        cards: List[Card],\n",
        "        starting_team: str = \"blue\",\n",
        "        game_id: int = 0,\n",
        "    ):\n",
        "        self.cards = cards\n",
        "        self.current_team = starting_team\n",
        "        self.words_left = {\n",
        "            \"blue\": sum(1 for c in cards if c.color == \"blue\"),\n",
        "            \"red\":  sum(1 for c in cards if c.color == \"red\"),\n",
        "        }\n",
        "        self.starting_team = starting_team\n",
        "        self.game_id = game_id\n",
        "        self.turn_count = 0\n",
        "\n",
        "        self.last_event_indices: Dict[str, int] = {\n",
        "            \"blue_spymaster\": -1,\n",
        "            \"blue_operative\": -1,\n",
        "            \"red_spymaster\": -1,\n",
        "            \"red_operative\": -1,\n",
        "            \"game_engine\": -1,\n",
        "        }\n",
        "        self.game_events: List[Dict[str, str]] = []\n",
        "\n",
        "        self.game_ended_in_error: Dict[str, str] | None = None\n",
        "        self.game_ended_in_assassin = False\n",
        "        self.game_ended_in_turn_limit = False\n",
        "\n",
        "        self.all_words = DICTIONARY\n",
        "\n",
        "    # ───────── event log helpers ─────────\n",
        "    def log_event(self, role_key: str, description: str) -> None:\n",
        "        self.game_events.append({role_key: description})\n",
        "        self.last_event_indices[role_key] = len(self.game_events) - 1\n",
        "        if DEBUG:\n",
        "          print(f\"{role_key}: {description}\")\n",
        "\n",
        "    def format_events_for_player(self, role_key: str) -> str:\n",
        "        last_seen = self.last_event_indices.get(role_key, -1)\n",
        "        new_events = self.game_events[last_seen + 1 :]\n",
        "        if not new_events:\n",
        "            return \"\"\n",
        "        lines = [\"--- events since your last turn ---\"]\n",
        "        for ev in new_events:\n",
        "            for rk, desc in ev.items():\n",
        "                lines.append(f\"{rk}: {desc}\")\n",
        "        lines.append(\"----------------------------------\")\n",
        "        return \"\\n\".join(lines)\n",
        "\n",
        "    # ───────── board helpers ─────────\n",
        "    def reveal_card(self, card: Card) -> str | None:\n",
        "        if card.revealed:\n",
        "            return None\n",
        "        card.revealed = True\n",
        "        if card.color in (\"blue\", \"red\"):\n",
        "            self.words_left[card.color] -= 1\n",
        "        return card.color\n",
        "\n",
        "    def get_unrevealed_cards(self) -> List[Card]:\n",
        "        return [c for c in self.cards if not c.revealed]\n",
        "\n",
        "    def get_revealed_cards(self) -> List[Card]:\n",
        "        return [c for c in self.cards if c.revealed]\n",
        "\n",
        "    # ───────── rules / win conditions ─────────\n",
        "    def check_end_game(self) -> Tuple[str | None, str | None]:\n",
        "        # assassin?\n",
        "        if any(c for c in self.cards if c.color == \"assassin\" and c.revealed):\n",
        "            loser = self.current_team\n",
        "            winner = \"red\" if loser == \"blue\" else \"blue\"\n",
        "            self.game_ended_in_assassin = True\n",
        "            return winner, f\"{loser} revealed the assassin\"\n",
        "        # all words guessed?\n",
        "        if self.words_left[\"blue\"] == 0:\n",
        "            return \"blue\", \"Blue found all their words\"\n",
        "        if self.words_left[\"red\"] == 0:\n",
        "            return \"red\", \"Red found all their words\"\n",
        "        return None, None\n",
        "\n",
        "    def switch_turn(self) -> None:\n",
        "        self.current_team = \"red\" if self.current_team == \"blue\" else \"blue\"\n",
        "\n",
        "    def follows_clue_rules(self, clue_word: str) -> bool:\n",
        "        # single token\n",
        "        if len(clue_word.split()) > 1:\n",
        "            return False\n",
        "        # letters / hyphens only\n",
        "        if re.search(r\"[^A-Za-z\\-]\", clue_word):\n",
        "            return False\n",
        "        # cannot be an unrevealed board word\n",
        "        if clue_word.lower() in {c.word.lower() for c in self.get_unrevealed_cards()}:\n",
        "            return False\n",
        "        # must be in dictionary\n",
        "        if clue_word.lower() not in self.all_words:\n",
        "            return False\n",
        "        return True\n",
        "\n",
        "def create_operative_feedback(max_guesses, guesses_taken, guess, color, outcome):\n",
        "    operative_feedback = \"\"\n",
        "    if outcome.startswith(\"correct\"):\n",
        "        operative_feedback = f\"Your guess '{guess}' was correct! It belongs to your team ({color}).\"\n",
        "        if guesses_taken >= max_guesses:\n",
        "            operative_feedback += f\" Max guesses reached ({max_guesses}), ending turn.\"\n",
        "        else:\n",
        "            operative_feedback += \" Either provide your next guess from the unrevealed cards on the board, or say end_turn.\"\n",
        "    elif outcome == \"neutral\":\n",
        "        operative_feedback = f\"Your guess '{guess}' was neutral. Your turn ends here.\"\n",
        "    elif outcome.startswith(\"other_team\"):\n",
        "        operative_feedback = f\"Your guess '{guess}' belongs to the other team ({color}). Your turn ends here.\"\n",
        "    return operative_feedback\n",
        "\n",
        "# ───────────────────────  3. Game orchestration  ──────────────────────────\n",
        "def create_game(\n",
        "    num_words: int = 25,\n",
        "    blue_count: int = 9,\n",
        "    red_count: int = 8,\n",
        "    assassin_count: int = 1,\n",
        "    neutral_count: int = 7,\n",
        "    starting_team: str = \"blue\",\n",
        "    game_id: int = 0,\n",
        ") -> GameState:\n",
        "    all_codenames_words = CODENAMES_WORDS\n",
        "    random.shuffle(all_codenames_words)\n",
        "    codenames_words = all_codenames_words[:num_words]\n",
        "\n",
        "    colors = (\n",
        "        [\"blue\"] * blue_count\n",
        "        + [\"red\"] * red_count\n",
        "        + [\"assassin\"] * assassin_count\n",
        "        + [\"neutral\"] * neutral_count\n",
        "    )\n",
        "    random.shuffle(colors)\n",
        "\n",
        "    cards = [Card(w, c) for w, c in zip(codenames_words, colors)]\n",
        "    return GameState(cards, starting_team, game_id)"
      ]
    },
    {
      "cell_type": "code",
      "execution_count": null,
      "metadata": {
        "id": "uFUqDYgwjakD"
      },
      "outputs": [],
      "source": [
        "# ───────────────────────  LLM player classes  ──────────────────────────\n",
        "SPYMASTER_SYSTEM_PROMPT = \"\"\"You are a SPYMASTER in a game of Codenames.\n",
        "You are on a team (blue or red).\n",
        "You see which words belong to blue, red, neutral, and assassin.\n",
        "Your objective:\n",
        "- Give a ONE-WORD CLUE and a NUMBER, to guide your operative to guess your team's words.\n",
        "- Avoid giving a clue that makes your operative guess the assassin word, or else you lose immediately.\n",
        "- If the operative guesses a neutral or enemy word, the word is revealed and your turn ends, but the game continues.\n",
        "Strict format rules:\n",
        "- You must propose exactly one single-word clue\n",
        "- The clue must not be a word on the board\n",
        "- Your output must be in the format: clue_word, number (e.g. \"space, 2\")\n",
        "If you ever deviate from that exact output format, you lose.\n",
        "Please follow these instructions exactly.\"\"\"\n",
        "\n",
        "SPYMASTER_USER_PROMPT = \"\"\"Your turn. You are the {team} spymaster.\n",
        "Here is the current board (from your perspective), showing:\n",
        "  - which words are unrevealed (and their colors),\n",
        "  - which words are revealed (and their colors).\n",
        "You need to give a single-word clue and a number of words you want your operative to guess.\n",
        "\n",
        "{board}\n",
        "\n",
        "Please provide your ONE-WORD clue and a number, in the format: clue_word, number\"\"\"\n",
        "\n",
        "OPERATIVE_SYSTEM_PROMPT = \"\"\"You are an OPERATIVE in a game of Codenames.\n",
        "- Your spymaster gives you a ONE-WORD CLUE and a NUMBER.\n",
        "- You must guess words from the unrevealed board that match that clue.\n",
        "- You propose exactly ONE guess at a time, or say \"end_turn\" to stop guessing.\n",
        "- If you guess an enemy word or neutral word, your turn ends.\n",
        "- If you guess the assassin word, you immediately lose.\n",
        "- The clue's NUMBER is how many words the spymaster believes are related, but you can guess up to NUMBER + 1 (or fewer).\n",
        "Format rules:\n",
        "- Output must be either a single unrevealed word present on the board or \"end_turn\".\n",
        "- If you deviate from that, you lose.\"\"\"\n",
        "\n",
        "OPERATIVE_USER_PROMPT = \"\"\"Your turn. You are the {team} operative.\n",
        "Your spymaster's clue is: \"{clue}\" (number: {num}).\n",
        "Below is the board from your perspective:\n",
        "  - Which words are still unrevealed (without color info),\n",
        "  - Which words are revealed (with color).\n",
        "\n",
        "{board}\n",
        "\n",
        "Remember: Output exactly one guess word or 'end_turn'.\"\"\"\n",
        "\n",
        "\n",
        "class LLMSpymaster:\n",
        "    def __init__(\n",
        "        self,\n",
        "        team: str,\n",
        "        model: art.Model,\n",
        "        temperature: float = 0.7,\n",
        "        max_tokens: int = 20,\n",
        "    ):\n",
        "        self.team = team\n",
        "        self.model = model\n",
        "        self.temperature = temperature\n",
        "        self.max_tokens = max_tokens\n",
        "        self.conversation: List[Dict[str, str]] = [\n",
        "            {\"role\": \"system\", \"content\": SPYMASTER_SYSTEM_PROMPT}\n",
        "        ]\n",
        "        self.conversation_choices: List[dict] = []\n",
        "\n",
        "    def _board_summary(self, game_state):\n",
        "        unrevealed_cards = game_state.get_unrevealed_cards()\n",
        "        revealed_cards = game_state.get_revealed_cards()\n",
        "\n",
        "        lines = []\n",
        "        lines.append(f\"Number of words left for blue: {game_state.words_left['blue']}\")\n",
        "        lines.append(f\"Number of words left for red: {game_state.words_left['red']}\")\n",
        "        lines.append(\"UNREVEALED WORDS (and their colors):\")\n",
        "        # Group cards by color\n",
        "        # Group cards by color and add them in a specific order\n",
        "        for color in [self.team, \"red\" if self.team == \"blue\" else \"blue\", \"neutral\", \"assassin\"]:\n",
        "            for c in [c for c in unrevealed_cards if c.color == color]:\n",
        "                lines.append(f\"  {c.word} => {c.color}\")\n",
        "        lines.append(\"REVEALED WORDS (and their colors):\")\n",
        "        for c in revealed_cards:\n",
        "            lines.append(f\"  {c.word} => {c.color} (revealed)\")\n",
        "\n",
        "        return \"\\n\".join(lines)\n",
        "\n",
        "    def _parse_clue(self, text: str, gs: GameState) -> Tuple[str, int]:\n",
        "        try:\n",
        "            cw, num = (s.strip() for s in text.split(\",\", 1))\n",
        "            num = int(num)\n",
        "        except Exception:\n",
        "            return \"invalid\", -1\n",
        "        if not gs.follows_clue_rules(cw):\n",
        "            return \"invalid\", -1\n",
        "        return cw, num\n",
        "\n",
        "    async def get_clue(\n",
        "        self, gs: GameState, game_events: str\n",
        "    ) -> Tuple[str, int]:\n",
        "        if game_events:\n",
        "            self.conversation.append({\"role\": \"user\", \"content\": game_events})\n",
        "\n",
        "        prompt = SPYMASTER_USER_PROMPT.format(\n",
        "            team=self.team, board=self._board_summary(gs)\n",
        "        )\n",
        "        self.conversation.append({\"role\": \"user\", \"content\": prompt})\n",
        "\n",
        "        resp = await call_llm(\n",
        "            self.model,\n",
        "            self.conversation,\n",
        "            self.temperature,\n",
        "            self.max_tokens,\n",
        "        )\n",
        "        self.conversation_choices.append(resp.choices[0])\n",
        "        text = resp.choices[0].message.content.strip()  # type: ignore\n",
        "        self.conversation.append({\"role\": \"assistant\", \"content\": text})\n",
        "\n",
        "        return self._parse_clue(text, gs)\n",
        "\n",
        "\n",
        "class LLMOperative:\n",
        "    def __init__(\n",
        "        self,\n",
        "        team: str,\n",
        "        model: art.Model,\n",
        "        temperature: float = 0.7,\n",
        "        max_tokens: int = 20,\n",
        "    ):\n",
        "        self.team = team\n",
        "        self.model = model\n",
        "        self.temperature = temperature\n",
        "        self.max_tokens = max_tokens\n",
        "        self.conversation: List[Dict[str, str]] = [\n",
        "            {\"role\": \"system\", \"content\": OPERATIVE_SYSTEM_PROMPT}\n",
        "        ]\n",
        "        self.conversation_choices: List[dict] = []\n",
        "        self.new_turn = True\n",
        "\n",
        "    def _board_summary(self, game_state: GameState):\n",
        "        \"\"\"\n",
        "        Build a summary from the operative's perspective:\n",
        "          - unrevealed words (no color info)\n",
        "          - revealed words (with color)\n",
        "        \"\"\"\n",
        "        unrevealed = game_state.get_unrevealed_cards()\n",
        "        revealed = game_state.get_revealed_cards()\n",
        "\n",
        "        lines = []\n",
        "        lines.append(f\"Number of words left for blue: {game_state.words_left['blue']}\")\n",
        "        lines.append(f\"Number of words left for red: {game_state.words_left['red']}\")\n",
        "        lines.append(\"UNREVEALED WORDS (no color info):\")\n",
        "        for c in unrevealed:\n",
        "            lines.append(f\"  {c.word}\")\n",
        "        lines.append(\"REVEALED WORDS (with color):\")\n",
        "        for c in revealed:\n",
        "            lines.append(f\"  {c.word}:{c.color}\")\n",
        "        return \"\\n\".join(lines)\n",
        "\n",
        "    async def guess_word(\n",
        "        self,\n",
        "        gs: GameState,\n",
        "        clue_word: str,\n",
        "        clue_number: int,\n",
        "        game_events: str,\n",
        "    ) -> str:\n",
        "        if self.new_turn:\n",
        "            self.new_turn = False\n",
        "            if game_events:\n",
        "                self.conversation.append({\"role\": \"user\", \"content\": game_events})\n",
        "            prompt = OPERATIVE_USER_PROMPT.format(\n",
        "                team=self.team,\n",
        "                clue=clue_word,\n",
        "                num=clue_number,\n",
        "                board=self._board_summary(gs),\n",
        "            )\n",
        "            self.conversation.append({\"role\": \"user\", \"content\": prompt})\n",
        "\n",
        "        resp = await call_llm(\n",
        "            self.model,\n",
        "            self.conversation,\n",
        "            self.temperature,\n",
        "            self.max_tokens,\n",
        "        )\n",
        "        self.conversation_choices.append(resp.choices[0])\n",
        "        guess = resp.choices[0].message.content.strip()  # type: ignore\n",
        "        self.conversation.append({\"role\": \"assistant\", \"content\": guess})\n",
        "        return guess\n",
        "\n",
        "    def start_new_turn(self):\n",
        "        self.new_turn = True\n",
        "\n",
        "    def add_guess_outcome(self, outcome: str):\n",
        "        self.conversation.append({\"role\": \"user\", \"content\": outcome})\n"
      ]
    },
    {
      "cell_type": "code",
      "execution_count": null,
      "metadata": {
        "id": "x5zSJt3fwD0l"
      },
      "outputs": [],
      "source": [
        "# ───────────────────────  Gameplay  ──────────────────────────\n",
        "async def run_game(\n",
        "    gs: GameState,\n",
        "    blue_spy: LLMSpymaster,\n",
        "    blue_op: LLMOperative,\n",
        "    red_spy: LLMSpymaster,\n",
        "    red_op: LLMOperative,\n",
        ") -> Tuple[str, str]:\n",
        "    \"\"\"\n",
        "    Main loop – returns (winner, reason)\n",
        "    \"\"\"\n",
        "    while True:\n",
        "        # turn limit\n",
        "        if gs.turn_count >= 50:\n",
        "            gs.game_ended_in_turn_limit = True\n",
        "            return \"No winner\", \"Turn limit reached\"\n",
        "\n",
        "        gs.turn_count += 1\n",
        "\n",
        "        # victory check\n",
        "        winner, reason = gs.check_end_game()\n",
        "        if winner:\n",
        "            gs.log_event(\"game_engine\", f\"GAME OVER: {reason}\")\n",
        "            return winner, reason\n",
        "\n",
        "        # who’s up?\n",
        "        team = gs.current_team\n",
        "        spy = blue_spy if team == \"blue\" else red_spy\n",
        "        op  = blue_op  if team == \"blue\" else red_op\n",
        "        spy_key = f\"{team}_spymaster\"\n",
        "        op_key = f\"{team}_operative\"\n",
        "\n",
        "        # ── Spymaster turn ──\n",
        "        spy_events = gs.format_events_for_player(spy_key)\n",
        "        clue_word, clue_num = await spy.get_clue(gs, spy_events)\n",
        "\n",
        "        if clue_word == \"invalid\" or clue_num < 0:\n",
        "            other = \"red\" if team == \"blue\" else \"blue\"\n",
        "            reason = f\"{team} gave invalid clue\"\n",
        "            gs.log_event(\"game_engine\", f\"GAME OVER: {other} wins – {reason}\")\n",
        "            gs.game_ended_in_error = {\"team\": team, \"role\": \"spymaster\"}\n",
        "            return other, reason\n",
        "\n",
        "        gs.log_event(spy_key, f\"clue '{clue_word}', {clue_num}\")\n",
        "\n",
        "        # ── Operative guesses ──\n",
        "        max_guesses = clue_num + 1\n",
        "        guesses = 0\n",
        "        op.start_new_turn()\n",
        "\n",
        "        while guesses < max_guesses:\n",
        "            # check win before guess\n",
        "            winner, reason = gs.check_end_game()\n",
        "            if winner:\n",
        "                gs.log_event(\"game_engine\", f\"GAME OVER: {reason}\")\n",
        "                return winner, reason\n",
        "\n",
        "            op_events = gs.format_events_for_player(op_key)\n",
        "            guess = await op.guess_word(gs, clue_word, clue_num, op_events)\n",
        "\n",
        "            if guess.lower() == \"end_turn\":\n",
        "                if guesses == 0:\n",
        "                    other = \"red\" if team == \"blue\" else \"blue\"\n",
        "                    reason = f\"{team} ended turn on the first guess\"\n",
        "                    gs.log_event(\"game_engine\", f\"GAME OVER: {other} wins – {reason}\")\n",
        "                    gs.game_ended_in_error = {\"team\": team, \"role\": \"operative\"}\n",
        "                    return other, reason\n",
        "                gs.log_event(op_key, \"ended turn\")\n",
        "                break\n",
        "\n",
        "            # validate guess\n",
        "            card = next((c for c in gs.get_unrevealed_cards() if c.word.lower() == guess.lower()), None)\n",
        "            if not card:\n",
        "                other = \"red\" if team == \"blue\" else \"blue\"\n",
        "                reason = f\"{team} operative guessed invalid word '{guess}'\"\n",
        "                gs.log_event(op_key, reason)\n",
        "                gs.log_event(\"game_engine\", f\"GAME OVER: {other} wins – {reason}\")\n",
        "                gs.game_ended_in_error = {\"team\": team, \"role\": \"operative\"}\n",
        "                return other, reason\n",
        "\n",
        "            color = gs.reveal_card(card)\n",
        "            guesses += 1\n",
        "            outcome = (\n",
        "                \"correct\" if color == team\n",
        "                else \"assassin\" if color == \"assassin\"\n",
        "                else \"other_team\" if color in (\"blue\", \"red\")\n",
        "                else \"neutral\"\n",
        "            )\n",
        "            gs.log_event(op_key, f\"guessed '{guess}', outcome: {outcome}\")\n",
        "\n",
        "            # feedback for LLM memory\n",
        "            op_feedback = create_operative_feedback(max_guesses, guesses, guess, color, outcome)\n",
        "            op.add_guess_outcome(op_feedback)\n",
        "\n",
        "            # post‑guess win check / turn handling\n",
        "            if outcome == \"correct\":\n",
        "                winner, reason = gs.check_end_game()\n",
        "                if winner or guesses >= max_guesses:\n",
        "                    break\n",
        "                continue  # another guess\n",
        "            elif outcome == \"assassin\":\n",
        "                other = \"red\" if team == \"blue\" else \"blue\"\n",
        "                gs.game_ended_in_assassin = True\n",
        "                return other, f\"{team} revealed the assassin\"\n",
        "            else:\n",
        "                break  # neutral or other team ends turn\n",
        "\n",
        "        gs.switch_turn()"
      ]
    },
    {
      "cell_type": "code",
      "execution_count": null,
      "metadata": {
        "id": "VcCZwM3gq9V6"
      },
      "outputs": [],
      "source": [
        "# ────────────────────  5. RL / reward helpers  ────────────────────────────\n",
        "def create_mc(player: LLMSpymaster | LLMOperative) -> List[dict]:\n",
        "    \"\"\"\n",
        "    Merge messages & choices into a single list for art.\n",
        "    \"\"\"\n",
        "    mc = []\n",
        "    choice_i = 0\n",
        "    for msg in player.conversation:\n",
        "        if msg[\"role\"] == \"assistant\":\n",
        "            mc.append(player.conversation_choices[choice_i])\n",
        "            choice_i += 1\n",
        "        else:\n",
        "            mc.append(msg)\n",
        "    return mc\n",
        "\n",
        "\n",
        "def create_margin_reward(\n",
        "    player: LLMSpymaster | LLMOperative,\n",
        "    role_key: str,\n",
        "    gs: GameState,\n",
        "    winning_color: str,\n",
        "    reason: str,\n",
        ") -> float:\n",
        "    num_start_words = 9 if player.team == \"blue\" else 8\n",
        "    reward = 0.0\n",
        "\n",
        "    if gs.game_ended_in_turn_limit:\n",
        "        reward += MARGIN_REWARD_DICT[\"turn_limit\"]\n",
        "        return reward\n",
        "    if gs.game_ended_in_error and role_key == f\"{gs.game_ended_in_error['team']}_{gs.game_ended_in_error['role']}\":\n",
        "        reward += MARGIN_REWARD_DICT[\"error\"]\n",
        "\n",
        "    if gs.game_ended_in_assassin and player.team != winning_color:\n",
        "        reward += MARGIN_REWARD_DICT[\"assassin\"]\n",
        "\n",
        "    # proportion of own words guessed\n",
        "    reward += (\n",
        "        (num_start_words - gs.words_left[player.team])\n",
        "        / num_start_words\n",
        "        * MARGIN_REWARD_DICT[\"num_words_multiplier\"]\n",
        "    )\n",
        "\n",
        "    # margin\n",
        "    loser = \"red\" if winning_color == \"blue\" else \"blue\"\n",
        "    margin = gs.words_left[loser]\n",
        "    reward += margin * MARGIN_REWARD_DICT[\"margin_multiplier\"] * (\n",
        "        1 if player.team == winning_color else -1\n",
        "    )\n",
        "    return reward"
      ]
    },
    {
      "cell_type": "markdown",
      "metadata": {
        "id": "u2v5YiKPwu9b"
      },
      "source": [
        "# Defining a rollout\n",
        "<a name=\"Rollout\"></a>\n",
        "\n",
        "In each training step, we start with NUM_GAMES_PER_STEP different Codenames boards (let's say 10).\n",
        "\n",
        "NUM_GAMES_PER_STEP = 10\n",
        "\n",
        "For every board, the model plays 20 complete self‑play games (rollouts).\n",
        "\n",
        "NUM_ROLLOUTS_PER_GAME = 20\n",
        "\n",
        "Each rollout produces four separate records of experience—one for every role in the game—so a single board yields 80 trajectories in total.\n",
        "\n",
        "trajectories_per_rollout = 4 (one each for red spymaster, red operative, blue spymaster, blue operative)\n",
        "\n",
        "trajectories_per_board = NUM_ROLLOUTS_PER_GAME * trajectories_per_rollout = 20 * 4 = 80\n",
        "\n",
        "All trajectories from the same board+color+role are grouped together into a trajectory group.\n",
        "\n",
        "trajectory_groups_per_board = trajectories_per_board / NUM_ROLLOUTS_PER_GAME = 80 / 20 = 4\n",
        "\n",
        "Across the NUM_GAMES_PER_STEP (10) boards, this gives us NUM_GAMES_PER_STEP * trajectory_groups_per_board = 10 * 4 = 40 trajectory groups that ART uses for training in that step."
      ]
    },
    {
      "cell_type": "code",
      "execution_count": null,
      "metadata": {
        "id": "mevAhbxQwuR1"
      },
      "outputs": [],
      "source": [
        "# ───────────────────────  6. Rollout logic  ───────────────────────────────\n",
        "async def run_single_rollout(\n",
        "    game_state: GameState,\n",
        "    blue_model: art.Model,\n",
        "    red_model: art.Model,\n",
        "    rollout_id: int,\n",
        "    step: int,\n",
        ") -> Dict[str, Dict[str, art.Trajectory]] | Exception:\n",
        "    \"\"\"\n",
        "    Play one rollout, i.e. one game, return trajectories for every player.\n",
        "    For each rollout, we return four trajectories: red spymaster, red operative, blue spymaster, blue operative.\n",
        "    We conduct the game, caluclate the reward for each trajectory, report to OpenPipe, and return the trajectories.\n",
        "    \"\"\"\n",
        "    player_classes = {\"spymaster\": LLMSpymaster, \"operative\": LLMOperative}\n",
        "    player_dict: Dict[str, Dict[str, LLMSpymaster | LLMOperative]] = {\n",
        "        \"blue\": {\n",
        "            role: player_classes[role](\n",
        "                team=\"blue\",\n",
        "                model=blue_model\n",
        "            )\n",
        "            for role in (\"spymaster\", \"operative\")\n",
        "        },\n",
        "        \"red\": {\n",
        "            role: player_classes[role](\n",
        "                team=\"red\",\n",
        "                model=red_model\n",
        "            )\n",
        "            for role in (\"spymaster\", \"operative\")\n",
        "        },\n",
        "    }\n",
        "\n",
        "    try:\n",
        "        winner, reason = await run_game(\n",
        "            gs=game_state,\n",
        "            blue_spy=player_dict[\"blue\"][\"spymaster\"],    # type: ignore\n",
        "            blue_op=player_dict[\"blue\"][\"operative\"],     # type: ignore\n",
        "            red_spy=player_dict[\"red\"][\"spymaster\"],      # type: ignore\n",
        "            red_op=player_dict[\"red\"][\"operative\"],       # type: ignore\n",
        "        )\n",
        "    except Exception as e:\n",
        "        return e\n",
        "\n",
        "    # ── build art trajectories ──\n",
        "    game_metrics = {\n",
        "        \"ended_in_error\": 1 if game_state.game_ended_in_error else 0,\n",
        "        \"ended_in_assassin\": 1 if game_state.game_ended_in_assassin else 0,\n",
        "        \"ended_completely\": 0\n",
        "        if (game_state.game_ended_in_error or game_state.game_ended_in_assassin)\n",
        "        else 1,\n",
        "        \"total_turns\": game_state.turn_count,\n",
        "        \"total_words_left\": game_state.words_left[\"blue\"] + game_state.words_left[\"red\"],\n",
        "        \"winning_color\": 1 if winner == \"blue\" else 0,\n",
        "    }\n",
        "\n",
        "    op_client = AsyncOpenPipe()\n",
        "    trajectory_dict: Dict[str, Dict[str, art.Trajectory]] = {}\n",
        "\n",
        "    for team in (\"blue\", \"red\"):\n",
        "        for role in (\"spymaster\", \"operative\"):\n",
        "            player = player_dict[team][role]\n",
        "            role_key = f\"{team}_{role}\"\n",
        "            # finish conversation with final message\n",
        "            events = game_state.format_events_for_player(role_key)\n",
        "            if events:\n",
        "                player.conversation.append({\"role\": \"user\", \"content\": events})\n",
        "            player.conversation.append(\n",
        "                {\n",
        "                    \"role\": \"user\",\n",
        "                    \"content\": f\"Game over. {winner} won. Reason: {reason}\",\n",
        "                }\n",
        "            )\n",
        "\n",
        "            reward = create_margin_reward(\n",
        "                player, role_key, game_state, winner, reason\n",
        "            )\n",
        "            mc = create_mc(player)\n",
        "            traj = art.Trajectory(\n",
        "                messages_and_choices=mc,\n",
        "                reward=reward,\n",
        "                metrics={\"reward\": reward, **game_metrics},\n",
        "            )\n",
        "            trajectory_dict.setdefault(team, {})[role] = traj\n",
        "\n",
        "            # report to OpenPipe for observability (best‑effort)\n",
        "            try:\n",
        "                await op_client.report(\n",
        "                    req_payload={\n",
        "                        \"model\": f\"{player.model.name}_{team}\",\n",
        "                        \"messages\": player.conversation,\n",
        "                        \"metadata\": {\n",
        "                            \"game_id\": game_state.game_id,\n",
        "                            \"rollout_id\": rollout_id,\n",
        "                            \"step\": step,\n",
        "                            \"role\": role,\n",
        "                            \"team\": team,\n",
        "                            \"num_turns\": game_state.turn_count,\n",
        "                            \"blue_words_left\": game_state.words_left[\"blue\"],\n",
        "                            \"red_words_left\": game_state.words_left[\"red\"],\n",
        "                            \"winning_color\": winner,\n",
        "                            \"game_end_reason\": reason[:1000],\n",
        "                            \"reward\": reward,\n",
        "                        },\n",
        "                    },\n",
        "                    resp_payload={\n",
        "                        \"id\": f\"chatcmpl-{uuid.uuid4()}\",\n",
        "                        \"object\": \"chat.completion\",\n",
        "                        \"created\": int(time.time()),\n",
        "                        \"model\": f\"{player.model.name}_{team}\",\n",
        "                        \"choices\": [{\"index\": 0, \"message\": {\"role\": \"assistant\", \"content\": \"dummy\"}, \"finish_reason\": \"stop\"}],\n",
        "                        \"usage\": {\"prompt_tokens\": 0, \"completion_tokens\": 0, \"total_tokens\": 0},\n",
        "                    },\n",
        "                    status_code=200,\n",
        "                )\n",
        "            except Exception as e:\n",
        "                if DEBUG:\n",
        "                    print(f\"OpenPipe report failed: {e}\")\n",
        "\n",
        "    return trajectory_dict\n",
        "\n",
        "async def conduct_games(\n",
        "    blue_model: art.Model,\n",
        "    red_model: art.Model,\n",
        "    num_rollouts_per_game: int,\n",
        "    game_id: int,\n",
        "    step: int,\n",
        ") -> List[art.TrajectoryGroup]:\n",
        "    \"\"\"\n",
        "    Play *num_rollouts_per_game* games concurrently for a fixed board.\n",
        "    The fixed board provides the same starting state for each rollout.\n",
        "    \"\"\"\n",
        "    base_state = create_game(game_id=game_id)\n",
        "\n",
        "    rollout_results = await asyncio.gather(\n",
        "        *[\n",
        "            run_single_rollout(\n",
        "                game_state=copy.deepcopy(base_state),\n",
        "                blue_model=blue_model,\n",
        "                red_model=red_model,\n",
        "                rollout_id=rid,\n",
        "                step=step,\n",
        "            )\n",
        "            for rid in range(num_rollouts_per_game)\n",
        "        ]\n",
        "    )\n",
        "\n",
        "    groups: Dict[str, List[art.Trajectory]] = {}\n",
        "    for res in rollout_results:\n",
        "        if isinstance(res, Exception):\n",
        "            continue\n",
        "        for team in (\"blue\", \"red\"):\n",
        "            for role in (\"spymaster\", \"operative\"):\n",
        "                groups.setdefault(f\"{team}_{role}\", []).append(res[team][role])\n",
        "\n",
        "    return [art.TrajectoryGroup(trajs) for trajs in groups.values()]\n",
        "\n",
        "async def _run_single_validation_game(\n",
        "    game_id: int,\n",
        "    my_model: art.Model,\n",
        "    benchmark_model: art.Model,\n",
        "    step: int = 0,\n",
        ") -> art.Trajectory | Exception:\n",
        "    \"\"\"\n",
        "    Creates a single game of Codenames, alternating your model and the benchmark model\n",
        "    (e.g. GPT-4o) between Blue and Red. Returns a list of your model’s Trajectories only, with the reward\n",
        "    for each set to 1 if your model won, and 0 otherwise.\n",
        "    \"\"\"\n",
        "\n",
        "    # Create a fresh game state\n",
        "    game_state = create_game(game_id=game_id)\n",
        "\n",
        "    # Alternate which side your model takes\n",
        "    if game_id % 2 == 0:\n",
        "        my_team, other_team = \"blue\", \"red\"\n",
        "        blue_model, red_model = my_model, benchmark_model\n",
        "    else:\n",
        "        my_team, other_team = \"red\", \"blue\"\n",
        "        blue_model, red_model = benchmark_model, my_model\n",
        "\n",
        "    # Run a single rollout (one game) using your existing code\n",
        "    trajectory_dict = await run_single_rollout(\n",
        "        game_state=copy.deepcopy(game_state),\n",
        "        blue_model=blue_model,\n",
        "        red_model=red_model,\n",
        "        rollout_id=game_id,\n",
        "        step=step,\n",
        "    )\n",
        "\n",
        "    if isinstance(trajectory_dict, Exception):\n",
        "        return trajectory_dict\n",
        "\n",
        "    winning_color = (\n",
        "        \"blue\"\n",
        "        if trajectory_dict[\"blue\"][\"spymaster\"].metrics.get(\"winning_color\", \"\") == 1\n",
        "        else \"red\"\n",
        "    )\n",
        "\n",
        "    my_traj = trajectory_dict[my_team][\"spymaster\"]\n",
        "    my_traj_reward = 1.0 if my_team == winning_color else 0.0\n",
        "\n",
        "    # Overwrite the reward in the trajectory\n",
        "    my_traj.reward = my_traj_reward\n",
        "    my_traj.metrics[\"win_rate\"] = my_traj_reward\n",
        "    my_traj.metrics[\"reward\"] = my_traj_reward\n",
        "\n",
        "    return my_traj\n",
        "\n",
        "\n",
        "async def run_validation_games(\n",
        "    my_model: art.Model,\n",
        "    benchmark_model: art.Model,\n",
        "    num_validation_games: int = 50,\n",
        "    step: int = 0,\n",
        ") -> List[art.Trajectory]:\n",
        "    \"\"\"\n",
        "    Creates `num_validation_games` games of Codenames, concurrently running them via asyncio.gather,\n",
        "    alternating your model vs. benchmark model (e.g. GPT‑4o) between Blue and Red.\n",
        "\n",
        "    Returns a flat list of your model’s trajectories. Each trajectory has a reward of 1 if your\n",
        "    model’s team won, and 0 if it lost.\n",
        "    \"\"\"\n",
        "    tasks = [\n",
        "        _run_single_validation_game(\n",
        "            game_id=gid,\n",
        "            my_model=my_model,\n",
        "            benchmark_model=benchmark_model,\n",
        "            step=step,\n",
        "        )\n",
        "        for gid in range(num_validation_games)\n",
        "    ]\n",
        "\n",
        "    # Run all validation games concurrently\n",
        "    result_trajectories = await tqdm_asyncio.gather(\n",
        "        *tasks, desc=\"Running validation games\", total=num_validation_games\n",
        "    )\n",
        "\n",
        "    return [t for t in result_trajectories if not isinstance(t, Exception)]"
      ]
    },
    {
      "cell_type": "markdown",
      "metadata": {},
      "source": [
        "# Model and Training Loop\n",
        "<a name=\"Loop\"></a>\n",
        "\n",
        "First, we create a trainable model which gives ART a spec of the model we want to train.\n",
        "Next, we create a backend, which could be local or point to a remote server which has art installed.\n",
        "We then register the model with the backend, letting the backend know where we will be training the model.\n",
        "You then have an openai client for your model, which will automatically point to the latest version of the model under training.\n",
        "\n",
        "For the training loop, we conduct training games and every 5 steps, we conduct validation games against val benchmark model.\n",
        "For every training step, we gather the trajectory groups from each starting position, flatten into groups, and then train the model on these groups.\n",
        "\n",
        "We provide additional benchmaking code to see how the model performs over time when compared to off the shelf models like gpt-4.1-nano and gpt-4.1-mini."
      ]
    },
    {
      "cell_type": "code",
      "execution_count": null,
      "metadata": {
        "colab": {
          "base_uri": "https://localhost:8080/",
          "height": 1000,
          "referenced_widgets": [
            "e72428e058f348948cd726e1a3729098",
            "cbd009b937164b858616bc905477bbf7",
            "9018da7fa4064e7e98b3fb324410e6c6",
            "195ee9f5e81e451d8129ce5ab1c2e729",
            "aa6adc4f548d47ee8595ff59cf5821e1",
            "0523c414de1440eb8c01094380b13edc",
            "2e660693841847a6be9b258b61076998",
            "040444ba48bb42ed8857cf41b215bd42",
            "f2b6000bd7a64bd6bdd3d81cc1f62eac",
            "34214a86e73f490782c0eb0ed3834eba",
            "1753b897ff0f4d838add350945d5a47c",
            "22141322fd484feb8056db79a50b6acc",
            "f804a7bb942d461e8521da23efdf8b2b",
            "4eb899bbf4ab4297bb63cca9ec848fed",
            "2edba5c0183f4544a63a1ae288ece545",
            "f5896acf3bd44c87b791d682465ce2c0",
            "12b8226d967b4b25bf80959a92cbf752",
            "2c21b567dfea400884559ad6835ad460",
            "ba57f6ece88a4f42b5deafef0046b3da",
            "08c53586bef94e2b9a6d88feeb0847a8",
            "e9987113a053438ba9bb38b8522304f4",
            "04ef72524aee43e09e2067f36420c089",
            "853862cceee14a9186ad54e9ef7330c4",
            "1d35d988790d4cab90df0b6ac32e8d13",
            "8042b59f138b41d3b8e09e95b9121852",
            "49adf8f932dd41ce920d97b438e19d02",
            "02290c92aad149dcbc493ecd1e8e9fea",
            "5116155feb8c4cf78ad6b07e71088c47",
            "a773f7bdae6947b68c08ac4dbc623082",
            "47b720604f7b4e30976262a51b8aa8cb",
            "cddfe2eeefd443d8b5b8981fb0572b15",
            "07760b73e12342a9be176e7d6ee9d6c9",
            "9d1af65f2aea4835b65ee50635622279",
            "15ec6e95bdc744b7b1b065b84131474d",
            "c9598c8f119a40bfa0e19146d4d4d229",
            "fe3436fd54034c48a5d535118fb0d365",
            "4aa808fcfb364054bdda121436078852",
            "86641b31fdf1464688d07e38a1a976e0",
            "362772bb65354d93b803303f15069d1e",
            "b371a055ed7d4643bf94d69084176100",
            "8a528b27c5434f98a4d2603af186ec33",
            "5c01df94ffc2445a8ebe3fc057d935b3",
            "0d71a2269efc42dc867d9ccaff87563b",
            "d379ae3921a242a7b54b62e4566f5242",
            "8644b166625f41ea9ed9f90906d80b12",
            "33861aee8d6348068ecf40d550521f05",
            "2c2c1e1cfff649199376a551014645e6",
            "6014ba69ec8942969a20ca018f943edd",
            "babcc45b3e8845d6b1d30c976298ab3c",
            "4bea909a1dfb49b482a1fbb790319c36",
            "f09bca3e57b446a3acb13072bf7810fc",
            "a10bc0dcee5f4873a6cbae6e6ff2ed2b",
            "f411c37c9e024633998bc3c5a5f813f8",
            "7e20b273def349b8be145c611b50e2c5",
            "f7743efea02d4e0b803d070bca54e004",
            "8a102b3727584b5f86cbaa8f0cfc58b1",
            "3246401c2ade4c479e5b780622fe5281",
            "2d20dde71d2044048e4c8b99ce214f7a",
            "47fc855728df4646afcf58d218dc8156",
            "f09687df74dd4f7cb7e6fa94bad314c5",
            "5ce63265c07c425f857243c258a56e50",
            "45a9a6ff4c9b4720a7f39b2ef7518536",
            "62aa66c791a54eb884b11b8733cac3a9",
            "45b18f05f1874f1aa6ff683553f204e5",
            "0a4206c6bc5646e4bfd017c2276392dd",
            "22dd66faf65642408a298feabe5b3dab",
            "bd5c8ca26ba241a3a3fbfa34ae5a42e8",
            "a8f2fb6bc05742b9826e1ac78642d629",
            "942bae5fc19f44ffa588b4db93733527",
            "74e009de22b34a949b6e9b367347914c",
            "1d6969b64dec47508f2f716669e8f88e",
            "6fa77b3097974d1185a0934823b25ebf",
            "81160027b13a4cfbb0137358a5a18844",
            "6174e23f957543d08661ede8e410a375",
            "744a164e6adb4389b9ab993a632fa5a8",
            "3756e9c62ef3405d847f766fc2211209",
            "5142a2a9e3964a1aabf62b7489afab8c",
            "3195b655571c4e24b747c6665b07ddb9",
            "91c9f3f575e547d4a92b186518277248",
            "c2807fd005a3428d9b1da0f74c155367",
            "0739fda46db3400b9918607b6c976954",
            "85d8704317b145a284ea009f73f599f6",
            "239972e76f434670b543f2e756b921cd",
            "197e03fe3c354365a82edf064cdf5efe",
            "1c400a0bd2004651aa86119c5a12dd6f",
            "864fc4f4012d488b894e18eb234138e9",
            "3d9a8a49b0944e8daac775da8feea31e",
            "9cb76b0988744277be5f2454f80d88ca",
            "dcf2aabe19334e46a2971a5f014c8b81",
            "84d580e9b0724bd9bdba0b167880e465",
            "43f34c356d974a04b697567ca3d03853",
            "165bef62dcdb4ae7a4fde12e2f8f123c",
            "89a8cfedcd4f4129a82167768c1ce8cd",
            "7ab3a2cd201f43858dcf340a3c28bc28",
            "c178a52e60a240f392512fe62d9747c8",
            "f09738e028ce4442acb3cb5654c82bf0",
            "aaf37fed21ce4f3bbe920b89bb7bce5f",
            "d9af677719534392b9c57228d467c8d7",
            "66ae19f2a60949a690b56500219564a3",
            "f151c46e4bd24d26b7d6e4beb40a75cc",
            "929dc22fe1a04a64904266fb0f2953b3",
            "8a2d7780b3d046389d95c28debc8b4d2",
            "4621a988f587442cb1bbd644befdf87d",
            "17c1ac20602d43c2a99d4fea1003d2a4",
            "4b98267db7c9439ea2707828776dbc60",
            "6c57a7f6d24c4b208c41991ec8cd8a23",
            "4dbd1597889b45bbb90475178d847599",
            "2026a53197334c28ad55be1fbd5b4766",
            "1d63bc6c3c864e528c255c511017251b",
            "ca785d8397814836b23c5c467591cbb9",
            "3295993bc814480dba075b9b675bb5b2",
            "7a8b1c9031184b3f94d4af37ba218989",
            "53ef5c97926a4c79983d53ccc2c96f1b",
            "ba74b8d8213847918b95d4dbf2a149e0",
            "95e4c8e486c445ab99ed5c61ea0e5dbe",
            "362749366a25491c9052194aef17501c",
            "7a2759a96924497d8595c9e77fcf1e17",
            "c6591df35c624cfeaa5893108740bec7",
            "48a264dc11be4ca8a687077bf6ee9ace",
            "98e37477b914493a8ba993041ae126c1",
            "c9bd0933e36d487e8e332b26c27e1841",
            "602ad9dc58d647e09b485311fcfb27a6",
            "24fb7e0dbdcd4d098c2317b4f6fbc143",
            "2fc649ba50b8404eab7b9e587068cef0",
            "4d7ddc5d009f45d69b3704563ed83020",
            "70789624c8a0434bac2514da220f620f",
            "5dac4cb8f6e6411180ccfaf1c0c10b6a",
            "6ecd74627f5047e28d4bbf885492e516",
            "10d9f692158b4331a51b487b05e266c6",
            "ce72510d4d7e40cf9129e89483907797",
            "fbacbbfcfd9441f5b30bff1f45684e78",
            "2537d45e3af94d05b4a554d8965b2c13",
            "ff6f94dff3924164afef49a113706d76",
            "9c811d5ca58043acb0d305cda9a85d24",
            "12b7f9314f0e4f02afb5982782aac5b2",
            "62a853096e5f4bc2957074aa6ebd7b9b",
            "8162ebae91c649eb8b266917bb0fd3c9",
            "cbf54a7eb539479a88b030edcbcde28e",
            "d7a7c4411b2f4898b009e3f5d9460c37",
            "76412d9bead24948b42a66d158c09a7f",
            "d817ecba0b8744d1ac95ce6d9aeca2f0",
            "2238114fd33441d592ccba6e6e33ec05",
            "c61152addc5048dbbe5728e7adffe935",
            "ea00bf8c54dd43deb9e6cb5fdd7233d0",
            "84ad6b74b1494fababb4e3e24e39680e",
            "d26b8272075f44249bde5d1a6c1ecae3",
            "eab41332b23e4d32b89efa462b2c2069",
            "65867938f17447b68796177cd43b791f",
            "8cdcfb368f88496780358deb2070f414",
            "b17cb184acdf4fb68ccd38ed821baadb",
            "9ff54243037a4582b83f63268d30bcdb",
            "b3fc29f979154931adf108e02d83d213",
            "c639a82a017e46f1b576d932babfd665",
            "d07dd2c30dbd40328ba28d387e4a9c88",
            "5fb57abdfc3844c6819f61816cd8a124",
            "d4f206c87af64c92a4fac8490ccebcde",
            "175abdc319784cd28b5ba0b3bab9f483",
            "1e0b830a731b453985b27f6b2dd0caf6",
            "a7404c4a2908422f81cfc4e8b6a38703",
            "73f74524e25c484ea48c2cf47e49da19",
            "9ddec071eb9f4ef3aa134604a3ccd61e",
            "664039da0e5549df8cf3f290dbf69954",
            "bdfdbb9d873749d5b3b6a8da3e895be5",
            "f4f5c65fd9334a3ab46885e1b0d9fa4e",
            "9a4fc53439874a4aa8bb8800cf7bf350",
            "9608266edcc440e180f0f4b65585c86a",
            "99411ff3c09a4324a8d5770165d14d95",
            "85f9950ee48f4b3488c26a6a5e2a3486",
            "7d88ecf2010a45f5a76cc2b207ec754d",
            "aeed7b071b5a413395438db238c6a487",
            "cf57767f3c454b08a3f73dcdbba5909c",
            "3be68d2584bc447faf0cc1683bd1784e",
            "f6c0f33cd959448eb4eb6f5ebb7e8260",
            "3b84d9d78c304e6e860a4bb29b6d1f77",
            "dbc62f8b6dc147f7b134e533baf75142",
            "1ef74d71bd664415b851a92288c2ba86",
            "2b2c15eeca9347f19df53f7473386bc8",
            "50982da7787d4caebe0c905598b45837",
            "ca8ef36c33754dc7b8a653f1cf27da63",
            "a2d0b59f8de34b01abeb700e473c745a",
            "1303f1e29476462c9e74f3d7d0bd77b8",
            "6cd9c2f540ae4dc9b8dc122fd36b45ab",
            "9d988a10bd284ffeaf21e87d091d3a02",
            "f192f0e9170f4667a25fc8478ab6c090",
            "7bd20baaa4984507bc77853341648f43",
            "ef2fe0a8702f4ed6a239513317c34dbe",
            "5c2bd87adc54429b98f5560f93122090",
            "0be06094eb744169ae16079bf72ccc01",
            "19ccc7ceb30944ef94cafe02bad769e1",
            "5eff7bfef19e4c03b5e01c940e785b10",
            "eb70765a3a8e48bfbf821a3e8a120a3c",
            "ec05686ef1524d30b47ab315e59e721d",
            "38373cd3e3c343128e7c685c0c438186",
            "a695620b400749a2af6a25398cf062e6",
            "229b9df342f54700b6b81e85101f3402",
            "233aaf246e3045e59e1a6c08e45d0bd4",
            "884f53ddcf04417cb3fc4726f614c654",
            "d90875bcc5984530b53f1447fd35446c",
            "6a89117e07fb4d7b932fa50d16a96ced",
            "7b39c02e6ed941d6b838d22aa6ead716",
            "aa7cf1df8d164cbe8c9eac6ad2dec698",
            "6950df7a87824f9690cf95c9b3526d28",
            "d251517b3307436ebaea46c2d6e7307b",
            "1df0adace6d049baa28977d51da6aba3",
            "26f8ee815c9d4ea7900f345ea17cb319",
            "2e0804fbc3234cbdaefc9d1f34e18f25",
            "c53c069d9c6b45b09c62ccb63a9a67c5",
            "8a532ab783d44324a07244e02a75710f",
            "96b93723f5914373af5aff858d39fb09",
            "43e83e815b9944729c1cca4047770bce",
            "d065fa7e3cbd4584b55130567b57232a",
            "476ba9b07fec4c88b9e1596cad6f7e77",
            "bbefe65514be4a3fac86543b86c22e29",
            "5c47e859d6b24a379f77f67ee878c635",
            "a954994a18f146a3826fc6e3baa16dd5",
            "d9785f4d3f3741319aa00e8d5645f5c6",
            "69849c44d5ca4ae78ac8e74075f6bb45",
            "a355071a61bb4173b207e94b9880cf14",
            "ccbf70af73dc4bc5a513d55ec636b10a",
            "35735588567a425b9fceaaf02266f521",
            "99ab5eb94efb435b8438186a83e3da74",
            "bf1bbdee17454e47a4a0984c1a71875f",
            "f0aebcf242a743db9dfeb040b0ca6d06",
            "2a339586dea945c682da5a923939a64f",
            "7b030179cc7d4f919f2284938fc2c2a0",
            "fbee4546cd424451828331036fce6d91",
            "2a20c15de6ce4f8a99073c1464c2c699",
            "ca85d0e806604038b562639bf5b2c4f9",
            "0ae053dd255440f29b87d27ab6bd615f",
            "72ab2716699c402392f603fb32afe733",
            "0a40a6d824eb4640b059eb24b861eaed",
            "d27cfc09589a4bbcba41f45920267c1e",
            "af757b4fb45749999ad059f5cd9fc760",
            "516ba835db8e4f57bb20034e8c97d8a4",
            "0d82767cd3b848e28816ee4fe58afb54",
            "66acc2fb207c40f5bc081f338ab73014",
            "0bde75f1fe554d46b4ba499dfad16466",
            "1a190e4730f24f8d89c12a7f0a75ff80",
            "a70a0a7d18354a4e8fecde3215ab8edb",
            "abdbe64c8ed441c78fde80226ad7f0a5",
            "392fb4b81f7f4a9998816d3738ddcf9c",
            "143873680ad044d8a378338a361da91d",
            "fe2def2b98a54c6999302e1bca1ff4ac",
            "034439ae2d2c4e36b183124c9bef0215",
            "aeb915b55cc0429b8d76c6536942c6f0",
            "2b7268a59bf24c9389178bb2235cefdb",
            "8707ca61809f425d9bb6413bc93015a0",
            "3bddffc1ebb94c73893a61905cbe8a1e",
            "ee8c08a08fee4b558546a1c2ca86e0c0",
            "f4949c53b94242859015e631742a2c9a",
            "6b73f5543dde4affb00c22094285cfff",
            "e566136ced9045b6b01e16cb2b28d0c3",
            "6adc6a35d7b74fea8f9f10a72a5c49f1",
            "f444064a92b44520a2e5ae718d15db15",
            "3906a49aef0b4a2fa2d021de46107de5",
            "5080ff29c7eb4a528448891b48c4549f",
            "7db5f913557f4be7ba60c61a28618950",
            "15069cc401ed478aaee837a2a78207b3",
            "bbd2510a62e446eea17caab661c1869f",
            "21d883d41f5d481f815e15a46ba0850e",
            "c9fd113558884bf58eb52ced000c10dc",
            "b0c4cf38c4bb424aa46accc8a4f65e19",
            "9790f1b688134985af8fcb0eac462799",
            "70d3c61a0cbc423a908e9be82cc46b62",
            "7f0756ae2cff495ab60f780c28a2282d",
            "092dfdb2f9664bb199e1919214ac02d7",
            "221a6f7511e24e489d445dd2a849e36a",
            "1f6fec2cecae43b692a063825e4c6c7e",
            "e7211fd4b8ed4b788f7c7054d13601c1",
            "d6cf727244864adb9719e6e065b5e44a",
            "402d1c802da841cc9a0ccdb7e4972887",
            "69788c5a8bdd4b6b8594176d4e96edb8",
            "5596e61201e7467a960aa1bed0e1ff41",
            "63bd2198a5714c7d876796bdbbf80ec1",
            "51082dc5b2f1462fabfd662b3b676e44",
            "95d483347fc44a6faffa775595c1e1cc",
            "da58d554a12e4d56a0dda0700801eea3",
            "a324f388c01741db8554d0270540357c",
            "8ae1de8215db4f3e845be44e4c92b290",
            "20fc0f86413c4c5c8a3d621911495e33",
            "c3d1740cbbb64bc0a3c094e9213f0baa",
            "32eb80676ade418fae17df8f160f1d3f",
            "a4e2c15f81794358a6d36317ccb355ea",
            "e70422f9bc414297a82f73a0de9490f1",
            "b763e71ff2534ed1b1ff7583be6c0ff3",
            "2678ba8e36214093a417b7142df4306e",
            "433e63bd205b4163904a7003699030e7",
            "8d869aa2c3ca4f67855c36f8d6dfde39",
            "c2c9fe0462a94c3583ef9df8ec87cfb5",
            "9baa4a7086d04758aa398c7818fea33a",
            "45aeb09d5da54706b3dc52ce640cbccf",
            "9adaf14b1bb3405db4eef99c59b9a9ee",
            "06528880ed704d49ad38570bb45b1645",
            "41e18cca19c941bbac40c1eb5656df43",
            "c29771a697844221abfaef34271684bd",
            "49f23db3c6c7434db5c6f8df563cfb63",
            "5336e8dacff843f2a51a848a8f841005",
            "4aa6e9dc22f54b7dbaf1cef71b1efc72",
            "abf14bca6083454caa1ba6770549c224",
            "cae553010dc841e3841b82cfe9e1ed91",
            "8a8c87a91ac84d8e85148d661d0ccd73",
            "f5b18d1c202f4787b661154abd44a34b",
            "c0b695e0436c41a2b620a945f80ef048",
            "dd97010673604f8fb77498c435de3c78",
            "0634b7399980456e994967b36efc1ab3",
            "1b67a348abfc47ee9b01c0415351d636",
            "45b8e7999b8d4ff2a9781eac2d57d2cb",
            "adf9890e6a68491a8ba13a7b51631b40",
            "deb7903cf0704446886ef371741e43b0",
            "1d78f5f979074a179aae862a9c9cb76e",
            "45efb400acc9489da13bd8ca3bae0a4d",
            "b60e5aed65244123885278f96e3b8e6a",
            "5c646ff1453348f6aa43e543594aebd5",
            "0dc3f237832841df887d5bb5494bbe7f",
            "6ea7dce780bc40ddb92b79c7c67989cf",
            "caa5de4861a243f788fddc4f95d005c6",
            "d5347fdc5eb54c8b952d5d164b64103f",
            "39d3262a559e4416be22ebb2c60ef81f",
            "a9ad261bb96043c991919ad792c0b8f2",
            "2eb9641061634c5d801f9ab43c7d8c4c",
            "e0d25670d6de449ca9eec7ad5dee7ddb",
            "e5b4a665b14b4ed3a746acd56705de04",
            "a82db63b14d74095b40860394b439be4",
            "edca4e55f5fc4860bb123bcb8fba76ec",
            "341ed8d9afef493287def27d89a03dfd",
            "561b19773b4d443f8a976b4c4bfe4777",
            "4dba60aca98849b3b65b98fdf5037ddb",
            "7573a59395b34380aedf55b75a8d3e97",
            "9e201be0fd834e6e9eee25c1ce998b4f",
            "7e3a1309e6dd422785531cf4090b2417"
          ]
        },
        "id": "KZIiZ1VkrEUy",
        "outputId": "27e0f41a-a993-488d-c86b-3749e006f121"
      },
      "outputs": [
        {
          "name": "stderr",
          "output_type": "stream",
          "text": [
            "2025-05-06 06:34:12,382\tINFO util.py:154 -- Missing packages: ['ipywidgets']. Run `pip install -U ipywidgets`, then restart the notebook server for rich notebook output.\n",
            "/workspace/ART/src/art/__init__.py:11: UserWarning: WARNING: Unsloth should be imported before transformers, peft to ensure all optimizations are applied. Your code may run slower or encounter memory issues without these optimizations.\n",
            "\n",
            "Please restructure your imports with 'import unsloth' at the top of your file.\n",
            "  import unsloth  # type: ignore\n"
          ]
        },
        {
          "name": "stdout",
          "output_type": "stream",
          "text": [
            "🦥 Unsloth: Will patch your computer to enable 2x faster free finetuning.\n",
            "Unsloth: Failed to patch Gemma3ForConditionalGeneration.\n",
            "🦥 Unsloth Zoo will now patch everything to make training faster!\n",
            "INFO 05-06 06:34:43 __init__.py:207] Automatically detected platform cuda.\n",
            "Standard import failed for UnslothDPOTrainer: No module named 'UnslothDPOTrainer'. Using tempfile instead!\n",
            "==((====))==  Unsloth 2025.3.19: Fast Qwen2 patching. Transformers: 4.51.3. vLLM: 0.7.3.\n",
            "   \\\\   /|    NVIDIA H100 80GB HBM3. Num GPUs = 1. Max memory: 79.205 GB. Platform: Linux.\n",
            "O^O/ \\_/ \\    Torch: 2.5.1+cu124. CUDA: 9.0. CUDA Toolkit: 12.4. Triton: 3.1.0\n",
            "\\        /    Bfloat16 = TRUE. FA [Xformers = 0.0.28.post3. FA2 = False]\n",
            " \"-____-\"     Free license: http://github.com/unslothai/unsloth\n",
            "Unsloth: Fast downloading is enabled - ignore downloading bars which are red colored!\n",
            "Unsloth: vLLM loading unsloth/qwen2.5-3b-instruct-unsloth-bnb-4bit with actual GPU utilization = 78.4%\n",
            "Unsloth: Your GPU has CUDA compute capability 9.0 with VRAM = 79.2 GB.\n",
            "Unsloth: Using conservativeness = 1.0. Chunked prefill tokens = 32768. Num Sequences = 368.\n",
            "Unsloth: vLLM's KV Cache can use up to 59.87 GB. Also swap space = 6 GB.\n",
            "INFO 05-06 06:35:16 config.py:549] This model supports multiple tasks: {'score', 'generate', 'reward', 'classify', 'embed'}. Defaulting to 'generate'.\n",
            "Unsloth: vLLM Bitsandbytes config using kwargs = {'load_in_8bit': False, 'load_in_4bit': True, 'bnb_4bit_compute_dtype': 'bfloat16', 'bnb_4bit_quant_storage': 'uint8', 'bnb_4bit_quant_type': 'nf4', 'bnb_4bit_use_double_quant': True, 'llm_int8_enable_fp32_cpu_offload': False, 'llm_int8_has_fp16_weight': False, 'llm_int8_skip_modules': ['lm_head', 'multi_modal_projector', 'merger', 'modality_projection', 'model.layers.2.mlp', 'model.layers.3.mlp', 'model.layers.30.mlp'], 'llm_int8_threshold': 6.0}\n",
            "INFO 05-06 06:35:18 llm_engine.py:234] Initializing a V0 LLM engine (v0.7.3) with config: model='unsloth/qwen2.5-3b-instruct-unsloth-bnb-4bit', speculative_config=None, tokenizer='unsloth/qwen2.5-3b-instruct-unsloth-bnb-4bit', skip_tokenizer_init=False, tokenizer_mode=auto, revision=None, override_neuron_config=None, tokenizer_revision=None, trust_remote_code=False, dtype=torch.bfloat16, max_seq_len=32768, download_dir=None, load_format=LoadFormat.BITSANDBYTES, tensor_parallel_size=1, pipeline_parallel_size=1, disable_custom_all_reduce=False, quantization=bitsandbytes, enforce_eager=False, kv_cache_dtype=auto,  device_config=cuda:0, decoding_config=DecodingConfig(guided_decoding_backend='xgrammar'), observability_config=ObservabilityConfig(otlp_traces_endpoint=None, collect_model_forward_time=False, collect_model_execute_time=False), seed=0, served_model_name=unsloth/qwen2.5-3b-instruct-unsloth-bnb-4bit, num_scheduler_steps=16, multi_step_stream_outputs=True, enable_prefix_caching=True, chunked_prefill_enabled=False, use_async_output_proc=True, disable_mm_preprocessor_cache=False, mm_processor_kwargs=None, pooler_config=None, compilation_config={\"level\":0,\"splitting_ops\":[],\"compile_sizes\":[],\"cudagraph_capture_sizes\":[368,360,352,344,336,328,320,312,304,296,288,280,272,264,256,248,240,232,224,216,208,200,192,184,176,168,160,152,144,136,128,120,112,104,96,88,80,72,64,56,48,40,32,24,16,8,4,2,1],\"max_capture_size\":368}, use_cached_outputs=False, \n",
            "INFO 05-06 06:35:19 cuda.py:229] Using Flash Attention backend.\n",
            "WARNING 05-06 06:35:19 registry.py:335] `mm_limits` has already been set for model=unsloth/qwen2.5-3b-instruct-unsloth-bnb-4bit, and will be overwritten by the new values.\n",
            "INFO 05-06 06:35:20 model_runner.py:1110] Starting to load model unsloth/qwen2.5-3b-instruct-unsloth-bnb-4bit...\n",
            "INFO 05-06 06:35:20 loader.py:1089] Loading weights with BitsAndBytes quantization.  May take a while ...\n",
            "INFO 05-06 06:35:20 weight_utils.py:254] Using model weights format ['*.safetensors']\n"
          ]
        },
        {
          "name": "stderr",
          "output_type": "stream",
          "text": [
            "Loading safetensors checkpoint shards:   0% Completed | 0/1 [00:00<?, ?it/s]\n",
            "Loading safetensors checkpoint shards: 100% Completed | 1/1 [00:00<00:00,  1.69it/s]\n",
            "Loading safetensors checkpoint shards: 100% Completed | 1/1 [00:00<00:00,  1.69it/s]\n",
            "\n",
            "Loading safetensors checkpoint shards:   0% Completed | 0/1 [00:00<?, ?it/s]\n",
            "Loading safetensors checkpoint shards: 100% Completed | 1/1 [00:00<00:00,  1.59it/s]\n",
            "Loading safetensors checkpoint shards: 100% Completed | 1/1 [00:00<00:00,  1.59it/s]\n",
            "\n"
          ]
        },
        {
          "name": "stdout",
          "output_type": "stream",
          "text": [
            "INFO 05-06 06:35:22 model_runner.py:1115] Loading model weights took 2.2265 GB\n",
            "INFO 05-06 06:35:22 punica_selector.py:18] Using PunicaWrapperGPU.\n",
            "INFO 05-06 06:35:27 worker.py:267] Memory profiling takes 4.73 seconds\n",
            "INFO 05-06 06:35:27 worker.py:267] the current vLLM instance can use total_gpu_memory (79.20GiB) x gpu_memory_utilization (0.78) = 62.10GiB\n",
            "INFO 05-06 06:35:27 worker.py:267] model weights take 2.23GiB; non_torch_memory takes 0.16GiB; PyTorch activation peak memory takes 2.71GiB; the rest of the memory reserved for KV Cache is 57.00GiB.\n",
            "INFO 05-06 06:35:27 executor_base.py:111] # cuda blocks: 103764, # CPU blocks: 10922\n",
            "INFO 05-06 06:35:27 executor_base.py:116] Maximum concurrency for 32768 tokens per request: 50.67x\n",
            "INFO 05-06 06:35:31 model_runner.py:1434] Capturing cudagraphs for decoding. This may lead to unexpected consequences if the model is not static. To run the model in eager mode, set 'enforce_eager=True' or use '--enforce-eager' in the CLI. If out-of-memory error occurs during cudagraph capture, consider decreasing `gpu_memory_utilization` or switching to eager mode. You can also reduce the `max_num_seqs` as needed to decrease memory usage.\n"
          ]
        },
        {
          "name": "stderr",
          "output_type": "stream",
          "text": [
            "Capturing CUDA graph shapes: 100%|██████████| 49/49 [00:26<00:00,  1.84it/s]\n"
          ]
        },
        {
          "name": "stdout",
          "output_type": "stream",
          "text": [
            "INFO 05-06 06:35:58 model_runner.py:1562] Graph capturing finished in 27 secs, took 1.30 GiB\n",
            "INFO 05-06 06:35:58 llm_engine.py:436] init engine (profile, create kv cache, warmup model) took 35.75 seconds\n"
          ]
        },
        {
          "name": "stderr",
          "output_type": "stream",
          "text": [
            "Unsloth 2025.3.19 patched 36 layers with 36 QKV layers, 36 O layers and 36 MLP layers.\n"
          ]
        }
      ],
      "source": [
        "# ───────────────────────────  7. Creating the model  ───────────────────────────\n",
        "from art.local import LocalBackend\n",
        "from openai import AsyncOpenAI\n",
        "\n",
        "model = art.TrainableModel(\n",
        "    name=MODEL_NAME,\n",
        "    project=\"codenames-rl\",\n",
        "    base_model=BASE_MODEL_NAME,\n",
        ")\n",
        "\n",
        "benchmark_model = art.Model(\n",
        "    name=VAL_BENCHMARK_MODEL,\n",
        "    project=\"codenames-rl\",\n",
        "    inference_model_name=VAL_BENCHMARK_MODEL,\n",
        "    inference_api_key=os.getenv(\"OPENAI_API_KEY\"),\n",
        "    inference_base_url=\"https://api.openai.com/v1\",\n",
        ")\n",
        "\n",
        "backend = LocalBackend(path=\"./.art\")\n",
        "\n",
        "await model.register(backend)\n",
        "await benchmark_model.register(backend)"
      ]
    },
    {
      "cell_type": "code",
      "execution_count": null,
      "metadata": {
        "id": "v2ESllEqjpla",
        "outputId": "e97995a9-649b-4b3a-cfcb-5392db8d9469"
      },
      "outputs": [
        {
          "name": "stderr",
          "output_type": "stream",
          "text": [
            "train: 100%|██████████████████████████████████████████████████████████████████████████████████████████████████████████████| 250/250 [02:46<00:00,  1.50it/s, loss=-0.265, grad_norm=0.295, policy_loss=-0.265]\n"
          ]
        },
        {
          "name": "stderr",
          "output_type": "stream",
          "text": [
            "iter 0: 100%|█████████████████████████████████████████████████████████████████████████████████████████████████████████████████████████████████████████████████████████████████| 10/10 [00:28<00:00,  2.90s/it]\n",
            "Running validation games: 100%|███████████████████████████████████████████████████████████████████████████████████████████████████████████████████████████████████████████████| 50/50 [00:11<00:00,  4.37it/s]\n",
            "\u001b[34m\u001b[1mwandb\u001b[0m: Currently logged in as: \u001b[33mopenpipe\u001b[0m (\u001b[33mopenpipe-team\u001b[0m) to \u001b[32mhttps://api.wandb.ai\u001b[0m. Use \u001b[1m`wandb login --relogin`\u001b[0m to force relogin\n"
          ]
        },
        {
          "data": {
            "text/html": [
              "Tracking run with wandb version 0.19.10"
            ],
            "text/plain": [
              "<IPython.core.display.HTML object>"
            ]
          },
          "metadata": {},
          "output_type": "display_data"
        },
        {
          "data": {
            "text/html": [
              "Run data is saved locally in <code>/workspace/codenames-rl/wandb/run-20250506_063655-codenames_model_op_3</code>"
            ],
            "text/plain": [
              "<IPython.core.display.HTML object>"
            ]
          },
          "metadata": {},
          "output_type": "display_data"
        },
        {
          "data": {
            "text/html": [
              "Syncing run <strong><a href='https://wandb.ai/openpipe-team/codenames-rl/runs/codenames_model_op_3' target=\"_blank\">codenames_model_op_3</a></strong> to <a href='https://wandb.ai/openpipe-team/codenames-rl' target=\"_blank\">Weights & Biases</a> (<a href='https://wandb.me/developer-guide' target=\"_blank\">docs</a>)<br>"
            ],
            "text/plain": [
              "<IPython.core.display.HTML object>"
            ]
          },
          "metadata": {},
          "output_type": "display_data"
        },
        {
          "data": {
            "text/html": [
              " View project at <a href='https://wandb.ai/openpipe-team/codenames-rl' target=\"_blank\">https://wandb.ai/openpipe-team/codenames-rl</a>"
            ],
            "text/plain": [
              "<IPython.core.display.HTML object>"
            ]
          },
          "metadata": {},
          "output_type": "display_data"
        },
        {
          "data": {
            "text/html": [
              " View run at <a href='https://wandb.ai/openpipe-team/codenames-rl/runs/codenames_model_op_3' target=\"_blank\">https://wandb.ai/openpipe-team/codenames-rl/runs/codenames_model_op_3</a>"
            ],
            "text/plain": [
              "<IPython.core.display.HTML object>"
            ]
          },
          "metadata": {},
          "output_type": "display_data"
        },
        {
          "name": "stdout",
          "output_type": "stream",
          "text": [
            "Packed 160 trajectories into 12 sequences of length 2048\n"
          ]
        },
        {
          "name": "stderr",
          "output_type": "stream",
          "text": [
            "train:   0%|                                                                                                                                                                           | 0/12 [00:00<?, ?it/s]==((====))==  Unsloth - 2x faster free finetuning | Num GPUs used = 1\n",
            "   \\\\   /|    Num examples = 10,000,000 | Num Epochs = 3 | Total steps = 30,000,000\n",
            "O^O/ \\_/ \\    Batch size per device = 2 | Gradient accumulation steps = 1\n",
            "\\        /    Data Parallel GPUs = 1 | Total batch size (2 x 1 x 1) = 2\n",
            " \"-____-\"     Trainable parameters = 14,966,784/3,000,000,000 (0.50% trained)\n",
            "train: 100%|███████████████████████████████████████████████████████████████████████████████████████████████████████████████████| 12/12 [00:10<00:00,  1.16it/s, loss=0.144, grad_norm=2.54, policy_loss=0.144]\n"
          ]
        },
        {
          "name": "stdout",
          "output_type": "stream",
          "text": [
            "Deleted checkpoint ./.art/codenames-rl/models/codenames_model_op_3/0000\n",
            "✓ finished iter 0\n"
          ]
        },
        {
          "name": "stderr",
          "output_type": "stream",
          "text": [
            "iter 1: 100%|█████████████████████████████████████████████████████████████████████████████████████████████████████████████████████████████████████████████████████████████████| 10/10 [00:26<00:00,  2.64s/it]\n"
          ]
        },
        {
          "name": "stdout",
          "output_type": "stream",
          "text": [
            "Packed 200 trajectories into 9 sequences of length 2048\n"
          ]
        },
        {
          "name": "stderr",
          "output_type": "stream",
          "text": [
            "train: 100%|███████████████████████████████████████████████████████████████████████████████████████████████████████████████████████| 9/9 [00:05<00:00,  1.66it/s, loss=3.15, grad_norm=26.3, policy_loss=3.15]\n"
          ]
        },
        {
          "name": "stdout",
          "output_type": "stream",
          "text": [
            "Deleted checkpoint ./.art/codenames-rl/models/codenames_model_op_3/0001\n",
            "✓ finished iter 1\n"
          ]
        },
        {
          "name": "stderr",
          "output_type": "stream",
          "text": [
            "iter 2: 100%|█████████████████████████████████████████████████████████████████████████████████████████████████████████████████████████████████████████████████████████████████| 10/10 [00:27<00:00,  2.72s/it]\n"
          ]
        },
        {
          "name": "stdout",
          "output_type": "stream",
          "text": [
            "Packed 80 trajectories into 3 sequences of length 2048\n"
          ]
        },
        {
          "name": "stderr",
          "output_type": "stream",
          "text": [
            "train: 100%|████████████████████████████████████████████████████████████████████████████████████████████████████████████████████████| 3/3 [00:03<00:00,  1.23s/it, loss=12.6, grad_norm=599, policy_loss=12.6]\n"
          ]
        },
        {
          "name": "stdout",
          "output_type": "stream",
          "text": [
            "Deleted checkpoint ./.art/codenames-rl/models/codenames_model_op_3/0002\n",
            "✓ finished iter 2\n"
          ]
        },
        {
          "name": "stderr",
          "output_type": "stream",
          "text": [
            "iter 3: 100%|█████████████████████████████████████████████████████████████████████████████████████████████████████████████████████████████████████████████████████████████████| 10/10 [00:28<00:00,  2.85s/it]\n"
          ]
        },
        {
          "name": "stdout",
          "output_type": "stream",
          "text": [
            "Packed 320 trajectories into 14 sequences of length 2048\n"
          ]
        },
        {
          "name": "stderr",
          "output_type": "stream",
          "text": [
            "train: 100%|███████████████████████████████████████████████████████████████████████████████████████████████████████████████████| 14/14 [00:07<00:00,  1.90it/s, loss=0.937, grad_norm=38.8, policy_loss=0.937]\n"
          ]
        },
        {
          "name": "stdout",
          "output_type": "stream",
          "text": [
            "Deleted checkpoint ./.art/codenames-rl/models/codenames_model_op_3/0003\n",
            "✓ finished iter 3\n"
          ]
        },
        {
          "name": "stderr",
          "output_type": "stream",
          "text": [
            "iter 4: 100%|█████████████████████████████████████████████████████████████████████████████████████████████████████████████████████████████████████████████████████████████████| 10/10 [00:28<00:00,  2.87s/it]\n"
          ]
        },
        {
          "name": "stdout",
          "output_type": "stream",
          "text": [
            "Packed 200 trajectories into 16 sequences of length 2048\n"
          ]
        },
        {
          "name": "stderr",
          "output_type": "stream",
          "text": [
            "train: 100%|██████████████████████████████████████████████████████████████████████████████████████████████████████████████████| 16/16 [00:08<00:00,  1.98it/s, loss=0.236, grad_norm=0.739, policy_loss=0.236]\n"
          ]
        },
        {
          "name": "stdout",
          "output_type": "stream",
          "text": [
            "Deleted checkpoint ./.art/codenames-rl/models/codenames_model_op_3/0004\n",
            "✓ finished iter 4\n"
          ]
        },
        {
          "name": "stderr",
          "output_type": "stream",
          "text": [
            "iter 5: 100%|█████████████████████████████████████████████████████████████████████████████████████████████████████████████████████████████████████████████████████████████████| 10/10 [00:28<00:00,  2.85s/it]\n",
            "Running validation games: 100%|███████████████████████████████████████████████████████████████████████████████████████████████████████████████████████████████████████████████| 50/50 [00:13<00:00,  3.76it/s]\n"
          ]
        },
        {
          "name": "stdout",
          "output_type": "stream",
          "text": [
            "Packed 80 trajectories into 6 sequences of length 2048\n"
          ]
        },
        {
          "name": "stderr",
          "output_type": "stream",
          "text": [
            "train: 100%|███████████████████████████████████████████████████████████████████████████████████████████████████████████████████| 6/6 [00:04<00:00,  1.37it/s, loss=-0.706, grad_norm=1.36, policy_loss=-0.706]\n"
          ]
        },
        {
          "name": "stdout",
          "output_type": "stream",
          "text": [
            "Deleted checkpoint ./.art/codenames-rl/models/codenames_model_op_3/0005\n",
            "✓ finished iter 5\n"
          ]
        },
        {
          "name": "stderr",
          "output_type": "stream",
          "text": [
            "iter 6: 100%|█████████████████████████████████████████████████████████████████████████████████████████████████████████████████████████████████████████████████████████████████| 10/10 [00:29<00:00,  2.95s/it]\n"
          ]
        },
        {
          "name": "stdout",
          "output_type": "stream",
          "text": [
            "Packed 240 trajectories into 8 sequences of length 2048\n"
          ]
        },
        {
          "name": "stderr",
          "output_type": "stream",
          "text": [
            "train: 100%|███████████████████████████████████████████████████████████████████████████████████████████████████████████████████████| 8/8 [00:05<00:00,  1.40it/s, loss=1.03, grad_norm=2.15, policy_loss=1.03]\n"
          ]
        },
        {
          "name": "stdout",
          "output_type": "stream",
          "text": [
            "Deleted checkpoint ./.art/codenames-rl/models/codenames_model_op_3/0006\n",
            "✓ finished iter 6\n"
          ]
        },
        {
          "name": "stderr",
          "output_type": "stream",
          "text": [
            "iter 7: 100%|█████████████████████████████████████████████████████████████████████████████████████████████████████████████████████████████████████████████████████████████████| 10/10 [00:31<00:00,  3.18s/it]\n"
          ]
        },
        {
          "name": "stdout",
          "output_type": "stream",
          "text": [
            "Packed 320 trajectories into 16 sequences of length 2048\n"
          ]
        },
        {
          "name": "stderr",
          "output_type": "stream",
          "text": [
            "train: 100%|███████████████████████████████████████████████████████████████████████████████████████████████████████████████████| 16/16 [00:09<00:00,  1.75it/s, loss=-0.35, grad_norm=1.23, policy_loss=-0.35]\n"
          ]
        },
        {
          "name": "stdout",
          "output_type": "stream",
          "text": [
            "Deleted checkpoint ./.art/codenames-rl/models/codenames_model_op_3/0007\n",
            "✓ finished iter 7\n"
          ]
        },
        {
          "name": "stderr",
          "output_type": "stream",
          "text": [
            "iter 8: 100%|█████████████████████████████████████████████████████████████████████████████████████████████████████████████████████████████████████████████████████████████████| 10/10 [00:29<00:00,  2.97s/it]\n"
          ]
        },
        {
          "name": "stdout",
          "output_type": "stream",
          "text": [
            "Packed 80 trajectories into 2 sequences of length 2048\n"
          ]
        },
        {
          "name": "stderr",
          "output_type": "stream",
          "text": [
            "train: 100%|███████████████████████████████████████████████████████████████████████████████████████████████████████████████████████████| 2/2 [00:03<00:00,  1.54s/it, loss=1.3, grad_norm=19, policy_loss=1.3]\n"
          ]
        },
        {
          "name": "stdout",
          "output_type": "stream",
          "text": [
            "Deleted checkpoint ./.art/codenames-rl/models/codenames_model_op_3/0008\n",
            "✓ finished iter 8\n"
          ]
        },
        {
          "name": "stderr",
          "output_type": "stream",
          "text": [
            "iter 9: 100%|█████████████████████████████████████████████████████████████████████████████████████████████████████████████████████████████████████████████████████████████████| 10/10 [00:30<00:00,  3.07s/it]\n"
          ]
        },
        {
          "name": "stdout",
          "output_type": "stream",
          "text": [
            "Packed 320 trajectories into 11 sequences of length 2048\n"
          ]
        },
        {
          "name": "stderr",
          "output_type": "stream",
          "text": [
            "train: 100%|███████████████████████████████████████████████████████████████████████████████████████████████████████████████████| 11/11 [00:06<00:00,  1.61it/s, loss=-1.45, grad_norm=1.98, policy_loss=-1.45]\n"
          ]
        },
        {
          "name": "stdout",
          "output_type": "stream",
          "text": [
            "Deleted checkpoint ./.art/codenames-rl/models/codenames_model_op_3/0009\n",
            "✓ finished iter 9\n"
          ]
        },
        {
          "name": "stderr",
          "output_type": "stream",
          "text": [
            "iter 10:   0%|                                                                                                                                                                         | 0/10 [00:00<?, ?it/s]"
          ]
        },
        {
          "name": "stdout",
          "output_type": "stream",
          "text": [
            "Deleted checkpoint ./.art/codenames-rl/models/codenames_model_op_3/0137\n",
            "✓ finished iter 137\n"
          ]
        },
        {
          "name": "stderr",
          "output_type": "stream",
          "text": [
            "iter 138: 100%|███████████████████████████████████████████████████████████████████████████████████████████████████████████████████████████████████████████████████████████████| 10/10 [02:57<00:00, 17.80s/it]\n"
          ]
        },
        {
          "name": "stdout",
          "output_type": "stream",
          "text": [
            "Packed 560 trajectories into 199 sequences of length 6144\n"
          ]
        },
        {
          "name": "stderr",
          "output_type": "stream",
          "text": [
            "train: 100%|████████████████████████████████████████████████████████████████████████████████████████████████████████████████| 199/199 [02:14<00:00,  1.48it/s, loss=0.279, grad_norm=0.281, policy_loss=0.279]\n"
          ]
        },
        {
          "name": "stdout",
          "output_type": "stream",
          "text": [
            "Deleted checkpoint ./.art/codenames-rl/models/codenames_model_op_3/0138\n",
            "✓ finished iter 138\n"
          ]
        },
        {
          "name": "stderr",
          "output_type": "stream",
          "text": [
            "iter 139: 100%|███████████████████████████████████████████████████████████████████████████████████████████████████████████████████████████████████████████████████████████████| 10/10 [02:03<00:00, 12.31s/it]\n"
          ]
        },
        {
          "name": "stdout",
          "output_type": "stream",
          "text": [
            "Packed 640 trajectories into 228 sequences of length 6144\n"
          ]
        },
        {
          "name": "stderr",
          "output_type": "stream",
          "text": [
            "train: 100%|█████████████████████████████████████████████████████████████████████████████████████████████████████████| 228/228 [02:33<00:00,  1.49it/s, loss=-0.0443, grad_norm=0.000549, policy_loss=-0.0443]\n"
          ]
        },
        {
          "name": "stdout",
          "output_type": "stream",
          "text": [
            "Deleted checkpoint ./.art/codenames-rl/models/codenames_model_op_3/0139\n",
            "✓ finished iter 139\n"
          ]
        },
        {
          "name": "stderr",
          "output_type": "stream",
          "text": [
            "iter 140: 100%|███████████████████████████████████████████████████████████████████████████████████████████████████████████████████████████████████████████████████████████████| 10/10 [03:32<00:00, 21.24s/it]\n",
            "Running validation games: 100%|███████████████████████████████████████████████████████████████████████████████████████████████████████████████████████████████████████████████| 50/50 [00:34<00:00,  1.45it/s]\n"
          ]
        },
        {
          "name": "stdout",
          "output_type": "stream",
          "text": [
            "Packed 640 trajectories into 329 sequences of length 6144\n"
          ]
        },
        {
          "name": "stderr",
          "output_type": "stream",
          "text": [
            "train: 100%|███████████████████████████████████████████████████████████████████████████████████████████████████████████| 329/329 [03:40<00:00,  1.49it/s, loss=-0.186, grad_norm=0.000985, policy_loss=-0.186]\n"
          ]
        },
        {
          "name": "stdout",
          "output_type": "stream",
          "text": [
            "Deleted checkpoint ./.art/codenames-rl/models/codenames_model_op_3/0140\n",
            "✓ finished iter 140\n"
          ]
        }
      ],
      "source": [
        "# ───────────────────────────  8. Training loop  ───────────────────────────\n",
        "for step in range(await model.get_step(), NUM_STEPS):\n",
        "    # Our model under training plays against itself and learns from the rewards for each trajectory\n",
        "    nested_groups = await tqdm_asyncio.gather(\n",
        "        *[\n",
        "            conduct_games(\n",
        "                blue_model=model,\n",
        "                red_model=model,\n",
        "                num_rollouts_per_game=NUM_ROLLOUTS_PER_GAME,\n",
        "                game_id=gid,\n",
        "                step=step,\n",
        "            )\n",
        "            for gid in range(NUM_GAMES_PER_STEP)\n",
        "        ],\n",
        "        total=NUM_GAMES_PER_STEP,\n",
        "        desc=f\"step {step}\",\n",
        "    )\n",
        "\n",
        "    if step % 5 == 0:\n",
        "        # We run validation games to evaluate the performance of our model against the benchmark model. Here, the reward is 1 if our model wins, and 0 otherwise.\n",
        "        val_groups = await run_validation_games(\n",
        "            my_model=model,\n",
        "            benchmark_model=benchmark_model,\n",
        "            num_validation_games=NUM_VALIDATION_GAMES,\n",
        "        )\n",
        "        await model.log(val_groups)\n",
        "\n",
        "    flat_groups: List[art.TrajectoryGroup] = [\n",
        "        g for sub in nested_groups for g in sub\n",
        "    ]\n",
        "    await model.train(\n",
        "        trajectory_groups=flat_groups,\n",
        "        config=art.TrainConfig(learning_rate=LEARNING_RATE, beta=BETA),\n",
        "    )\n",
        "    await model.delete_checkpoints()\n",
        "    print(f\"✓ finished step {step}\")"
      ]
    },
    {
      "cell_type": "code",
      "execution_count": null,
      "metadata": {
        "id": "vGh6yN4Jjplb",
        "outputId": "d2cbc6b6-a63b-4f10-fadb-904d3bdbb3a3"
      },
      "outputs": [
        {
          "name": "stderr",
          "output_type": "stream",
          "text": [
            "2025-05-06 19:52:19,260\tINFO util.py:154 -- Missing packages: ['ipywidgets']. Run `pip install -U ipywidgets`, then restart the notebook server for rich notebook output.\n",
            "Running validation games: 100%|███████████████████████████████████████████████████████████████████████████████████████████████████████████████████████████████████████████████| 50/50 [00:28<00:00,  1.74it/s]\n"
          ]
        }
      ],
      "source": [
        "# ───────────────────────────  9. Benchmark model  ───────────────────────────\n",
        "# We will benchmark our model by comparing the win rates against the benchmark model with that of gpt-4.1-nano and gpt-4.1-mini.\n",
        "gpt_41_nano = art.Model(\n",
        "    name=\"gpt-4.1-nano\",\n",
        "    project=\"codenames-rl\",\n",
        "    inference_model_name=\"gpt-4.1-nano\",\n",
        "    inference_api_key=os.getenv(\"OPENAI_API_KEY\"),\n",
        "    inference_base_url=\"https://api.openai.com/v1\",\n",
        ")\n",
        "gpt_41_mini = art.Model(\n",
        "    name=\"gpt-4.1-mini\",\n",
        "    project=\"codenames-rl\",\n",
        "    inference_model_name=\"gpt-4.1-mini\",\n",
        "    inference_api_key=os.getenv(\"OPENAI_API_KEY\"),\n",
        "    inference_base_url=\"https://api.openai.com/v1\",\n",
        ")\n",
        "\n",
        "gpt_models = [gpt_41_nano, gpt_41_mini]\n",
        "\n",
        "for gpt_model in gpt_models:\n",
        "    await gpt_model.register(backend)\n",
        "    val_groups = await run_validation_games(\n",
        "        my_model=gpt_model,\n",
        "        benchmark_model=benchmark_model,\n",
        "        num_validation_games=NUM_VALIDATION_GAMES,\n",
        "    )\n",
        "    await gpt_model.log(val_groups)"
      ]
    },
    {
      "cell_type": "code",
      "execution_count": null,
      "metadata": {
        "id": "_NQIBAlajplb",
        "outputId": "a171f7fa-0690-495f-d3e8-269049fbb6dc"
      },
      "outputs": [],
      "source": [
        "# ───────────────────────────  10. Plotting Utilities  ───────────────────────────\n",
        "import importlib\n",
        "import os\n",
        "import polars as pl\n",
        "\n",
        "from art.utils.benchmarking.load_trajectories import load_trajectories\n",
        "from art.utils.benchmarking.charts import training_progress_chart\n",
        "from art.utils.benchmarking.types import BenchmarkModelKey\n",
        "\n",
        "df = await load_trajectories(\n",
        "    project_name=\"codenames-rl\",\n",
        "    models=[MODEL_NAME, \"gpt-4.1-nano\", \"gpt-4.1-mini\"],\n",
        "    art_path=\"./.art\",\n",
        ")"
      ]
    },
    {
      "cell_type": "code",
      "execution_count": null,
      "metadata": {
        "id": "eFWWjkY5jplb",
        "outputId": "253504e3-38db-40ba-88a2-cf910d3255da"
      },
      "outputs": [
        {
          "data": {
            "image/png": "[encoded data removed]",
            "text/plain": [
              "<Figure size 1800x1200 with 1 Axes>"
            ]
          },
          "metadata": {},
          "output_type": "display_data"
        }
      ],
      "source": [
        "# ───────────────────────────  11. Plotting Win Rate over Time  ───────────────────────────\n",
        "line_graph = training_progress_chart(\n",
        "    df,\n",
        "    \"win_rate\",\n",
        "    models=[\n",
        "        BenchmarkModelKey(MODEL_NAME, MODEL_NAME, \"val\"),\n",
        "        BenchmarkModelKey(\"gpt-4.1-nano\", \"GPT-4.1-nano\", \"val\"),\n",
        "        BenchmarkModelKey(\"gpt-4.1-mini\", \"GPT-4.1-mini\", \"val\"),\n",
        "    ],\n",
        "    title=\"Win Rate over Time\",\n",
        "    y_label=\"Win Rate\",\n",
        ")\n",
        "\n",
        "line_graph.savefig(\"win_rate_over_time.png\")"
      ]
    },
    {
      "cell_type": "markdown",
      "metadata": {
        "id": "I7fdMxpKjakE"
      },
      "source": [
        "<div class=\"align-center\">\n",
        "<a href=\"https://github.com/openpipe/art\"><img src=\"https://github.com/openpipe/art/raw/notebooks/assets/ART_pill.png\" height=\"50\"></a>\n",
        "<a href=\"https://discord.com/invite/dnseNZuQ\"><img src=\"https://github.com/openpipe/art/raw/notebooks/assets/Discord_pill.png\" height=\"50\"></a>\n",
        "<a href=\"https://openpipe.ai/blog/art-e-mail-agent\"><img src=\"https://github.com/openpipe/art/raw/main/assets/ART_E_pill.png\" height=\"50\"></a>\n",
        "\n",
        "\n",
        "Questions? Join the Discord and ask away! For feature requests or to leave a star, visit our [Github](https://github.com/openpipe/art).\n",
        "</div>\n"
      ]
    }
  ],
  "metadata": {
    "accelerator": "GPU",
    "colab": {
      "gpuType": "T4",
      "provenance": []
    },
    "kernelspec": {
      "display_name": "Python 3",
      "name": "python3"
    },
    "language_info": {
      "name": "python"
    }
  },
  "nbformat": 4,
  "nbformat_minor": 0
}
