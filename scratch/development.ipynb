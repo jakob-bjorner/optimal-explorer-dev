{
 "cells": [
  {
   "cell_type": "markdown",
   "id": "596303ce",
   "metadata": {},
   "source": [
    "# Jakob's Handy Dandy Development Notebook"
   ]
  },
  {
   "cell_type": "code",
   "execution_count": null,
   "id": "5b5b61a1",
   "metadata": {},
   "outputs": [
    {
     "name": "stdout",
     "output_type": "stream",
     "text": [
      "total filtered words: 9365\n",
      "words removed: 5490\n",
      "['abeng', 'abers', 'abets', 'abeys', 'abhor', 'abide', 'abies', 'abius', 'abjud', 'abled', 'abler', 'ables', 'ablet', 'ablow', 'abmho', 'abnet', 'abode', 'abohm', 'aboil', 'abord', 'abore', 'aborn', 'abort', 'about', 'above', 'abrim', 'abrin', 'abris', 'absey', 'absit', 'abune', 'aburn', 'abuse', 'abuts', 'abyes', 'abysm', 'acedy', 'acerb', 'acers', 'ached', 'acher', 'aches', 'achey', 'acids', 'acidy', 'acies', 'acing', 'acker', 'acmes', 'acned', 'acnes', 'acoel', 'acold', 'acone', 'acorn', 'acred', 'acres', 'acrid', 'acron', 'acros', 'acryl', 'acted', 'actin', 'acton', 'actor', 'actus', 'acute', 'acyls', 'adbot', 'adept', 'adhoc', 'adieu', 'adios', 'adits', 'adlib', 'admen', 'admin', 'admit', 'admix', 'adnex', 'adobe', 'adopt', 'adorb', 'adore', 'adorn', 'adown', 'adoze', 'adret', 'adrip', 'adsum', 'aduki', 'adult', 'adunc', 'adust', 'advew', 'advts', 'adyts', 'adzes', 'aegis', 'aeons', 'aeros', 'aesir', 'aevum', 'afion', 'afire', 'aflow', 'afore', 'afoul', 'afret', 'afrit', 'afros', 'after', 'aftos', 'agent', 'agers', 'agile', 'agios', 'agism', 'agist', 'aglet', 'agley', 'aglow', 'aglus', 'agone', 'agons', 'agony', 'agrin', 'agros', 'agrum', 'agued', 'agues', 'aguey', 'agush', 'aguti', 'ahent', 'ahind', 'ahing', 'ahint', 'ahold', 'ahole', 'aider', 'aides', 'aidos', 'aiery', 'aight', 'ailed', 'aimed', 'aimer', 'aired', 'airns', 'airth', 'airts', 'aisle', 'aitch', 'aitus', 'aiver', 'aixes', 'aiyoh', 'aizle', 'ajies', 'aking', 'aksed', 'albid', 'album', 'alces', 'alcid', 'alcos', 'alder', 'aleck', 'alecs', 'alefs', 'aleft', 'aleph', 'alert', 'alews', 'algid', 'algin', 'algor', 'algos', 'algum', 'alick', 'alien', 'alifs', 'align', 'alike', 'alims', 'aline', 'alios', 'alist', 'alive', 'alkie', 'alkin', 'alkos', 'alkyd', 'almeh', 'almes', 'almud', 'almug', 'alods', 'aloed', 'aloes', 'aloft', 'aloin', 'alone', 'along', 'alose', 'aloud', 'alowe', 'alter', 'altho', 'altos', 'alums', 'alumy', 'alure', 'alurk', 'amber', 'ambit', 'amble', 'ambos', 'ambry', 'amend', 'amens', 'ament', 'amice', 'amide', 'amido', 'amids', 'amies', 'amigo', 'amine', 'amino', 'amins', 'amirs', 'amity', 'amnic', 'amnio', 'amoks', 'amole', 'among', 'amore', 'amort', 'amour', 'amove', 'amowt', 'amped', 'ample', 'amply', 'ampul', 'amrit', 'amuck', 'amuse', 'amyls', 'ancho', 'ancle', 'andic', 'andro', 'angel', 'anger', 'angle', 'anglo', 'angry', 'angst', 'anigh', 'anile', 'anils', 'anime', 'anise', 'anker', 'ankhs', 'ankle', 'ankus', 'anode', 'anole', 'anomy', 'anted', 'antes', 'antic', 'antis', 'antre', 'antsy', 'anvil', 'apers', 'apert', 'apery', 'aphid', 'aphis', 'aping', 'apiol', 'apish', 'apism', 'apode', 'apods', 'apols', 'aport', 'apres', 'apron', 'apted', 'apter', 'aptly', 'arced', 'archi', 'arcos', 'arcus', 'ardeb', 'arefy', 'areic', 'arets', 'argil', 'argle', 'argol', 'argon', 'argot', 'argue', 'argus', 'ariel', 'arils', 'ariot', 'arise', 'arish', 'arith', 'arked', 'arled', 'arles', 'armed', 'armet', 'armil', 'arnis', 'arnut', 'aroid', 'arose', 'arpen', 'arsed', 'arsey', 'arson', 'artel', 'artic', 'artis', 'artly', 'artsy', 'aruhe', 'arums', 'arvos', 'aryls', 'ascon', 'ascot', 'asdic', 'ashed', 'ashen', 'ashet', 'aside', 'asity', 'asked', 'asker', 'askew', 'askoi', 'aspen', 'asper', 'aspic', 'aspie', 'aspro', 'aster', 'astir', 'astun', 'aswim', 'atimy', 'atmos', 'atocs', 'atoke', 'atoks', 'atoms', 'atomy', 'atone', 'atony', 'atopy', 'atrip', 'aucht', 'audio', 'audit', 'augen', 'auger', 'auges', 'aught', 'aulic', 'auloi', 'aulos', 'aumil', 'aunes', 'aunts', 'aunty', 'aurei', 'aures', 'auric', 'auris', 'autos', 'auxin', 'avels', 'avens', 'avers', 'avert', 'avine', 'avion', 'avise', 'aviso', 'avize', 'avoid', 'avows', 'avyze', 'awdls', 'aweto', 'awful', 'awing', 'awkin', 'awmry', 'awned', 'awner', 'awoke', 'awols', 'awork', 'axels', 'axile', 'axils', 'axing', 'axiom', 'axion', 'axite', 'axled', 'axles', 'axmen', 'axoid', 'axone', 'axons', 'ayelp', 'aygre', 'ayins', 'ayont', 'ayres', 'ayrie', 'azide', 'azido', 'azine', 'azlon', 'azoic', 'azole', 'azons', 'azote', 'azoth', 'azuki', 'azure', 'azurn', 'azury', 'azyme', 'azyms', 'bachs', 'backs', 'backy', 'bacne', 'bacon', 'badge', 'badly', 'baels', 'bafts', 'bagel', 'baghs', 'bagie', 'bagsy', 'bahts', 'bahus', 'bahut', 'baiks', 'baile', 'bails', 'bairn', 'baith', 'baits', 'baize', 'bajri', 'bajus', 'baked', 'baken', 'baker', 'bakes', 'balds', 'baldy', 'baled', 'baler', 'bales', 'balks', 'balky', 'balms', 'balmy', 'baloi', 'balon', 'balot', 'balti', 'balun', 'balus', 'balut', 'banco', 'bancs', 'bandh', 'bands', 'bandy', 'baned', 'banes', 'bangs', 'banjo', 'banks', 'banky', 'bants', 'bantu', 'banty', 'bantz', 'baons', 'baozi', 'bapus', 'barde', 'bardo', 'bards', 'bardy', 'bared', 'bares', 'barfi', 'barfs', 'barfy', 'barge', 'baric', 'barks', 'barky', 'barms', 'barmy', 'barns', 'barny', 'baron', 'barps', 'barye', 'based', 'basen', 'baser', 'basho', 'basic', 'basij', 'basil', 'basin', 'bason', 'baste', 'basti', 'basto', 'batch', 'bated', 'bates', 'bathe', 'baths', 'batik', 'baton', 'batos', 'bauds', 'bauks', 'baulk', 'baurs', 'bavin', 'bawds', 'bawdy', 'bawks', 'bawls', 'bawns', 'bawrs', 'bawty', 'bayed', 'bayer', 'bayes', 'bayle', 'bayou', 'bayts', 'bdays', 'beach', 'beads', 'beady', 'beaks', 'beaky', 'beals', 'beams', 'beamy', 'beano', 'beans', 'beany', 'beard', 'bears', 'beast', 'beath', 'beats', 'beaty', 'beaus', 'beaut', 'beaux', 'becap', 'becks', 'bedim', 'befit', 'befog', 'begad', 'began', 'begar', 'begat', 'begin', 'begot', 'begum', 'begun', 'beigy', 'being', 'beins', 'beira', 'beisa', 'bekah', 'belah', 'belar', 'belay', 'belch', 'belga', 'belit', 'belon', 'below', 'belts', 'bemad', 'bemas', 'bemix', 'bemud', 'bench', 'bends', 'bendy', 'benga', 'benis', 'benji', 'bento', 'bents', 'benty', 'bepat', 'beray', 'bergs', 'berko', 'berks', 'berms', 'berth', 'beryl', 'besat', 'besaw', 'besit', 'besom', 'besot', 'besti', 'betas', 'beths', 'betid', 'beton', 'bevan', 'bevor', 'bewdy', 'bewig', 'bezil', 'bhais', 'bhaji', 'bhang', 'bhats', 'bhels', 'bhuna', 'bhuts', 'biach', 'bialy', 'bicep', 'bices', 'bicky', 'bider', 'bides', 'bidet', 'bidon', 'bield', 'biers', 'bigae', 'bigha', 'bight', 'bigly', 'bigos', 'bigot', 'bihon', 'bijou', 'biked', 'biker', 'bikes', 'bilat', 'biled', 'biles', 'bilge', 'bilgy', 'bilks', 'bimah', 'bimas', 'binal', 'binds', 'biner', 'bines', 'binge', 'bingo', 'bings', 'bingy', 'binks', 'binky', 'bints', 'biogs', 'biome', 'bions', 'biont', 'biose', 'biota', 'biped', 'bipod', 'birch', 'birdo', 'birds', 'birks', 'birle', 'birls', 'biros', 'birse', 'birsy', 'birth', 'birze', 'bisom', 'bison', 'bitch', 'biter', 'bites', 'bitey', 'bitos', 'bitou', 'bitsy', 'bizes', 'black', 'blade', 'blads', 'blady', 'blaer', 'blaes', 'blags', 'blahs', 'blain', 'blame', 'blams', 'blanc', 'bland', 'blank', 'blare', 'blart', 'blase', 'blash', 'blast', 'blate', 'blats', 'blaud', 'blawn', 'blaws', 'blays', 'blaze', 'bleah', 'bleak', 'blear', 'bleat', 'blech', 'blend', 'blent', 'blert', 'blest', 'blets', 'bleys', 'blimp', 'blimy', 'blind', 'bling', 'blink', 'blins', 'bliny', 'blips', 'blist', 'blite', 'blits', 'blitz', 'blive', 'bloat', 'block', 'blocs', 'blogs', 'bloke', 'blond', 'blonx', 'blore', 'blots', 'blown', 'blows', 'blowy', 'blude', 'bluds', 'bludy', 'blued', 'bluer', 'blues', 'bluet', 'bluey', 'bluid', 'blume', 'blunk', 'blunt', 'blurs', 'blurt', 'blush', 'blype', 'boaks', 'board', 'boars', 'boart', 'boast', 'boats', 'boaty', 'boche', 'bocks', 'bodes', 'bodge', 'bodgy', 'bodhi', 'bodle', 'boeps', 'boers', 'boeti', 'boets', 'boeuf', 'bogan', 'bogey', 'bogie', 'bogle', 'bogue', 'bogus', 'bohea', 'boils', 'boing', 'boink', 'boite', 'boked', 'bokeh', 'bokes', 'bolar', 'bolas', 'bolds', 'boles', 'bolet', 'bolix', 'bolks', 'bolts', 'bolus', 'bomas', 'bonce', 'bonds', 'boned', 'boner', 'bones', 'boney', 'bongs', 'bonie', 'bonks', 'bonum', 'bonus', 'bonza', 'bonze', 'borak', 'boral', 'boras', 'borax', 'borde', 'bords', 'bored', 'borek', 'borel', 'bores', 'boric', 'borks', 'borms', 'borna', 'borne', 'borts', 'borty', 'bortz', 'bosey', 'bosie', 'bosky', 'bosun', 'botas', 'botch', 'boteh', 'botel', 'botes', 'botew', 'bothy', 'bouge', 'bough', 'bouks', 'boule', 'boult', 'bound', 'bouns', 'bourd', 'bourg', 'bourn', 'bouse', 'bousy', 'bouts', 'bovid', 'bowat', 'bowed', 'bowel', 'bower', 'bowes', 'bowet', 'bowie', 'bowls', 'bowne', 'bowrs', 'bowse', 'boxed', 'boxen', 'boxer', 'boxes', 'boxla', 'boxty', 'boyar', 'boyau', 'boyed', 'boyfs', 'boygs', 'boyla', 'brace', 'brach', 'brack', 'bract', 'brads', 'braes', 'brags', 'brahs', 'braid', 'brail', 'brain', 'brake', 'braks', 'braky', 'brame', 'brand', 'brane', 'brank', 'brans', 'brant', 'brash', 'brast', 'brats', 'brave', 'bravi', 'bravo', 'brawl', 'brawn', 'braws', 'braxy', 'brays', 'braze', 'bread', 'break', 'bream', 'breds', 'breid', 'breis', 'brens', 'brent', 'brews', 'breys', 'brick', 'bride', 'brief', 'bries', 'brigs', 'briks', 'brims', 'brine', 'bring', 'brink', 'brins', 'briny', 'brios', 'brise', 'brisk', 'brith', 'brits', 'brize', 'broad', 'broch', 'brock', 'brods', 'brogh', 'brogs', 'broil', 'broke', 'brome', 'bronc', 'brond', 'brose', 'brosy', 'broth', 'brown', 'brows', 'bruck', 'brugh', 'bruhs', 'bruin', 'bruit', 'bruja', 'brujo', 'brule', 'brume', 'brung', 'brunt', 'brush', 'brusk', 'brust', 'brute', 'bruts', 'bruvs', 'buats', 'buaze', 'bucko', 'bucks', 'budas', 'budes', 'budge', 'budis', 'budos', 'buena', 'bufos', 'bufty', 'bugan', 'bugle', 'buhls', 'buhrs', 'buiks', 'build', 'built', 'buist', 'bukes', 'bukos', 'bulge', 'bulgy', 'bulks', 'bulky', 'bulse', 'bumfs', 'bumph', 'bumps', 'bumpy', 'bunas', 'bunce', 'bunch', 'bunco', 'bunde', 'bundh', 'bunds', 'bundt', 'bundy', 'bungs', 'bungy', 'bunia', 'bunje', 'bunjy', 'bunko', 'bunks', 'bunts', 'bunty', 'bunya', 'buoys', 'buran', 'buras', 'burds', 'buret', 'burfi', 'burgh', 'burgs', 'burin', 'burka', 'burke', 'burks', 'burls', 'burly', 'burns', 'burnt', 'burps', 'burqa', 'bursa', 'burse', 'burst', 'bused', 'bushy', 'busky', 'busti', 'busty', 'butch', 'buteo', 'butes', 'butle', 'butoh', 'butyl', 'buxom', 'buyer', 'buyin', 'bwazi', 'bydes', 'byked', 'bykes', 'bylaw', 'byres', 'byrls', 'bytes', 'caber', 'cabin', 'cable', 'cabre', 'cades', 'cadet', 'cadge', 'cadgy', 'cadie', 'cadis', 'cadre', 'cafes', 'caged', 'cager', 'cages', 'cagey', 'cagot', 'cahow', 'caids', 'cains', 'caird', 'cairn', 'cajon', 'cajun', 'caked', 'cakes', 'cakey', 'calfs', 'calid', 'calif', 'calix', 'calks', 'calms', 'calmy', 'calos', 'calps', 'calve', 'calyx', 'camel', 'cameo', 'cames', 'camis', 'camos', 'campi', 'campo', 'camps', 'campy', 'camus', 'cando', 'candy', 'caned', 'caneh', 'caner', 'canes', 'cangs', 'canid', 'canoe', 'canso', 'canst', 'canti', 'canto', 'cants', 'canty', 'caped', 'caper', 'capes', 'capex', 'caphs', 'capiz', 'caple', 'capon', 'capos', 'capot', 'capri', 'capul', 'caput', 'carbo', 'carbs', 'carby', 'cardi', 'cards', 'cardy', 'cared', 'cares', 'caret', 'carex', 'cargo', 'carks', 'carle', 'carls', 'carne', 'carns', 'carny', 'carob', 'carol', 'carom', 'caron', 'carpe', 'carpi', 'carps', 'carse', 'carte', 'carts', 'carve', 'carvy', 'cased', 'caser', 'casky', 'caste', 'cater', 'cates', 'cauks', 'cauld', 'caulk', 'cauls', 'caums', 'caups', 'cauri', 'cause', 'caved', 'cavel', 'caver', 'caves', 'cavie', 'cavil', 'cavus', 'cawed', 'cawks', 'caxon', 'cebid', 'cedar', 'cedis', 'ceiba', 'ceils', 'celom', 'celts', 'cento', 'cents', 'centu', 'ceorl', 'ceria', 'ceros', 'certs', 'certy', 'cesta', 'cesti', 'cetyl', 'chado', 'chads', 'chafe', 'chaft', 'chain', 'chair', 'chais', 'chalk', 'chals', 'champ', 'chams', 'chang', 'chank', 'chant', 'chaos', 'chape', 'chaps', 'chapt', 'chard', 'chare', 'chark', 'charm', 'chars', 'chart', 'chary', 'chase', 'chasm', 'chats', 'chave', 'chavs', 'chawk', 'chawl', 'chaws', 'chays', 'cheap', 'cheat', 'cheba', 'chedi', 'chefs', 'cheka', 'chela', 'chelp', 'chemo', 'chems', 'chert', 'chest', 'chevy', 'chews', 'chewy', 'chiao', 'chias', 'chiba', 'chibs', 'chide', 'chief', 'chiel', 'chiko', 'chiks', 'child', 'chile', 'chimb', 'chime', 'chimo', 'chimp', 'china', 'chine', 'ching', 'chink', 'chino', 'chins', 'chips', 'chirk', 'chirl', 'chirm', 'chiro', 'chirp', 'chirt', 'chiru', 'chits', 'chiva', 'chive', 'chivs', 'chivy', 'chode', 'chogs', 'choil', 'choir', 'choke', 'choky', 'chola', 'choli', 'chomp', 'chons', 'chops', 'chord', 'chore', 'chose', 'chota', 'chout', 'choux', 'chowk', 'chows', 'chubs', 'chufa', 'chugs', 'chump', 'chums', 'chunk', 'churl', 'churn', 'chuse', 'chute', 'chuts', 'chyle', 'chyme', 'chynd', 'cibol', 'cider', 'cides', 'ciels', 'cigar', 'cimar', 'cimex', 'cines', 'cinqs', 'cions', 'cires', 'cirls', 'cital', 'cited', 'citer', 'cites', 'cives', 'civet', 'clade', 'clads', 'claes', 'clags', 'claim', 'clair', 'clame', 'clamp', 'clams', 'clang', 'clank', 'clans', 'claps', 'clapt', 'claro', 'clart', 'clary', 'clash', 'clasp', 'clast', 'clats', 'claut', 'clave', 'clavi', 'claws', 'clays', 'clean', 'clear', 'cleat', 'clefs', 'cleft', 'clegs', 'cleik', 'clems', 'clept', 'clerk', 'clews', 'clied', 'clies', 'clift', 'climb', 'clime', 'cline', 'cling', 'clink', 'clint', 'clipe', 'clips', 'clipt', 'clits', 'cloak', 'cloam', 'clods', 'clogs', 'cloke', 'clomb', 'clomp', 'clone', 'clonk', 'clons', 'clops', 'close', 'clote', 'cloth', 'clots', 'cloud', 'clour', 'clous', 'clout', 'clove', 'clown', 'clows', 'cloye', 'cloys', 'cloze', 'clubs', 'clued', 'clues', 'cluey', 'clump', 'clung', 'clunk', 'clype', 'cnida', 'coady', 'coals', 'coaly', 'coapt', 'coarb', 'coast', 'coate', 'coati', 'coats', 'cobia', 'coble', 'cobra', 'cobza', 'codas', 'coden', 'coder', 'codes', 'codex', 'coeds', 'cogie', 'cogue', 'cohab', 'cohen', 'coifs', 'coign', 'coils', 'coins', 'coirs', 'coits', 'coked', 'cokes', 'cokey', 'colas', 'colby', 'colds', 'coled', 'coles', 'coley', 'colin', 'colts', 'colza', 'comae', 'comal', 'comas', 'combe', 'combi', 'combs', 'comby', 'comer', 'comes', 'comet', 'comfy', 'comix', 'comps', 'compt', 'comte', 'comus', 'coned', 'cones', 'conex', 'coney', 'confs', 'conga', 'conge', 'conia', 'conks', 'conky', 'conte', 'conus', 'copal', 'copay', 'coped', 'copen', 'coper', 'copes', 'copha', 'copra', 'copse', 'copsy', 'coqui', 'coral', 'coram', 'corbe', 'corby', 'corda', 'cords', 'cored', 'cores', 'corey', 'corgi', 'coria', 'corks', 'corky', 'corms', 'corni', 'corns', 'cornu', 'corny', 'corps', 'corse', 'cosed', 'coset', 'cosey', 'cosie', 'costa', 'coste', 'cotan', 'coted', 'cotes', 'coths', 'coude', 'cough', 'could', 'count', 'coupe', 'coups', 'courb', 'courd', 'coure', 'cours', 'court', 'couta', 'couth', 'coved', 'coven', 'cover', 'coves', 'covet', 'covey', 'covin', 'cowal', 'cowan', 'cowed', 'cower', 'cowks', 'cowls', 'cowps', 'cowry', 'coxae', 'coxal', 'coxed', 'coxes', 'coxib', 'coyau', 'coyed', 'coyer', 'coypu', 'cozed', 'cozen', 'cozes', 'cozey', 'cozie', 'crabs', 'craft', 'crags', 'craig', 'crake', 'crame', 'cramp', 'crams', 'crane', 'crank', 'crans', 'crape', 'craps', 'crapy', 'crash', 'crate', 'crave', 'crawl', 'craws', 'crays', 'craze', 'crazy', 'creak', 'cream', 'credo', 'creds', 'crein', 'crema', 'crems', 'crena', 'creps', 'crept', 'crepy', 'crest', 'crews', 'crias', 'cribo', 'cribs', 'cried', 'cries', 'crime', 'crimp', 'crims', 'crine', 'crink', 'crins', 'crios', 'cripe', 'crips', 'crise', 'crisp', 'crith', 'crits', 'croak', 'croft', 'crogs', 'cromb', 'crome', 'crone', 'cronk', 'crons', 'crony', 'crops', 'crost', 'croup', 'crout', 'crowd', 'crowl', 'crown', 'crows', 'croze', 'crude', 'crudo', 'cruds', 'crudy', 'cruel', 'crues', 'cruet', 'cruft', 'crumb', 'crump', 'crunk', 'cruse', 'crush', 'crust', 'crusy', 'cruve', 'crwth', 'cryne', 'crypt', 'cubed', 'cuber', 'cubes', 'cubit', 'cuifs', 'cuing', 'cuish', 'cuits', 'cukes', 'culet', 'culex', 'culms', 'culpa', 'culti', 'cults', 'culty', 'cumin', 'cundy', 'cunei', 'cunit', 'cunts', 'cupel', 'cupid', 'cupro', 'curat', 'curbs', 'curds', 'curdy', 'cured', 'cures', 'curet', 'curfs', 'curia', 'curie', 'curio', 'curli', 'curls', 'curly', 'curns', 'curny', 'curse', 'cursi', 'curst', 'curve', 'curvy', 'cushy', 'cuspy', 'cuter', 'cutes', 'cutey', 'cutie', 'cutin', 'cutis', 'cuzes', 'cyano', 'cyans', 'cyber', 'cyder', 'cylix', 'cymae', 'cymar', 'cymas', 'cymes', 'cymol', 'cytes', 'cyton', 'czars', 'daces', 'dacks', 'dagos', 'dahis', 'dahls', 'daiko', 'daily', 'daine', 'daint', 'dairy', 'daisy', 'daker', 'dalek', 'dales', 'dalis', 'dalts', 'dames', 'damns', 'damps', 'dampy', 'dance', 'dancy', 'dangs', 'danio', 'danks', 'danse', 'dants', 'darbs', 'darcy', 'dares', 'dargs', 'daric', 'daris', 'darks', 'darky', 'darls', 'darns', 'darts', 'darzi', 'dashi', 'dashy', 'dater', 'dates', 'datil', 'datos', 'datum', 'daube', 'daubs', 'dauby', 'dault', 'daunt', 'daurs', 'dauts', 'daven', 'davit', 'dawen', 'dawgs', 'dawks', 'dawns', 'dawts', 'daych', 'daynt', 'dazer', 'dazes', 'dbags', 'deair', 'deals', 'dealt', 'deans', 'dearn', 'dears', 'deary', 'deash', 'death', 'deaws', 'deawy', 'debag', 'debar', 'debit', 'debts', 'debug', 'debur', 'debus', 'debut', 'decaf', 'decal', 'decan', 'decay', 'decim', 'decko', 'decks', 'decor', 'decos', 'decoy', 'decry', 'decyl', 'defat', 'defis', 'defog', 'degas', 'degum', 'degus', 'deify', 'deign', 'deils', 'deink', 'deism', 'deist', 'deity', 'delay', 'delfs', 'delft', 'delis', 'delos', 'delph', 'delta', 'delts', 'deman', 'demic', 'demit', 'demob', 'demoi', 'demon', 'demos', 'demot', 'dempt', 'demur', 'denar', 'denay', 'dench', 'denim', 'denis', 'dents', 'deoch', 'deoxy', 'depot', 'depth', 'derat', 'deray', 'derby', 'derig', 'derma', 'derms', 'derns', 'derny', 'deros', 'derpy', 'derth', 'dervs', 'deshi', 'detag', 'detox', 'devas', 'devil', 'devis', 'devon', 'devos', 'devot', 'dewan', 'dewar', 'dewax', 'dexys', 'dhaks', 'dhals', 'dhikr', 'dhobi', 'dhole', 'dhols', 'dhoni', 'dhoti', 'dhows', 'dhuti', 'diact', 'dials', 'diane', 'diary', 'diazo', 'dicer', 'dices', 'dicey', 'dicht', 'dicks', 'dicky', 'dicot', 'dicta', 'dicto', 'dicts', 'dictu', 'dicty', 'diebs', 'diels', 'diets', 'dight', 'dikas', 'diker', 'dikes', 'dikey', 'dimbo', 'dimer', 'dimes', 'dimly', 'dimps', 'dinar', 'diner', 'dines', 'dinge', 'dingo', 'dings', 'dingy', 'dinks', 'dinky', 'dinlo', 'dinos', 'dints', 'dioch', 'diols', 'diota', 'dipso', 'diram', 'dirge', 'dirke', 'dirks', 'dirls', 'dirts', 'dirty', 'disco', 'dishy', 'disme', 'dital', 'ditas', 'ditch', 'dites', 'ditsy', 'ditzy', 'divan', 'divas', 'diver', 'dives', 'divey', 'divna', 'divos', 'divot', 'diwan', 'diyas', 'dizen', 'djins', 'doabs', 'doats', 'dobes', 'dobie', 'dobla', 'doble', 'dobra', 'docht', 'docks', 'docus', 'doeks', 'doers', 'doest', 'doeth', 'dogal', 'dogan', 'doges', 'dogey', 'dogie', 'dogly', 'dogma', 'doilt', 'doily', 'doing', 'doits', 'dolce', 'dolci', 'doles', 'doley', 'dolia', 'dolie', 'dolma', 'dolts', 'domal', 'domes', 'domic', 'donah', 'donas', 'doner', 'donga', 'dongs', 'donsy', 'donut', 'dopas', 'doper', 'dopes', 'dopey', 'dorba', 'dorbs', 'dores', 'doric', 'doris', 'dorje', 'dorks', 'dorky', 'dorms', 'dormy', 'dorps', 'dorsa', 'dorse', 'dorts', 'dorty', 'dosai', 'doseh', 'doser', 'dosha', 'dotal', 'doter', 'dotes', 'douar', 'doubt', 'douce', 'doucs', 'dough', 'douks', 'doula', 'douma', 'doums', 'doups', 'doura', 'douse', 'douts', 'doven', 'dover', 'doves', 'dovie', 'dowak', 'dowar', 'dowel', 'dower', 'dowfs', 'dowie', 'dowle', 'dowls', 'dowly', 'downa', 'downs', 'downy', 'dowps', 'dowry', 'dowse', 'dowts', 'doxes', 'doxie', 'doyen', 'dozen', 'dozer', 'dozes', 'drabs', 'drack', 'draco', 'draft', 'drags', 'drail', 'drain', 'drake', 'drams', 'drank', 'drant', 'drape', 'draps', 'drapy', 'drats', 'drave', 'drawl', 'drawn', 'draws', 'drays', 'dream', 'dreck', 'dregs', 'dreks', 'drent', 'drest', 'dreys', 'dribs', 'drice', 'dries', 'drift', 'drily', 'drink', 'drips', 'dript', 'drive', 'drock', 'droil', 'droit', 'droke', 'drole', 'drome', 'drone', 'drony', 'drops', 'dropt', 'drouk', 'drove', 'drown', 'drows', 'drubs', 'drugs', 'drums', 'drunk', 'drupe', 'druse', 'drusy', 'druxy', 'dryas', 'duals', 'duans', 'duars', 'ducal', 'ducat', 'duces', 'duchy', 'ducks', 'ducky', 'ducti', 'ducts', 'duels', 'duets', 'duing', 'duits', 'dukas', 'dukes', 'dulce', 'dules', 'dulia', 'dulse', 'dumas', 'dumbo', 'dumbs', 'dumka', 'dumky', 'dumps', 'dumpy', 'dunam', 'dunce', 'dunch', 'dunes', 'dungs', 'dungy', 'dunks', 'dunsh', 'dunts', 'duomi', 'duper', 'dupes', 'duple', 'duply', 'dural', 'duras', 'dures', 'durgy', 'durns', 'duroc', 'duros', 'duroy', 'durst', 'durzi', 'dusky', 'dusty', 'dutch', 'duvet', 'duxes', 'dwale', 'dwalm', 'dwams', 'dwamy', 'dwang', 'dwarf', 'dwaum', 'dwelt', 'dwile', 'dwine', 'dyers', 'dying', 'dykes', 'dykon', 'dynel', 'dynes', 'dynos', 'dzhos', 'eagly', 'eards', 'earls', 'early', 'earns', 'earnt', 'earst', 'earth', 'eatin', 'ebank', 'ebons', 'ebony', 'ecads', 'ecard', 'ecash', 'echos', 'ecigs', 'eclat', 'ecrus', 'edict', 'edify', 'edits', 'educt', 'efits', 'egads', 'egmas', 'ehing', 'eidos', 'eight', 'eikon', 'eilds', 'eiron', 'ejido', 'ekdam', 'eking', 'elain', 'eland', 'elans', 'elbow', 'elchi', 'eldin', 'elfin', 'eliad', 'elint', 'elogy', 'eloin', 'elops', 'elsin', 'elvan', 'emacs', 'email', 'embar', 'embay', 'embog', 'embow', 'embox', 'embus', 'emics', 'emirs', 'emits', 'emoji', 'emong', 'empts', 'empty', 'emyds', 'enact', 'enarm', 'endow', 'enfix', 'eniac', 'enjoy', 'enlit', 'enoki', 'enols', 'enorm', 'enows', 'enrol', 'ensky', 'entia', 'entry', 'envoi', 'envoy', 'enzym', 'eolid', 'eorls', 'eosin', 'epact', 'ephas', 'ephod', 'ephor', 'epics', 'epoch', 'epoxy', 'epris', 'equal', 'equid', 'equip', 'erbia', 'ergon', 'ergos', 'ergot', 'erhus', 'erica', 'erick', 'erics', 'ering', 'eruct', 'erugo', 'erupt', 'eruvs', 'ervil', 'escar', 'escot', 'eskar', 'esrog', 'estoc', 'estop', 'estro', 'ethal', 'ethic', 'ethos', 'ethyl', 'etics', 'etnas', 'etrog', 'etuis', 'etyma', 'eughs', 'eupad', 'euros', 'eusol', 'evict', 'evils', 'exact', 'exalt', 'exams', 'exfil', 'exing', 'exist', 'exits', 'exons', 'expat', 'expos', 'extol', 'extra', 'exuls', 'exult', 'exurb', 'eying', 'eyots', 'eyras', 'fable', 'faced', 'facer', 'faces', 'facet', 'facey', 'facie', 'facto', 'facts', 'facty', 'fader', 'fades', 'fadge', 'fados', 'faery', 'fagin', 'fagot', 'faiks', 'fails', 'faine', 'fains', 'faint', 'faire', 'fairs', 'fairy', 'faith', 'faked', 'faker', 'fakes', 'fakey', 'fakie', 'fakir', 'fales', 'false', 'falsy', 'famed', 'fames', 'fancy', 'fands', 'fanes', 'fango', 'fangs', 'fanks', 'fanos', 'fanum', 'faqir', 'farce', 'farci', 'farcy', 'fards', 'fared', 'fares', 'farle', 'farls', 'farms', 'faros', 'farse', 'farts', 'fasci', 'fasti', 'fated', 'fates', 'fatly', 'fatso', 'fauch', 'faugh', 'fauld', 'fault', 'fauns', 'faurd', 'faute', 'fauts', 'fauve', 'favel', 'faver', 'faves', 'favor', 'favus', 'fawns', 'fawny', 'faxed', 'faxes', 'fayed', 'fayer', 'fayne', 'fayre', 'fazed', 'fazes', 'feals', 'feard', 'fears', 'feart', 'feast', 'feats', 'fecal', 'fecht', 'fecit', 'fecks', 'fedai', 'feign', 'feint', 'feist', 'felch', 'felid', 'felix', 'felon', 'felts', 'felty', 'femal', 'femic', 'femur', 'fends', 'fendy', 'fenis', 'fenks', 'fents', 'feods', 'feral', 'feria', 'ferly', 'fermi', 'ferms', 'ferns', 'ferny', 'ferox', 'festa', 'festy', 'fetal', 'fetas', 'fetch', 'fetid', 'fetor', 'fetus', 'fetwa', 'feuar', 'feuds', 'fiars', 'fiats', 'fiber', 'fibre', 'fibro', 'fices', 'fiche', 'fichu', 'ficos', 'ficta', 'ficus', 'fides', 'fidge', 'fidos', 'fidus', 'field', 'fiend', 'fient', 'fiers', 'fiery', 'fiest', 'fight', 'figos', 'fiked', 'fikes', 'filar', 'filch', 'filed', 'filer', 'files', 'filet', 'filks', 'films', 'filmy', 'filon', 'filos', 'filth', 'filum', 'final', 'finca', 'finch', 'finds', 'fined', 'finer', 'fines', 'finks', 'finos', 'fiord', 'fiqhs', 'fique', 'fired', 'fires', 'firks', 'firma', 'firms', 'firns', 'first', 'firth', 'fisho', 'fishy', 'fisty', 'fitch', 'fitly', 'fitna', 'fiver', 'fives', 'fixed', 'fixer', 'fixes', 'fjeld', 'fjord', 'flabs', 'flack', 'flags', 'flair', 'flake', 'flaks', 'flaky', 'flame', 'flams', 'flamy', 'flane', 'flank', 'flans', 'flaps', 'flare', 'flary', 'flash', 'flask', 'flats', 'flawn', 'flaws', 'flawy', 'flaxy', 'flays', 'fleam', 'fleas', 'fleck', 'flegs', 'flesh', 'fleur', 'flews', 'flexi', 'flexo', 'fleys', 'flick', 'flics', 'flied', 'flier', 'flies', 'flimp', 'flims', 'fling', 'flint', 'flips', 'flirs', 'flirt', 'flisk', 'flite', 'flits', 'float', 'flobs', 'flock', 'flocs', 'floes', 'flogs', 'flong', 'flops', 'flora', 'flore', 'flors', 'flory', 'flosh', 'flota', 'flote', 'flour', 'flout', 'flown', 'flows', 'flowy', 'flubs', 'flued', 'flues', 'fluey', 'fluid', 'fluke', 'fluky', 'flume', 'flump', 'flung', 'flunk', 'fluor', 'flush', 'flute', 'fluty', 'fluyt', 'flyer', 'flyin', 'flype', 'flyte', 'foals', 'foams', 'foamy', 'focal', 'focus', 'foehn', 'fogey', 'fogie', 'fogle', 'fohns', 'foids', 'foils', 'foins', 'foist', 'folds', 'foley', 'folia', 'folic', 'folie', 'folks', 'folky', 'fomes', 'fonda', 'fonds', 'fondu', 'fones', 'fonly', 'fonts', 'foram', 'foray', 'forbs', 'forby', 'force', 'fords', 'forel', 'fores', 'forex', 'forge', 'forks', 'forky', 'forma', 'forme', 'forms', 'forte', 'forth', 'forts', 'forty', 'forum', 'forza', 'forze', 'fouat', 'fouds', 'fouer', 'fouet', 'foule', 'fouls', 'found', 'fount', 'fours', 'fouth', 'fovea', 'fowls', 'fowth', 'foxed', 'foxes', 'foxie', 'foyer', 'foyle', 'foyne', 'frabs', 'frack', 'fract', 'frags', 'frail', 'fraim', 'frais', 'frame', 'franc', 'frank', 'frape', 'fraps', 'frate', 'frati', 'frats', 'fraud', 'fraus', 'frays', 'freak', 'freit', 'fremd', 'frena', 'freon', 'fresh', 'frets', 'fribs', 'fried', 'fries', 'frigs', 'frise', 'frisk', 'frist', 'frita', 'frite', 'frith', 'frits', 'fritz', 'frize', 'frock', 'froes', 'frogs', 'frond', 'frons', 'front', 'frosh', 'frost', 'froth', 'frown', 'frows', 'frowy', 'froze', 'frugs', 'fruit', 'frump', 'frush', 'frust', 'fubar', 'fubsy', 'fucks', 'fudge', 'fudgy', 'fuels', 'fuero', 'fugal', 'fugie', 'fugio', 'fugis', 'fugle', 'fugly', 'fujis', 'fulth', 'fulwa', 'fumed', 'fumer', 'fumes', 'fumet', 'funda', 'fundi', 'fundo', 'funds', 'fundy', 'fungi', 'fungo', 'fungs', 'funic', 'funis', 'funks', 'funky', 'funsy', 'funts', 'fural', 'furan', 'furca', 'furls', 'furol', 'furos', 'furth', 'furze', 'furzy', 'fused', 'fusel', 'fusil', 'fusty', 'futon', 'fuzed', 'fuzes', 'fuzil', 'fyces', 'fyked', 'fykes', 'fyles', 'fyrds', 'gable', 'gades', 'gadis', 'gadje', 'gadjo', 'gadso', 'gaids', 'gaily', 'gains', 'gairs', 'gaits', 'gajos', 'galed', 'gales', 'galis', 'galop', 'galut', 'galvo', 'gambe', 'gambo', 'gambs', 'gamed', 'gamer', 'games', 'gamey', 'gamic', 'gamin', 'gamps', 'gamut', 'ganch', 'gandy', 'ganef', 'ganev', 'ganks', 'ganof', 'gants', 'gaols', 'gaped', 'gaper', 'gapes', 'gapos', 'garbe', 'garbo', 'garbs', 'garde', 'gares', 'garis', 'garms', 'garni', 'garth', 'garum', 'gashy', 'gaspy', 'gatch', 'gated', 'gater', 'gates', 'gaths', 'gator', 'gauch', 'gaucy', 'gauds', 'gaudy', 'gauje', 'gault', 'gaums', 'gaumy', 'gaunt', 'gaups', 'gaurs', 'gauze', 'gauzy', 'gavel', 'gavot', 'gawcy', 'gawds', 'gawks', 'gawky', 'gawps', 'gawsy', 'gayer', 'gazed', 'gazer', 'gazes', 'gazon', 'geals', 'geans', 'gears', 'geats', 'gebur', 'gecko', 'gecks', 'geist', 'geits', 'gelds', 'gelid', 'gelts', 'gemot', 'genal', 'genas', 'genic', 'genio', 'genip', 'genoa', 'genom', 'genro', 'gents', 'genty', 'genua', 'genus', 'geoid', 'gerah', 'germs', 'germy', 'getas', 'getup', 'geums', 'geyan', 'ghast', 'ghats', 'ghaut', 'ghazi', 'ghest', 'ghost', 'ghoul', 'ghusl', 'giant', 'gibed', 'gibel', 'giber', 'gibes', 'gibus', 'gifts', 'gilas', 'gilds', 'gilet', 'gilpy', 'gilts', 'gimel', 'gimps', 'gimpy', 'ginch', 'ginks', 'ginzo', 'gipon', 'gipsy', 'girds', 'girlf', 'girls', 'girly', 'girns', 'giron', 'giros', 'girsh', 'girth', 'girts', 'gismo', 'gitch', 'gites', 'giust', 'gived', 'given', 'giver', 'gives', 'gizmo', 'glace', 'glade', 'glads', 'glady', 'glaik', 'glair', 'glamp', 'glams', 'gland', 'glans', 'glare', 'glary', 'glaum', 'glaur', 'glaze', 'glazy', 'gleam', 'glean', 'gleba', 'gleby', 'gleds', 'gleis', 'glens', 'glent', 'gleys', 'glias', 'glibs', 'glide', 'glift', 'glike', 'glime', 'glims', 'glint', 'glisk', 'glits', 'glitz', 'gloam', 'gloat', 'globe', 'globi', 'globs', 'globy', 'glode', 'gloms', 'glops', 'glory', 'glost', 'glout', 'glove', 'glows', 'glowy', 'gloze', 'glued', 'gluer', 'glues', 'gluey', 'glume', 'glums', 'gluon', 'glute', 'gluts', 'glyph', 'gnapi', 'gnarl', 'gnars', 'gnash', 'gnats', 'gnaws', 'gnome', 'gnows', 'goads', 'goafs', 'goaft', 'goals', 'goary', 'goats', 'goaty', 'goave', 'goban', 'gobar', 'gobis', 'godet', 'godly', 'goels', 'goers', 'goest', 'goeth', 'goety', 'gofer', 'goier', 'gojis', 'gokes', 'golds', 'goldy', 'golem', 'goles', 'golfs', 'golpe', 'golps', 'gomer', 'gompa', 'gonad', 'gonch', 'gonef', 'goner', 'gonia', 'gonif', 'gonks', 'gonys', 'gopak', 'gopik', 'goral', 'goras', 'goray', 'gorbs', 'gored', 'gores', 'goris', 'gorms', 'gormy', 'gorps', 'gorse', 'gorsy', 'gosht', 'gotch', 'goths', 'gothy', 'gouch', 'gouks', 'goura', 'gourd', 'gouts', 'gouty', 'goved', 'goves', 'gowan', 'gowds', 'gowfs', 'gowks', 'gowls', 'gowns', 'goxes', 'goyim', 'goyle', 'grabs', 'grace', 'grade', 'grads', 'graft', 'grail', 'grain', 'graip', 'grame', 'gramp', 'grams', 'grand', 'grano', 'grans', 'grant', 'grape', 'graph', 'grapy', 'grasp', 'grate', 'grats', 'grave', 'gravs', 'gravy', 'grays', 'graze', 'great', 'grebo', 'grein', 'grens', 'greps', 'grews', 'greys', 'grice', 'gride', 'grids', 'grief', 'grift', 'grike', 'grime', 'grimy', 'grind', 'grins', 'griot', 'gripe', 'grips', 'gript', 'gripy', 'grise', 'grist', 'grisy', 'grith', 'grits', 'grize', 'groan', 'groat', 'grody', 'groin', 'groks', 'groma', 'groms', 'grone', 'grope', 'grosz', 'grots', 'grouf', 'group', 'grout', 'grove', 'grovy', 'growl', 'grown', 'grows', 'grubs', 'grued', 'gruel', 'grues', 'grufe', 'grume', 'grump', 'grund', 'grunt', 'gryce', 'gryde', 'gryke', 'grype', 'grypt', 'guaco', 'guano', 'guans', 'guard', 'guars', 'gucks', 'gucky', 'gudes', 'guest', 'guide', 'guido', 'guids', 'guild', 'guile', 'guilt', 'guimp', 'guiro', 'guise', 'gulab', 'gular', 'gulas', 'gulch', 'gules', 'gulet', 'gulfs', 'gulfy', 'gulph', 'gulps', 'gulpy', 'gumbo', 'gumps', 'gunas', 'gundi', 'gundy', 'gunks', 'gunky', 'guqin', 'gurdy', 'gurks', 'gurls', 'gurly', 'gurns', 'gursh', 'gushy', 'gusla', 'gusle', 'gusli', 'gusto', 'gusty', 'gutsy', 'guyed', 'guyle', 'guyot', 'guyse', 'gwine', 'gyals', 'gyans', 'gybed', 'gybes', 'gyeld', 'gymps', 'gynae', 'gynie', 'gynos', 'gyoza', 'gypes', 'gypos', 'gyral', 'gyred', 'gyres', 'gyron', 'gyros', 'gyrus', 'gytes', 'gyved', 'gyver', 'gyves', 'habit', 'hable', 'habus', 'hacek', 'hacks', 'hacky', 'hades', 'hadji', 'hadst', 'haems', 'haets', 'hafiz', 'hafts', 'haick', 'haiks', 'haiku', 'hails', 'haily', 'hains', 'haint', 'hairs', 'hairy', 'hajes', 'hajis', 'hakes', 'hakim', 'hakus', 'haldi', 'haled', 'haler', 'hales', 'halfs', 'halid', 'halms', 'halon', 'halos', 'halse', 'halts', 'halve', 'hamed', 'hamel', 'hames', 'hance', 'handi', 'hands', 'handy', 'hangi', 'hangs', 'hanks', 'hanky', 'hanse', 'hants', 'haole', 'haply', 'hapus', 'hards', 'hardy', 'hared', 'harem', 'hares', 'harim', 'harks', 'harls', 'harms', 'harns', 'haros', 'harps', 'harpy', 'harts', 'haste', 'hasty', 'hated', 'hater', 'hates', 'hauds', 'haufs', 'haugo', 'hauld', 'haulm', 'hauls', 'hault', 'hauns', 'haunt', 'hause', 'haute', 'havel', 'haven', 'haver', 'haves', 'havoc', 'hawed', 'hawks', 'hawms', 'hawse', 'hayed', 'hayer', 'hayle', 'hazed', 'hazel', 'hazer', 'hazes', 'hazle', 'heads', 'heady', 'heald', 'heals', 'heaps', 'heapy', 'heard', 'hears', 'heart', 'heast', 'heats', 'heaty', 'heavy', 'hecks', 'hedgy', 'hefts', 'hefty', 'heiau', 'heids', 'heils', 'heirs', 'heist', 'hejab', 'hejra', 'helio', 'helix', 'helms', 'helos', 'helot', 'helps', 'hemal', 'hemic', 'hemin', 'hemps', 'hempy', 'hends', 'henry', 'hents', 'hepar', 'herbs', 'herby', 'herds', 'herls', 'herma', 'herms', 'herns', 'heron', 'heros', 'herps', 'hertz', 'hexad', 'hexyl', 'hiant', 'hibas', 'hicks', 'hider', 'hides', 'hiems', 'hijab', 'hijra', 'hiked', 'hiker', 'hikes', 'hilar', 'hilsa', 'hilts', 'hilum', 'hilus', 'himbo', 'hinau', 'hinds', 'hinge', 'hings', 'hinky', 'hints', 'hiped', 'hiper', 'hipes', 'hiply', 'hired', 'hires', 'hived', 'hiver', 'hives', 'hizen', 'hoaed', 'hoagy', 'hoard', 'hoars', 'hoary', 'hoast', 'hocks', 'hocus', 'hodja', 'hoers', 'hogan', 'hogen', 'hoick', 'hoied', 'hoiks', 'hoing', 'hoise', 'hoist', 'hokas', 'hoked', 'hokes', 'hokey', 'hokis', 'hokum', 'holds', 'holed', 'holes', 'holey', 'holks', 'holme', 'holms', 'holts', 'homas', 'homed', 'homer', 'homes', 'homey', 'homie', 'honda', 'honds', 'honed', 'honer', 'hones', 'honey', 'hongi', 'hongs', 'honks', 'honky', 'hopak', 'hoped', 'hoper', 'hopes', 'horal', 'horas', 'horde', 'horis', 'horks', 'horme', 'horns', 'horny', 'horse', 'horst', 'horsy', 'hosed', 'hosel', 'hosen', 'hoser', 'hosey', 'hosta', 'hotel', 'hoten', 'hotis', 'hotly', 'houfs', 'hound', 'houri', 'hours', 'house', 'houts', 'hovea', 'hoved', 'hovel', 'hoven', 'hover', 'hoves', 'howay', 'howbe', 'howdy', 'howes', 'howfs', 'howks', 'howls', 'howre', 'hoxed', 'hoxes', 'hoyas', 'hoyed', 'hoyle', 'hucks', 'hudna', 'huers', 'huger', 'huias', 'huies', 'hulas', 'hules', 'hulks', 'hulky', 'human', 'humas', 'humfs', 'humic', 'humid', 'humor', 'humps', 'humpy', 'hundo', 'hunks', 'hunky', 'hunts', 'hurds', 'hurls', 'hurly', 'hurst', 'hurts', 'hurty', 'husky', 'hutia', 'hwyls', 'hydel', 'hydra', 'hydro', 'hyena', 'hyens', 'hying', 'hykes', 'hylas', 'hyleg', 'hyles', 'hylic', 'hymen', 'hymns', 'hynde', 'hyoid', 'hyped', 'hyper', 'hypes', 'hypos', 'hyrax', 'hyson', 'iambs', 'icers', 'iched', 'iches', 'ichor', 'icker', 'ickle', 'icons', 'ictal', 'ictus', 'idant', 'ideal', 'ideas', 'ident', 'idler', 'idles', 'idola', 'idols', 'idyls', 'iftar', 'igapo', 'iglus', 'ihram', 'ikans', 'ikats', 'ikons', 'ileac', 'ileum', 'ileus', 'image', 'imago', 'imagy', 'imbar', 'imbed', 'imbos', 'imbue', 'imped', 'impel', 'imply', 'impot', 'impro', 'imshy', 'inapt', 'inarm', 'inbox', 'inbye', 'incas', 'incel', 'incle', 'incog', 'incur', 'incus', 'incut', 'indew', 'index', 'indol', 'indow', 'indue', 'inept', 'inerm', 'inert', 'infer', 'infos', 'infra', 'ingle', 'ingot', 'inked', 'inker', 'inkle', 'inlay', 'inlet', 'inorb', 'input', 'inros', 'inset', 'inspo', 'intel', 'inter', 'intra', 'intro', 'inula', 'inure', 'inust', 'invar', 'inver', 'ioras', 'iotas', 'irade', 'irate', 'irked', 'irone', 'irons', 'irony', 'isled', 'islet', 'isnae', 'istle', 'itchy', 'items', 'ither', 'ivory', 'ixnay', 'ixora', 'ixtle', 'izard', 'izars', 'jabot', 'jacet', 'jacks', 'jacky', 'jades', 'jager', 'jagir', 'jails', 'jaker', 'jakes', 'jakey', 'jakie', 'jaleo', 'jalop', 'jambe', 'jambo', 'jambs', 'jambu', 'james', 'jamon', 'jamun', 'janes', 'janky', 'janty', 'japed', 'japer', 'japes', 'jarks', 'jarls', 'jarps', 'jarul', 'jasey', 'jaspe', 'jatis', 'jatos', 'jauks', 'jaune', 'jaunt', 'jaups', 'javel', 'jawed', 'jawns', 'jaxie', 'jeans', 'jeats', 'jedis', 'jehad', 'jehus', 'jelab', 'jeons', 'jerid', 'jerks', 'jerky', 'jeton', 'jhils', 'jiaos', 'jibed', 'jiber', 'jibes', 'jigot', 'jihad', 'jilts', 'jimpy', 'jingo', 'jings', 'jinks', 'jirds', 'jirga', 'jived', 'jiver', 'jives', 'jivey', 'jobed', 'jobes', 'jocks', 'jocky', 'jodel', 'joeys', 'johns', 'joins', 'joint', 'joist', 'joked', 'joker', 'jokes', 'jokey', 'joled', 'joles', 'jolie', 'jolts', 'jolty', 'jones', 'jongs', 'jonty', 'joram', 'jorts', 'jorum', 'jotas', 'jotun', 'joual', 'jougs', 'jouks', 'joule', 'jours', 'joust', 'jowar', 'jowed', 'jowls', 'jowly', 'joyed', 'jubas', 'jubes', 'jucos', 'judas', 'judge', 'judgy', 'judos', 'jugal', 'juice', 'juicy', 'juked', 'jukes', 'julep', 'julia', 'jumar', 'jumbo', 'jumby', 'jumps', 'jumpy', 'junco', 'junks', 'junky', 'junta', 'junto', 'jupes', 'jupon', 'jural', 'jurat', 'jurel', 'jures', 'juris', 'juste', 'jutes', 'juves', 'juvie', 'kades', 'kadis', 'kafir', 'kagos', 'kagus', 'kaids', 'kaies', 'kaifs', 'kails', 'kaims', 'kaing', 'kains', 'kales', 'kalif', 'kalis', 'kames', 'kamis', 'kandy', 'kaneh', 'kanes', 'kangs', 'kanji', 'kants', 'kanzu', 'kaons', 'kaphs', 'kapow', 'kapur', 'kapus', 'kaput', 'karez', 'karns', 'karos', 'karst', 'karsy', 'karts', 'karzy', 'kasme', 'katis', 'kaugh', 'kauri', 'kaury', 'kawed', 'kayle', 'kayos', 'kazis', 'kbars', 'kcals', 'kebar', 'kedgy', 'kefir', 'kehua', 'keirs', 'kelim', 'kelps', 'kelpy', 'kelts', 'kelty', 'kembo', 'kembs', 'kemps', 'kempt', 'kempy', 'kenaf', 'kench', 'kendo', 'kenos', 'kents', 'kepis', 'kerbs', 'kerfs', 'kerma', 'kerns', 'keros', 'kesar', 'ketas', 'ketch', 'ketol', 'kevil', 'khadi', 'khads', 'khafs', 'khans', 'khats', 'khazi', 'kheda', 'khets', 'khirs', 'khoja', 'khors', 'khoum', 'khuds', 'khula', 'khyal', 'kiang', 'kiasu', 'kibes', 'kibla', 'kidel', 'kideo', 'kidge', 'kiefs', 'kiers', 'kievs', 'kight', 'kiley', 'kilns', 'kilos', 'kilps', 'kilts', 'kilty', 'kimbo', 'kimet', 'kinas', 'kinda', 'kinds', 'kindy', 'kines', 'kings', 'kingy', 'kinos', 'kiore', 'kipah', 'kipas', 'kipes', 'kipsy', 'kirby', 'kirns', 'kisan', 'kitab', 'kited', 'kiter', 'kites', 'kithe', 'kiths', 'kitul', 'kivas', 'klang', 'klaps', 'klieg', 'klong', 'kluge', 'klutz', 'knags', 'knaps', 'knarl', 'knars', 'knaur', 'knave', 'knawe', 'knead', 'knelt', 'knife', 'knish', 'knits', 'knive', 'knobs', 'knops', 'knosp', 'knots', 'knoud', 'knout', 'knowd', 'knowe', 'knows', 'knubs', 'knule', 'knurl', 'knurs', 'knuts', 'koans', 'koaps', 'koban', 'koels', 'kofta', 'kogal', 'kohas', 'kohen', 'kohls', 'koine', 'kojis', 'kolas', 'kombi', 'kombu', 'konbu', 'kophs', 'kopje', 'korai', 'koran', 'koras', 'korat', 'kores', 'koris', 'korma', 'korun', 'korus', 'kotch', 'koura', 'krabs', 'kraft', 'krais', 'krait', 'krang', 'krans', 'kranz', 'kraut', 'krays', 'kreng', 'kriol', 'krona', 'krone', 'krubi', 'krump', 'kubie', 'kudos', 'kufis', 'kugel', 'kuias', 'kulan', 'kulas', 'kulfi', 'kumis', 'kumys', 'kunas', 'kunds', 'kuris', 'kurta', 'kusti', 'kutai', 'kutas', 'kutch', 'kutis', 'kuyas', 'kwela', 'kwirl', 'kyang', 'kyars', 'kyats', 'kybos', 'kydst', 'kyles', 'kylie', 'kylin', 'kylix', 'kyloe', 'kynde', 'kynds', 'kypes', 'kyrie', 'kytes', 'kythe', 'kyudo', 'labis', 'labne', 'labor', 'laced', 'lacer', 'laces', 'lacet', 'lacey', 'lacis', 'lacks', 'lacky', 'laden', 'lader', 'lades', 'laers', 'laevo', 'lager', 'laich', 'laics', 'laide', 'laids', 'laigh', 'laiks', 'laird', 'lairs', 'lairy', 'laith', 'laity', 'laked', 'laker', 'lakes', 'lakhs', 'lakin', 'lambs', 'lamby', 'lamed', 'lamer', 'lames', 'lamps', 'lance', 'lanch', 'lande', 'lands', 'laned', 'lanes', 'lanks', 'lanky', 'lants', 'lapin', 'lapis', 'lapje', 'lapse', 'larch', 'lards', 'lardy', 'lares', 'larfs', 'large', 'largo', 'laris', 'larks', 'larky', 'larns', 'larnt', 'larum', 'lased', 'laser', 'latch', 'lated', 'laten', 'later', 'latex', 'lathe', 'lathi', 'laths', 'lathy', 'latke', 'latus', 'lauch', 'laude', 'lauds', 'laufs', 'laugh', 'laund', 'laved', 'laver', 'laves', 'lawed', 'lawer', 'lawin', 'lawks', 'lawns', 'lawny', 'lawsy', 'laxed', 'laxer', 'laxes', 'layed', 'layer', 'layin', 'layup', 'lazed', 'lazes', 'lazos', 'leach', 'leads', 'leady', 'leafs', 'leafy', 'leaks', 'leaky', 'leams', 'leans', 'leant', 'leany', 'leaps', 'leapt', 'learn', 'lears', 'leary', 'leash', 'least', 'leats', 'leavy', 'ledgy', 'ledum', 'lefts', 'lefty', 'legit', 'legno', 'lehrs', 'lehua', 'leirs', 'leish', 'leman', 'lemon', 'lemur', 'lends', 'lengs', 'lenis', 'lenos', 'lenti', 'lento', 'lepak', 'lepid', 'lepra', 'lepta', 'lerps', 'lesbo', 'letch', 'letup', 'leuch', 'leuco', 'leuds', 'leugh', 'levas', 'levin', 'levis', 'lewis', 'lexis', 'liane', 'liang', 'liard', 'liars', 'liart', 'liber', 'libor', 'libra', 'libre', 'licet', 'licht', 'licks', 'lidar', 'lidos', 'liefs', 'liens', 'liers', 'lieus', 'lifer', 'lifes', 'lifey', 'lifts', 'ligan', 'liger', 'light', 'ligne', 'liked', 'liken', 'liker', 'likes', 'liman', 'limas', 'limax', 'limba', 'limbo', 'limbs', 'limby', 'limed', 'limen', 'limes', 'limey', 'limns', 'limos', 'limpa', 'limps', 'linac', 'linch', 'linds', 'lindy', 'lined', 'liner', 'lines', 'liney', 'linga', 'lingo', 'lings', 'lingy', 'links', 'linky', 'linos', 'lints', 'linty', 'linum', 'linux', 'lions', 'lipas', 'lipes', 'lipos', 'liras', 'lirks', 'lirot', 'litas', 'lited', 'litem', 'liter', 'lites', 'lithe', 'litho', 'liths', 'litre', 'lived', 'liven', 'liver', 'lives', 'livor', 'livre', 'liwas', 'loach', 'loads', 'loafs', 'loams', 'loamy', 'loans', 'loast', 'loath', 'loave', 'lobar', 'lobed', 'lobes', 'lobus', 'loche', 'lochs', 'lochy', 'locie', 'locis', 'locks', 'locky', 'locum', 'locus', 'loden', 'lodes', 'lodge', 'lofts', 'lofty', 'logan', 'loges', 'logia', 'logic', 'logie', 'login', 'lohan', 'loids', 'loins', 'loipe', 'loirs', 'lokes', 'lokey', 'lokum', 'lomas', 'lomed', 'lomes', 'loner', 'longa', 'longe', 'longs', 'loped', 'loper', 'lopes', 'loran', 'lords', 'lordy', 'lores', 'loric', 'loris', 'losed', 'losen', 'loser', 'lotah', 'lotas', 'lotes', 'lotic', 'lotsa', 'lotus', 'loued', 'lough', 'louie', 'louis', 'louma', 'lound', 'louns', 'loupe', 'loups', 'loure', 'lours', 'loury', 'louse', 'lousy', 'louts', 'lovat', 'loved', 'lover', 'loves', 'lovey', 'lovie', 'lowan', 'lowed', 'lowen', 'lower', 'lowes', 'lownd', 'lowne', 'lowns', 'lowps', 'lowry', 'lowse', 'lowth', 'lowts', 'loxed', 'loxes', 'lozen', 'luach', 'lubed', 'lubes', 'lubra', 'luces', 'lucid', 'lucks', 'lucky', 'lucre', 'ludes', 'ludic', 'ludos', 'luged', 'luger', 'luges', 'lumas', 'lumbi', 'lumen', 'lumps', 'lumpy', 'lunar', 'lunas', 'lunch', 'lunes', 'lunet', 'lunge', 'lungi', 'lungs', 'lunks', 'lunts', 'lupin', 'lurch', 'lured', 'lures', 'lurex', 'lurgi', 'lurgy', 'lurid', 'lurks', 'lurve', 'luser', 'lushy', 'lusty', 'lutea', 'luted', 'luter', 'lutes', 'luxed', 'luxer', 'luxes', 'lweis', 'lyams', 'lyard', 'lyart', 'lyase', 'lycea', 'lycra', 'lying', 'lymes', 'lymph', 'lynch', 'lynes', 'lyres', 'lyric', 'lysed', 'lysin', 'lyted', 'lytes', 'lythe', 'lytic', 'mabes', 'maced', 'macer', 'maces', 'mache', 'machi', 'macho', 'machs', 'macks', 'macle', 'macon', 'macro', 'macte', 'madge', 'madly', 'mados', 'madre', 'maedi', 'maerl', 'mafic', 'mafts', 'mages', 'magic', 'magot', 'magus', 'mahis', 'mahoe', 'mahrs', 'maids', 'maiko', 'maiks', 'maile', 'mailo', 'mails', 'mains', 'maire', 'mairs', 'maise', 'maist', 'maize', 'majoe', 'major', 'majos', 'maker', 'makes', 'makie', 'makis', 'makos', 'maleo', 'males', 'malic', 'malik', 'malis', 'malky', 'malts', 'malty', 'malus', 'mandi', 'mands', 'mandy', 'maneb', 'maned', 'maneh', 'manes', 'manet', 'mange', 'mangi', 'mango', 'mangs', 'mangy', 'manic', 'manie', 'manis', 'manks', 'manky', 'manly', 'manor', 'manos', 'manse', 'manso', 'mante', 'manto', 'mants', 'manty', 'manul', 'manus', 'manzo', 'mapes', 'maple', 'mapou', 'maqui', 'march', 'marcs', 'mards', 'mardy', 'mares', 'marge', 'margo', 'margs', 'marid', 'maril', 'marks', 'marle', 'marls', 'marly', 'maron', 'marse', 'marsh', 'marts', 'marvy', 'mased', 'maser', 'mashy', 'mason', 'masty', 'masur', 'masut', 'match', 'mated', 'mater', 'mates', 'matey', 'mathe', 'maths', 'matin', 'matlo', 'matsu', 'matzo', 'mauby', 'mauds', 'mauls', 'maund', 'maunt', 'mauri', 'mausy', 'mauts', 'mauve', 'mauvy', 'mauzy', 'maven', 'mavie', 'mavin', 'mavis', 'mawed', 'mawks', 'mawky', 'mawns', 'mawps', 'mawrs', 'maxed', 'maxes', 'maxis', 'maybe', 'mayed', 'mayor', 'mayos', 'mayst', 'mazed', 'mazel', 'mazer', 'mazes', 'mazet', 'mazey', 'mazut', 'mbari', 'mbars', 'mbila', 'mbira', 'mbret', 'mbuga', 'meads', 'meaks', 'meals', 'mealy', 'means', 'meant', 'meany', 'meath', 'meats', 'meaty', 'mebos', 'mecha', 'mechs', 'mecks', 'medal', 'media', 'medic', 'medin', 'meids', 'meiko', 'meils', 'meins', 'meint', 'meiny', 'meith', 'melas', 'melba', 'melch', 'melds', 'melic', 'melik', 'melon', 'melos', 'melts', 'melty', 'menad', 'mends', 'mengs', 'menil', 'mensa', 'mensh', 'menta', 'mento', 'ments', 'menus', 'meous', 'meows', 'merch', 'mercs', 'mercy', 'merds', 'meril', 'meris', 'merit', 'merks', 'merls', 'mersk', 'mesad', 'mesal', 'mesca', 'meshy', 'mesia', 'mesic', 'meson', 'mesto', 'mesyl', 'metal', 'metas', 'methi', 'metho', 'meths', 'methy', 'metic', 'metif', 'metis', 'metol', 'metro', 'mewls', 'meynt', 'mgals', 'miaou', 'miaow', 'miaul', 'micas', 'miche', 'micht', 'micks', 'micky', 'micos', 'micra', 'micro', 'midge', 'midgy', 'midst', 'miens', 'mieux', 'mifty', 'might', 'migod', 'mihas', 'mikan', 'miked', 'mikes', 'mikos', 'mikra', 'mikva', 'milch', 'milds', 'miler', 'miles', 'milfs', 'milko', 'milks', 'milky', 'milor', 'milos', 'milpa', 'milts', 'milty', 'miltz', 'minae', 'minar', 'minas', 'mince', 'mincy', 'minds', 'mined', 'miner', 'mines', 'minge', 'mings', 'mingy', 'minke', 'minks', 'minor', 'minos', 'minse', 'mints', 'minty', 'minus', 'minxy', 'mirah', 'mirch', 'mired', 'mires', 'mirex', 'mirkn', 'mirks', 'mirky', 'mirls', 'mirly', 'miros', 'mirth', 'mirvs', 'mirza', 'misal', 'misch', 'misdo', 'miser', 'misgo', 'misky', 'misto', 'misty', 'mitas', 'mitch', 'miter', 'mites', 'mitey', 'mitre', 'mitry', 'mivey', 'mixed', 'mixen', 'mixer', 'mixes', 'mixte', 'mixup', 'miyas', 'mizen', 'mizes', 'moais', 'moaky', 'moals', 'moans', 'moany', 'moars', 'moats', 'mobed', 'mobes', 'mobey', 'mobie', 'moble', 'mocap', 'mocha', 'mochi', 'mochs', 'mochy', 'mocks', 'mocky', 'mocus', 'modal', 'model', 'moder', 'modes', 'modge', 'modin', 'modus', 'moeni', 'moers', 'mogar', 'mogas', 'mogra', 'mogue', 'mogul', 'mohar', 'mohel', 'mohrs', 'mohua', 'mohur', 'moile', 'moils', 'moira', 'moire', 'moist', 'moits', 'moity', 'moker', 'mokes', 'mokey', 'mokis', 'mokus', 'molar', 'molas', 'molds', 'moldy', 'moled', 'moler', 'moles', 'moley', 'molie', 'molts', 'molue', 'molvi', 'molys', 'monad', 'monal', 'monas', 'monde', 'moner', 'money', 'mongs', 'monic', 'monie', 'monks', 'monpe', 'monte', 'month', 'monty', 'moped', 'moper', 'mopes', 'mopey', 'mopsy', 'mopus', 'morae', 'morah', 'moral', 'moran', 'moras', 'morat', 'moray', 'morel', 'mores', 'morgy', 'moria', 'morin', 'morna', 'morne', 'morns', 'morph', 'morse', 'morts', 'moruk', 'mosed', 'mosey', 'moste', 'moted', 'motel', 'moten', 'motes', 'motey', 'moths', 'mothy', 'motif', 'motis', 'motus', 'motza', 'mouch', 'moues', 'moufs', 'mould', 'moule', 'mouls', 'moult', 'mouly', 'mound', 'mount', 'moups', 'mourn', 'mouse', 'moust', 'mousy', 'mouth', 'moved', 'mover', 'moves', 'movie', 'mowas', 'mowed', 'mower', 'mowie', 'mowra', 'moxas', 'moxie', 'moyas', 'moyle', 'moyls', 'mozed', 'mozes', 'mpret', 'mrads', 'mucho', 'mucid', 'mucin', 'mucko', 'mucks', 'mucky', 'mucor', 'mucro', 'mudar', 'mudge', 'mudif', 'mudir', 'mudra', 'mufti', 'mugho', 'mugil', 'mugos', 'muhly', 'muids', 'muils', 'muirs', 'muiry', 'muist', 'mujik', 'mukti', 'mulai', 'mulch', 'mulct', 'muled', 'mules', 'muley', 'mulga', 'mulie', 'mulse', 'mulsh', 'munch', 'munds', 'munga', 'munge', 'mungi', 'mungo', 'mungs', 'mungy', 'munia', 'munis', 'munja', 'munjs', 'munts', 'muons', 'mural', 'muras', 'mured', 'mures', 'murex', 'murgh', 'murgi', 'murid', 'murks', 'murky', 'murls', 'murly', 'murth', 'murti', 'murva', 'musar', 'musca', 'mused', 'muser', 'muset', 'musha', 'mushy', 'music', 'musit', 'musky', 'musta', 'musth', 'musty', 'mutas', 'mutch', 'muted', 'muter', 'mutes', 'mutha', 'mutic', 'mutis', 'muton', 'muxed', 'muxes', 'muzak', 'mvula', 'mvule', 'mvuli', 'myals', 'mylar', 'mynah', 'mynas', 'myoid', 'myons', 'myope', 'myops', 'mysid', 'mysie', 'mythi', 'myths', 'myxos', 'nabes', 'nabis', 'nabks', 'nache', 'nacho', 'nacre', 'nadir', 'naevi', 'nages', 'nagor', 'naibs', 'naice', 'naids', 'naieo', 'naifs', 'naiks', 'nails', 'naily', 'naios', 'nairu', 'naive', 'najib', 'naked', 'naker', 'naled', 'named', 'namer', 'names', 'namus', 'naped', 'napes', 'napoh', 'narco', 'narcs', 'nards', 'nares', 'naric', 'naris', 'narks', 'narky', 'narod', 'nashi', 'nasho', 'nasty', 'natch', 'nates', 'natis', 'nauch', 'naved', 'navel', 'naves', 'navew', 'nazes', 'nazir', 'nazis', 'nduja', 'neals', 'neaps', 'nears', 'neath', 'neato', 'neats', 'necks', 'negri', 'negro', 'negus', 'neifs', 'neigh', 'neist', 'nelia', 'nelis', 'nemas', 'nemic', 'nempt', 'neosa', 'neoza', 'nepit', 'neral', 'neram', 'nerds', 'nerdy', 'nerfs', 'nerka', 'nerks', 'nerol', 'nerts', 'nertz', 'nervy', 'neski', 'nesty', 'netas', 'netop', 'neuks', 'neums', 'nevis', 'nevus', 'newbs', 'newly', 'newsy', 'newts', 'nexal', 'nexts', 'nexum', 'nexus', 'ngaio', 'ngapi', 'ngati', 'ngoma', 'ngram', 'nicad', 'niced', 'nicer', 'nicey', 'niche', 'nicht', 'nicks', 'nicky', 'nicol', 'nidal', 'nides', 'nidor', 'nidus', 'niefs', 'nifes', 'nifle', 'nifty', 'niger', 'nighs', 'night', 'nigre', 'nigua', 'nikab', 'nikah', 'nikau', 'nilas', 'nimbs', 'nimby', 'nimps', 'nioza', 'nipas', 'nipet', 'niqab', 'nirls', 'nirly', 'nital', 'niter', 'nites', 'nitre', 'nitro', 'nitry', 'nival', 'nivas', 'nivel', 'nixed', 'nixer', 'nixes', 'nizam', 'njirl', 'nkosi', 'nmoli', 'nmols', 'noahs', 'noble', 'nobly', 'nocks', 'nodal', 'nodes', 'nodum', 'nodus', 'noels', 'noema', 'nogal', 'noias', 'noils', 'noily', 'noire', 'noirs', 'noise', 'noisy', 'nokes', 'noles', 'nomad', 'nomas', 'nomes', 'nomic', 'nopal', 'noria', 'norie', 'noris', 'norks', 'norma', 'norms', 'north', 'nosed', 'noser', 'nosey', 'noshi', 'nosir', 'notal', 'notam', 'notch', 'noted', 'noter', 'notes', 'notum', 'nougs', 'nouja', 'nould', 'noule', 'nouls', 'noups', 'noust', 'novae', 'novas', 'novel', 'novia', 'novum', 'noway', 'nowds', 'nowed', 'nowls', 'nowts', 'nowty', 'noxal', 'noxas', 'noxes', 'noyau', 'noyed', 'noyes', 'nrtya', 'nsima', 'nubia', 'nucha', 'nuder', 'nudes', 'nudge', 'nudgy', 'nudie', 'nudzh', 'nuevo', 'nugae', 'nujol', 'nuked', 'nukes', 'numbs', 'numps', 'nurds', 'nurdy', 'nurls', 'nurse', 'nurts', 'nurtz', 'nused', 'nutso', 'nutsy', 'nyams', 'nymph', 'nyuse', 'nyuze', 'oaked', 'oaken', 'oaker', 'oakum', 'oared', 'oaten', 'oater', 'oaths', 'oaves', 'obang', 'obeah', 'obeli', 'obeys', 'obias', 'obied', 'obits', 'objet', 'ocean', 'ocher', 'oches', 'ochre', 'ochry', 'ocker', 'ocrea', 'octad', 'octal', 'octan', 'octas', 'octli', 'octyl', 'oculi', 'odahs', 'odals', 'odeum', 'odism', 'odist', 'odium', 'odums', 'odyle', 'odyls', 'ofays', 'oflag', 'often', 'ofter', 'ogams', 'ogham', 'ogive', 'ogled', 'ogler', 'ogles', 'ogmic', 'ogres', 'ohias', 'ohing', 'ohmic', 'oicks', 'oiled', 'oiler', 'oilet', 'oinks', 'oints', 'oiran', 'ojime', 'okapi', 'okays', 'okehs', 'okies', 'oking', 'okras', 'okrug', 'oktas', 'olate', 'olden', 'older', 'oldie', 'olehs', 'oleic', 'olein', 'olent', 'oleum', 'oliva', 'olive', 'olpae', 'olpes', 'omber', 'ombre', 'ombus', 'omdah', 'omdas', 'omdeh', 'omega', 'omens', 'omers', 'omits', 'omlah', 'omnes', 'omrah', 'omuls', 'oncer', 'onces', 'oncet', 'oncus', 'ondes', 'onely', 'oners', 'onery', 'onium', 'onkus', 'onlap', 'onlay', 'onset', 'ontal', 'ontic', 'opahs', 'opals', 'opens', 'opera', 'opery', 'opgaf', 'opine', 'oping', 'opium', 'opsat', 'opsin', 'opsit', 'opted', 'opter', 'optic', 'opzit', 'orach', 'oracy', 'orals', 'orang', 'orans', 'orant', 'orate', 'orbat', 'orbed', 'orbic', 'orbit', 'orcas', 'orcin', 'ordie', 'oread', 'orfes', 'orful', 'organ', 'orgia', 'orgic', 'orgue', 'oriel', 'orixa', 'orles', 'ornis', 'orped', 'orpin', 'orval', 'oscar', 'osetr', 'oshac', 'osier', 'oskin', 'oslin', 'osmic', 'ostia', 'otaku', 'otary', 'other', 'othyl', 'otium', 'oubit', 'ouche', 'oucht', 'oueds', 'ouens', 'ought', 'ouija', 'oulks', 'oumas', 'ounce', 'oundy', 'oupas', 'ouped', 'ouphe', 'ouphs', 'ourey', 'ourie', 'ousel', 'ousia', 'outby', 'outed', 'outen', 'outer', 'outie', 'outre', 'ouzel', 'ovals', 'ovary', 'ovate', 'ovels', 'ovens', 'overs', 'overt', 'ovine', 'ovism', 'ovist', 'ovule', 'oware', 'owari', 'owche', 'owers', 'owies', 'owing', 'owled', 'owler', 'owlet', 'owned', 'owner', 'owres', 'owrie', 'owsen', 'oxeas', 'oxers', 'oxide', 'oxids', 'oxies', 'oxime', 'oxims', 'oxine', 'oxlip', 'oxman', 'oxmen', 'oxter', 'oyers', 'ozeki', 'ozena', 'paced', 'pacer', 'paces', 'pacey', 'packs', 'packy', 'pacos', 'pacts', 'padis', 'padle', 'padou', 'padre', 'padri', 'paedo', 'paeon', 'paged', 'pager', 'pages', 'pagle', 'pagne', 'pagod', 'pagri', 'pahit', 'pahos', 'pahus', 'paiks', 'pails', 'pains', 'paint', 'paire', 'pairs', 'paise', 'pakul', 'paled', 'paler', 'pales', 'palet', 'palis', 'palki', 'palms', 'palmy', 'palsy', 'palus', 'pamby', 'pance', 'panch', 'pands', 'pandy', 'paned', 'panel', 'panes', 'pangs', 'panic', 'panim', 'panir', 'panko', 'panks', 'pansy', 'panto', 'pants', 'panty', 'paoli', 'parch', 'parcs', 'pardi', 'pards', 'pardy', 'pared', 'paren', 'pareo', 'pares', 'pareu', 'parev', 'parge', 'pargo', 'parid', 'paris', 'parki', 'parks', 'parky', 'parle', 'parly', 'parmo', 'parms', 'parol', 'parse', 'parte', 'parti', 'parts', 'party', 'parve', 'parvo', 'pasch', 'paseo', 'pashm', 'pasmo', 'paste', 'pasty', 'patch', 'pated', 'patel', 'paten', 'pater', 'pates', 'paths', 'patin', 'patio', 'patly', 'patsy', 'patus', 'pauls', 'pause', 'pauxi', 'paved', 'paven', 'paver', 'paves', 'pavid', 'pavie', 'pavin', 'pavis', 'pavon', 'pawed', 'pawer', 'pawks', 'pawky', 'pawls', 'pawns', 'paxes', 'payed', 'payer', 'payor', 'paysd', 'peach', 'peags', 'peaks', 'peaky', 'peals', 'peans', 'pearl', 'pears', 'peart', 'peasy', 'peats', 'peaty', 'peavy', 'pebas', 'pecan', 'pechs', 'pecia', 'pecks', 'pecky', 'pects', 'pedal', 'pedis', 'pedon', 'pedos', 'pedro', 'peghs', 'pegma', 'pegos', 'peins', 'peisy', 'pekan', 'pekau', 'pekid', 'pekin', 'pelas', 'pelau', 'pelch', 'pelfs', 'pelma', 'pelog', 'pelon', 'pelsh', 'pelta', 'pelts', 'pelus', 'penal', 'pends', 'pendu', 'pengo', 'penis', 'penks', 'pensy', 'pents', 'peola', 'peons', 'peony', 'pequi', 'perai', 'perch', 'percs', 'perdu', 'perdy', 'perfs', 'peril', 'peris', 'perks', 'perky', 'perls', 'perms', 'permy', 'perns', 'perog', 'perst', 'perts', 'pervo', 'pervs', 'pervy', 'pesch', 'pesky', 'pesta', 'pesto', 'pesty', 'petal', 'petar', 'petos', 'petri', 'pewit', 'phage', 'phang', 'phare', 'pharm', 'phase', 'phasm', 'pheon', 'phial', 'phies', 'phlox', 'phobe', 'phoca', 'phone', 'phons', 'phony', 'phota', 'phots', 'photy', 'phubs', 'phuts', 'phwat', 'phyla', 'phyle', 'phyma', 'phynx', 'physa', 'piano', 'pians', 'pibal', 'pical', 'picas', 'picey', 'picks', 'picky', 'picon', 'picot', 'picra', 'picul', 'pieds', 'piend', 'piers', 'piert', 'pieta', 'piets', 'piety', 'piezo', 'pight', 'pigly', 'pigmy', 'pikas', 'pikau', 'piked', 'pikel', 'piker', 'pikes', 'pikey', 'pikul', 'pilae', 'pilaf', 'pilao', 'pilar', 'pilau', 'pilaw', 'pilch', 'pilea', 'piled', 'piler', 'piles', 'piley', 'pilon', 'pilot', 'pilow', 'pilum', 'pilus', 'pimas', 'pinas', 'pinax', 'pince', 'pinch', 'pinda', 'pinds', 'pined', 'piner', 'pines', 'piney', 'pinga', 'pinge', 'pingo', 'pings', 'pinko', 'pinks', 'pinky', 'pinol', 'pinot', 'pinta', 'pinto', 'pints', 'pions', 'piony', 'pious', 'pioye', 'pioys', 'pique', 'pirks', 'pirls', 'pirns', 'pirog', 'pisco', 'pisky', 'piste', 'pitas', 'pitch', 'piths', 'pithy', 'piton', 'pitso', 'pitsu', 'piuma', 'piums', 'pivos', 'pivot', 'pixel', 'pixes', 'piyut', 'pized', 'pizer', 'pizes', 'place', 'plack', 'plage', 'plaid', 'plaig', 'plain', 'plait', 'planc', 'plane', 'planh', 'plank', 'plans', 'plant', 'plash', 'plasm', 'plast', 'plate', 'plats', 'platy', 'plaud', 'plaur', 'plavs', 'plays', 'plead', 'pleas', 'pleat', 'plebs', 'pleck', 'plein', 'plena', 'pleno', 'pleon', 'plesh', 'plets', 'plews', 'plexi', 'plica', 'plied', 'plier', 'plies', 'pligs', 'plims', 'pling', 'plink', 'plish', 'ploat', 'ploce', 'plock', 'plods', 'ploit', 'plomb', 'plong', 'plonk', 'plore', 'plots', 'plotz', 'plouk', 'plout', 'plows', 'plowt', 'ploye', 'ploys', 'pluck', 'pluds', 'plues', 'plugs', 'pluke', 'plumb', 'plume', 'plums', 'plumy', 'plung', 'plunk', 'pluot', 'plush', 'plute', 'pluto', 'pluty', 'plyer', 'pneus', 'poach', 'poake', 'pocan', 'poche', 'pocks', 'pocky', 'podal', 'podex', 'podge', 'podgy', 'podia', 'podus', 'poems', 'poena', 'poesy', 'poets', 'pogey', 'pogue', 'pohed', 'poilu', 'poind', 'point', 'poire', 'poise', 'pokal', 'poked', 'poker', 'pokes', 'pokey', 'pokie', 'pokit', 'polar', 'poled', 'poler', 'poles', 'poley', 'polis', 'polje', 'polka', 'polks', 'polts', 'polys', 'pomas', 'pombe', 'pomes', 'ponce', 'poncy', 'ponds', 'pondy', 'pones', 'poney', 'ponga', 'pongs', 'pongy', 'ponks', 'ponts', 'ponty', 'ponzu', 'porae', 'poral', 'porch', 'pored', 'pores', 'porey', 'porge', 'porgy', 'porin', 'porks', 'porky', 'porns', 'porny', 'porta', 'porte', 'porth', 'ports', 'porty', 'porus', 'posca', 'posed', 'poser', 'poset', 'posey', 'posit', 'poste', 'potae', 'potai', 'potch', 'poted', 'potes', 'potin', 'potsy', 'pouce', 'pouch', 'poufs', 'poufy', 'pouis', 'pouke', 'pouks', 'poule', 'poult', 'pound', 'pours', 'pousy', 'pouts', 'pouty', 'powan', 'power', 'powie', 'powin', 'powis', 'powlt', 'pownd', 'powns', 'powny', 'powre', 'powsy', 'poxed', 'poxes', 'poyas', 'poynt', 'poyse', 'prads', 'prags', 'prahu', 'prams', 'prang', 'prank', 'praos', 'prase', 'prate', 'prats', 'praty', 'praus', 'prawn', 'prays', 'preak', 'predy', 'preif', 'prems', 'premy', 'prent', 'preon', 'presa', 'prest', 'preta', 'preux', 'prexy', 'preys', 'prial', 'prian', 'price', 'prick', 'pricy', 'pride', 'pridy', 'pried', 'prief', 'pries', 'prigs', 'prima', 'prime', 'primo', 'prims', 'primy', 'pring', 'prink', 'print', 'prion', 'prise', 'prism', 'prius', 'privy', 'prize', 'proal', 'proas', 'probe', 'probs', 'proby', 'prods', 'proem', 'profs', 'progs', 'proin', 'proke', 'prole', 'proms', 'prone', 'prong', 'pronk', 'prose', 'prost', 'prosy', 'proud', 'proul', 'prove', 'prowk', 'prowl', 'prows', 'proxy', 'proyn', 'prude', 'prune', 'pruno', 'prunt', 'pruny', 'pruta', 'pryan', 'pryse', 'psalm', 'pseud', 'pshaw', 'pshut', 'psion', 'psoae', 'psoai', 'psora', 'psych', 'ptish', 'pubco', 'pubes', 'pubic', 'pubis', 'pubsy', 'pucan', 'pucer', 'puces', 'pucka', 'pucks', 'pudge', 'pudgy', 'pudic', 'pudor', 'pudsy', 'puers', 'pugil', 'puhas', 'pujah', 'pujas', 'pukas', 'puked', 'puker', 'pukes', 'pukey', 'pulao', 'pulas', 'puled', 'puler', 'pules', 'pulik', 'pulis', 'pulka', 'pulks', 'pulmo', 'pulse', 'pumas', 'pumie', 'punas', 'punce', 'punch', 'punga', 'pungi', 'pungo', 'pungs', 'pungy', 'punim', 'punji', 'punka', 'punks', 'punky', 'punto', 'punts', 'punty', 'purao', 'purda', 'purdy', 'pured', 'pures', 'purga', 'purge', 'purin', 'puris', 'purls', 'puros', 'purse', 'pursy', 'purty', 'pushy', 'pusle', 'putas', 'puter', 'putid', 'putin', 'puton', 'putos', 'putza', 'puyas', 'puzel', 'puzta', 'pwned', 'pyats', 'pyets', 'pygal', 'pyins', 'pylon', 'pyned', 'pynes', 'pyoid', 'pyots', 'pyral', 'pyran', 'pyres', 'pyrex', 'pyric', 'pyros', 'pyrus', 'pyxed', 'pyxes', 'pyxie', 'pyxis', 'qadis', 'qaids', 'qapik', 'qibla', 'qilas', 'qipao', 'qophs', 'qorma', 'quabs', 'quack', 'quads', 'quags', 'quail', 'quair', 'quais', 'quake', 'quaky', 'quale', 'qualm', 'qualy', 'quank', 'quant', 'quare', 'quark', 'quarl', 'quart', 'quash', 'quasi', 'quate', 'quats', 'quawk', 'quaws', 'quayd', 'quays', 'qubit', 'quean', 'queck', 'quena', 'quern', 'query', 'queso', 'quest', 'queyn', 'queys', 'quibs', 'quich', 'quick', 'quids', 'quies', 'quiet', 'quila', 'quilt', 'quims', 'quina', 'quine', 'quink', 'quino', 'quins', 'quint', 'quipo', 'quips', 'quire', 'quirk', 'quirl', 'quirt', 'quist', 'quite', 'quits', 'quoad', 'quods', 'quoif', 'quoin', 'quois', 'quoit', 'quonk', 'quops', 'quork', 'quorl', 'quota', 'quote', 'quoth', 'quoys', 'quran', 'qursh', 'quyte', 'rabic', 'rabid', 'rabis', 'raced', 'races', 'rache', 'racks', 'racon', 'radge', 'radgy', 'radif', 'radio', 'radix', 'radon', 'rafik', 'rafiq', 'rafts', 'rafty', 'ragde', 'raged', 'rages', 'ragis', 'ragus', 'rahed', 'rahui', 'raids', 'raike', 'raiks', 'raile', 'rails', 'raine', 'rains', 'rainy', 'raise', 'raith', 'raits', 'rajes', 'raked', 'rakes', 'rakhi', 'rakis', 'raksi', 'rakus', 'rales', 'ralph', 'ramen', 'rames', 'ramet', 'ramie', 'ramin', 'ramis', 'ramon', 'ramps', 'ramse', 'ramsh', 'ramus', 'rance', 'ranch', 'rando', 'rands', 'randy', 'raned', 'ranes', 'range', 'rangi', 'rangs', 'rangy', 'ranid', 'ranis', 'ranke', 'ranks', 'ranse', 'rants', 'ranty', 'raped', 'rapes', 'raphe', 'rapid', 'rapin', 'rapso', 'rased', 'raspy', 'ratch', 'rated', 'ratel', 'rates', 'rathe', 'raths', 'ratio', 'ratos', 'ratus', 'rauli', 'rauns', 'raupo', 'raved', 'ravel', 'raven', 'raves', 'ravey', 'ravin', 'rawdy', 'rawin', 'rawks', 'rawly', 'rawns', 'raxed', 'raxes', 'rayed', 'rayle', 'rayls', 'rayne', 'rayon', 'razed', 'razes', 'razet', 'reach', 'react', 'reads', 'ready', 'reais', 'reaks', 'realm', 'realo', 'reals', 'reams', 'reamy', 'reans', 'reaps', 'reast', 'rebid', 'rebit', 'rebop', 'rebud', 'rebus', 'rebut', 'rebuy', 'recal', 'recap', 'recit', 'recks', 'recon', 'recta', 'recti', 'recto', 'recut', 'redan', 'redia', 'redif', 'redig', 'redip', 'redly', 'redon', 'redos', 'redox', 'redub', 'redug', 'redux', 'refan', 'refis', 'refit', 'refix', 'refly', 'regal', 'regia', 'regma', 'regna', 'regos', 'regot', 'rehab', 'reifs', 'reify', 'reign', 'reiks', 'reing', 'reink', 'reins', 'reist', 'rejas', 'rejig', 'rejon', 'relax', 'relay', 'relic', 'relit', 'relos', 'reman', 'remap', 'remit', 'remix', 'remou', 'renal', 'renay', 'rends', 'rendu', 'renga', 'rengs', 'renig', 'renks', 'renos', 'rents', 'reoil', 'repas', 'repat', 'repay', 'repin', 'repla', 'reply', 'repos', 'repot', 'repun', 'reput', 'resam', 'resat', 'resaw', 'resay', 'resid', 'resin', 'resit', 'resod', 'resol', 'resow', 'resto', 'resty', 'retag', 'retam', 'retax', 'retch', 'retia', 'retin', 'retip', 'retox', 'reups', 'revow', 'rewan', 'rewax', 'rewin', 'rewon', 'rewth', 'rhabd', 'rheas', 'rheid', 'rheum', 'rhies', 'rhime', 'rhine', 'rhino', 'rhody', 'rhomb', 'rhone', 'rhumb', 'rhyme', 'rhyne', 'rhyta', 'riads', 'rials', 'riant', 'riato', 'ribas', 'ribes', 'riced', 'rices', 'ricey', 'riche', 'richt', 'ricks', 'rides', 'ridge', 'ridgy', 'riels', 'riems', 'rifle', 'rifte', 'rifts', 'rifty', 'right', 'rigmo', 'rigol', 'rikwa', 'riled', 'riles', 'riley', 'rimae', 'rimed', 'rimes', 'rimon', 'rimus', 'rince', 'rinds', 'rindy', 'rines', 'ringe', 'rings', 'ringy', 'rinks', 'rinse', 'rioja', 'rione', 'riots', 'rioty', 'riped', 'ripen', 'ripes', 'risen', 'risky', 'rites', 'rithe', 'ritzy', 'rival', 'rivas', 'rived', 'rivel', 'riven', 'rives', 'rivet', 'riyal', 'rizas', 'roach', 'roads', 'roady', 'roake', 'roaky', 'roams', 'roans', 'roany', 'roast', 'roate', 'robed', 'robes', 'robin', 'roble', 'robug', 'roche', 'rocks', 'rocky', 'rodes', 'rodny', 'rogan', 'rogue', 'roguy', 'rohan', 'rohes', 'rohun', 'rohus', 'roids', 'roils', 'roily', 'roins', 'roist', 'rojak', 'rojis', 'roked', 'rokes', 'rokey', 'rolag', 'roles', 'rolfs', 'romal', 'roman', 'romps', 'rompu', 'rompy', 'ronde', 'rones', 'ronte', 'ronts', 'ronuk', 'roped', 'ropes', 'ropey', 'roque', 'rosal', 'rosed', 'roset', 'rosha', 'roshi', 'rosin', 'rosit', 'rosti', 'rotal', 'rotan', 'rotas', 'rotch', 'roted', 'rotes', 'rotis', 'rotls', 'rouen', 'roues', 'rouet', 'roufs', 'rouge', 'rough', 'rougy', 'rouks', 'rouky', 'roule', 'rouls', 'roums', 'round', 'roups', 'roupy', 'rouse', 'roust', 'route', 'routh', 'routs', 'roved', 'roven', 'roves', 'rowan', 'rowdy', 'rowed', 'rowel', 'rowen', 'rowet', 'rowie', 'rowme', 'rownd', 'rowns', 'rowth', 'rowts', 'royal', 'royet', 'royne', 'royst', 'rozes', 'rozet', 'rozit', 'ruach', 'rubai', 'ruban', 'rubel', 'rubes', 'rubin', 'rubio', 'ruble', 'rubli', 'ruche', 'ruchy', 'rucks', 'rudas', 'rudes', 'rudie', 'rudis', 'rueda', 'rugae', 'rugal', 'rugas', 'rugby', 'ruice', 'ruing', 'ruins', 'rukhs', 'ruled', 'rules', 'rumal', 'rumba', 'rumbo', 'rumen', 'rumes', 'rumly', 'rumpo', 'rumps', 'rumpy', 'runce', 'runch', 'runds', 'runed', 'runes', 'rungs', 'runic', 'runos', 'runts', 'runty', 'ruote', 'rupia', 'rushy', 'rusky', 'rusma', 'rusty', 'ruths', 'rutin', 'ruvid', 'ryals', 'rybat', 'ryked', 'rykes', 'rynds', 'ryoti', 'ryots', 'rypin', 'rythe', 'ryugi', 'sabed', 'saber', 'sabin', 'sabir', 'sabji', 'sable', 'sabot', 'sabre', 'sabzi', 'sacre', 'sadhe', 'sadhu', 'sadic', 'sadly', 'safed', 'safer', 'sager', 'sagum', 'saheb', 'sahib', 'saice', 'saick', 'saine', 'saint', 'saith', 'sajou', 'saker', 'sakti', 'salep', 'salet', 'salic', 'salix', 'salmi', 'salon', 'salop', 'salto', 'salty', 'salud', 'salue', 'salut', 'salve', 'salvo', 'sambo', 'samek', 'samel', 'samen', 'samey', 'samfi', 'samfu', 'sampi', 'sandy', 'saned', 'saner', 'sangh', 'sango', 'sanko', 'santo', 'sapid', 'sapor', 'sared', 'sarge', 'sargo', 'sarin', 'sarky', 'sarod', 'sarvo', 'sated', 'satem', 'sater', 'satin', 'satyr', 'sauce', 'sauch', 'saucy', 'saugh', 'sault', 'saunf', 'saunt', 'saury', 'saute', 'sauve', 'saved', 'saver', 'savey', 'savin', 'savor', 'savoy', 'sawed', 'sawer', 'sayed', 'sayer', 'sayid', 'sayne', 'sayon', 'scail', 'scald', 'scale', 'scalp', 'scaly', 'scamp', 'scand', 'scant', 'scape', 'scapi', 'scare', 'scarf', 'scarp', 'scart', 'scary', 'scath', 'scaud', 'scaup', 'scaur', 'sceat', 'scena', 'scend', 'scent', 'schav', 'schif', 'schmo', 'schul', 'schwa', 'scind', 'scion', 'scire', 'sclim', 'scobe', 'scody', 'scold', 'scone', 'scopa', 'scope', 'score', 'scorn', 'scorp', 'scote', 'scoug', 'scoup', 'scour', 'scout', 'scowl', 'scowp', 'scrab', 'scrae', 'scrag', 'scram', 'scran', 'scrap', 'scrat', 'scraw', 'scray', 'screw', 'scrim', 'scrip', 'scrob', 'scrod', 'scrog', 'scrow', 'scrub', 'scrum', 'scuba', 'scudi', 'scudo', 'scuft', 'sculk', 'sculp', 'scurf', 'scuta', 'scute', 'sdayn', 'sdein', 'seamy', 'sebum', 'sedan', 'sedgy', 'sedum', 'segar', 'segni', 'segno', 'segol', 'sehri', 'seity', 'seiza', 'selah', 'selfy', 'selky', 'selva', 'sengi', 'senor', 'senti', 'senvy', 'senza', 'sepad', 'sepal', 'sepia', 'sepic', 'sepoy', 'septa', 'serac', 'serai', 'seral', 'seria', 'seric', 'serif', 'serin', 'seron', 'serow', 'serum', 'servo', 'setal', 'seton', 'setup', 'sevak', 'sevir', 'sewan', 'sewar', 'sewin', 'sexor', 'sexto', 'shack', 'shade', 'shady', 'shaft', 'shake', 'shako', 'shakt', 'shaky', 'shale', 'shalm', 'shalt', 'shaly', 'shame', 'shand', 'shank', 'shape', 'shard', 'share', 'shark', 'sharn', 'sharp', 'shart', 'shaul', 'shave', 'shawl', 'shawm', 'shawn', 'sheaf', 'sheal', 'shear', 'sheik', 'shelf', 'shend', 'sheng', 'shent', 'sheol', 'sherd', 'shero', 'sheva', 'shewn', 'shied', 'shiel', 'shier', 'shift', 'shily', 'shine', 'shiny', 'shiok', 'shire', 'shirk', 'shirt', 'shite', 'shiur', 'shiva', 'shive', 'shlep', 'shlub', 'shmek', 'shmoe', 'shoal', 'shoat', 'shock', 'shoed', 'shoer', 'shogi', 'shoji', 'shola', 'shone', 'shonk', 'shope', 'shore', 'shorl', 'shorn', 'short', 'shote', 'shoud', 'shout', 'shove', 'showd', 'shown', 'showy', 'shoyu', 'shred', 'shrew', 'shrow', 'shrub', 'shrug', 'shtar', 'shtik', 'shtum', 'shtup', 'shuba', 'shuck', 'shule', 'shuln', 'shunt', 'shura', 'shute', 'shyer', 'sibyl', 'sicht', 'sicko', 'sicky', 'sider', 'sidey', 'sidha', 'sidhe', 'sidle', 'sield', 'sient', 'sieth', 'sieur', 'sight', 'sigla', 'sigma', 'signa', 'siker', 'siled', 'silen', 'siler', 'silex', 'silky', 'silty', 'silva', 'simar', 'simba', 'simul', 'since', 'sined', 'sinew', 'singe', 'sinky', 'siped', 'sired', 'siren', 'siroc', 'sirup', 'sitar', 'sitch', 'sited', 'sithe', 'sitka', 'situp', 'siver', 'sixer', 'sixmo', 'sixte', 'sixth', 'sixty', 'sizar', 'sized', 'sizel', 'sizer', 'skail', 'skald', 'skarn', 'skart', 'skate', 'skean', 'skear', 'skein', 'skelf', 'skelm', 'skelp', 'skerm', 'skied', 'skier', 'skiey', 'skimo', 'skimp', 'skint', 'skirl', 'skirt', 'skite', 'skive', 'skivy', 'sklim', 'skoal', 'skobe', 'skody', 'skort', 'skran', 'skyed', 'skyer', 'skyre', 'skyte', 'slack', 'slade', 'slaid', 'slain', 'slake', 'slane', 'slang', 'slank', 'slant', 'slart', 'slate', 'slaty', 'slave', 'slept', 'slice', 'slick', 'slide', 'slier', 'slime', 'slimy', 'sling', 'slink', 'slipe', 'slipt', 'slive', 'sloan', 'sloid', 'slojd', 'sloka', 'slope', 'slopy', 'slorm', 'sloth', 'slove', 'sloyd', 'slued', 'sluit', 'slump', 'slung', 'slunk', 'slurb', 'slurp', 'slyer', 'slype', 'smack', 'smaik', 'smalt', 'smart', 'smaze', 'smear', 'smeik', 'smelt', 'smerk', 'smick', 'smile', 'smily', 'smirk', 'smite', 'smith', 'smize', 'smock', 'smoke', 'smoky', 'smolt', 'smore', 'smorg', 'smote', 'smout', 'smowt', 'snack', 'snafu', 'snail', 'snake', 'snaky', 'snare', 'snarf', 'snark', 'snarl', 'snary', 'snath', 'snead', 'sneak', 'sneap', 'sneck', 'snick', 'snide', 'snied', 'snift', 'snipe', 'snipy', 'snirt', 'snive', 'snoek', 'snoep', 'snoke', 'snore', 'snort', 'snout', 'snowk', 'snowy', 'snuck', 'soapy', 'soare', 'soave', 'sober', 'socia', 'socle', 'sodic', 'sofar', 'softa', 'softy', 'soger', 'sohur', 'soily', 'sokah', 'soken', 'solah', 'solan', 'solar', 'solde', 'soldi', 'soled', 'solei', 'soler', 'solid', 'solum', 'solve', 'soman', 'sonar', 'sonce', 'sonde', 'songy', 'sonic', 'sonly', 'sophy', 'sopra', 'soral', 'sorbi', 'sorda', 'sored', 'sorel', 'sorex', 'sorta', 'souce', 'souct', 'sough', 'souly', 'sound', 'soupy', 'south', 'sowar', 'sowce', 'sowed', 'sower', 'sowle', 'sownd', 'sowne', 'sowth', 'soyle', 'soyuz', 'sozin', 'space', 'spack', 'spacy', 'spade', 'spado', 'spaed', 'spaer', 'spahi', 'spail', 'spain', 'spait', 'spake', 'spald', 'spale', 'spalt', 'spane', 'spang', 'spank', 'spard', 'spare', 'spark', 'spart', 'spate', 'spaul', 'spawl', 'spawn', 'spayd', 'speak', 'speal', 'spean', 'spear', 'speat', 'speck', 'spect', 'speil', 'speir', 'speld', 'spelk', 'spelt', 'spend', 'spent', 'sperm', 'speug', 'spewy', 'spial', 'spica', 'spice', 'spick', 'spicy', 'spide', 'spied', 'spiel', 'spier', 'spike', 'spiky', 'spile', 'spilt', 'spina', 'spine', 'spink', 'spiny', 'spire', 'spirt', 'spiry', 'spite', 'spitz', 'splat', 'splay', 'split', 'splog', 'spode', 'spoil', 'spoke', 'spore', 'spork', 'sport', 'spout', 'sprad', 'sprag', 'sprat', 'spray', 'spred', 'sprew', 'sprig', 'sprit', 'sprod', 'sprog', 'sprue', 'sprug', 'spued', 'spuer', 'spule', 'spume', 'spumy', 'spunk', 'spurn', 'spurt', 'sputa', 'spyal', 'spyre', 'squab', 'squad', 'squat', 'squaw', 'squeg', 'squib', 'squid', 'squit', 'squiz', 'stack', 'stade', 'stage', 'stagy', 'staid', 'staig', 'stain', 'stair', 'stake', 'stale', 'stalk', 'stamp', 'stand', 'stane', 'stang', 'stank', 'staph', 'stare', 'stark', 'starn', 'stary', 'staun', 'stave', 'stead', 'steak', 'steal', 'steam', 'stean', 'stear', 'steik', 'steil', 'stein', 'stela', 'stend', 'steno', 'stern', 'stewy', 'stich', 'stick', 'stied', 'stilb', 'stile', 'stime', 'stimy', 'sting', 'stink', 'stipa', 'stipe', 'stire', 'stirk', 'stirp', 'stive', 'stivy', 'stoae', 'stoai', 'stock', 'stoep', 'stogy', 'stoic', 'stoke', 'stole', 'stoln', 'stoma', 'stomp', 'stond', 'stone', 'stong', 'stonk', 'stony', 'stope', 'store', 'stork', 'storm', 'story', 'stoun', 'stoup', 'stour', 'stove', 'stown', 'stowp', 'strad', 'strae', 'strag', 'strak', 'strap', 'straw', 'stray', 'strep', 'strew', 'stria', 'strig', 'strim', 'strip', 'strop', 'strow', 'stroy', 'strum', 'stuck', 'stude', 'study', 'stulm', 'stump', 'stung', 'stunk', 'stupa', 'stupe', 'sture', 'styed', 'style', 'styli', 'stylo', 'styme', 'styre', 'suave', 'subah', 'subak', 'suber', 'subha', 'sucky', 'sucre', 'sudan', 'sudor', 'suent', 'suety', 'sugan', 'sugar', 'suing', 'suint', 'suite', 'sulci', 'sulfa', 'sulfo', 'sulky', 'sulph', 'sumac', 'sumph', 'suona', 'suped', 'super', 'supra', 'surah', 'sural', 'surat', 'sured', 'surfy', 'surge', 'surgy', 'surly', 'sutor', 'sutra', 'swack', 'swage', 'swail', 'swain', 'swale', 'swaly', 'swami', 'swamp', 'swamy', 'swang', 'swank', 'swapt', 'sward', 'sware', 'swarf', 'swarm', 'swart', 'swath', 'swayl', 'sweal', 'swear', 'sweat', 'sweir', 'swelt', 'swept', 'swerf', 'swift', 'swile', 'swine', 'swing', 'swink', 'swipe', 'swire', 'swirl', 'swith', 'swive', 'swole', 'swoln', 'swopt', 'sword', 'swore', 'sworn', 'swoun', 'swung', 'sybil', 'syboe', 'sybow', 'sycon', 'syker', 'sylph', 'sylva', 'symar', 'synch', 'syned', 'synod', 'synth', 'syped', 'syrah', 'syren', 'syrup', 'sythe', 'syver', 'taber', 'tabes', 'tabid', 'tabis', 'table', 'tabls', 'tabor', 'tabos', 'tabun', 'tabus', 'taces', 'tache', 'tachi', 'tacho', 'tachs', 'tacks', 'tacky', 'tacos', 'taels', 'tahrs', 'taigs', 'taiko', 'tails', 'tains', 'taish', 'tajes', 'taken', 'taker', 'takes', 'takhi', 'takin', 'takis', 'talcs', 'talcy', 'taler', 'tales', 'talik', 'talks', 'talky', 'talon', 'taluk', 'talus', 'tamed', 'tamer', 'tames', 'tamin', 'tamis', 'tamps', 'tangi', 'tango', 'tangs', 'tangy', 'tanhs', 'tanks', 'tanky', 'tansu', 'tansy', 'taped', 'tapen', 'taper', 'tapes', 'tapir', 'tapis', 'tapus', 'tardo', 'tards', 'tardy', 'tared', 'tares', 'targe', 'tarns', 'taroc', 'tarok', 'taros', 'tarps', 'tarse', 'tarsi', 'tarzy', 'tased', 'taser', 'taube', 'tauld', 'tauon', 'taupe', 'taver', 'tawed', 'tawer', 'tawie', 'tawny', 'tawse', 'taxed', 'taxer', 'taxes', 'taxis', 'taxol', 'taxon', 'taxor', 'taxus', 'teach', 'teads', 'teaks', 'teals', 'teams', 'tears', 'teary', 'techs', 'techy', 'tecum', 'tegua', 'tegus', 'tehrs', 'teils', 'teind', 'teins', 'telco', 'telia', 'telic', 'teloi', 'telos', 'tempi', 'tempo', 'temps', 'tench', 'tends', 'tendu', 'tenia', 'tenor', 'tepal', 'tepas', 'tepid', 'tepoy', 'terai', 'teras', 'terfs', 'terga', 'terms', 'terns', 'terza', 'tesla', 'teuch', 'teugh', 'texas', 'thack', 'thagi', 'thaim', 'thale', 'thali', 'thane', 'thang', 'thank', 'thans', 'thanx', 'tharm', 'thars', 'thaws', 'thawy', 'theca', 'thegn', 'theic', 'thein', 'their', 'thelf', 'thema', 'thens', 'theor', 'theow', 'therm', 'thesp', 'thews', 'thewy', 'thick', 'thief', 'thigs', 'thilk', 'thine', 'thing', 'think', 'thins', 'thiol', 'third', 'thirl', 'thole', 'tholi', 'thong', 'thorn', 'thorp', 'those', 'thous', 'thowl', 'thrae', 'thraw', 'threw', 'thrid', 'thrip', 'throb', 'throe', 'throw', 'thrum', 'thuds', 'thugs', 'thuja', 'thumb', 'thump', 'thunk', 'thurl', 'thuya', 'thyme', 'thymi', 'tians', 'tiare', 'tiars', 'tical', 'ticed', 'tices', 'tichy', 'ticks', 'ticky', 'tidal', 'tides', 'tiefs', 'tiers', 'tifos', 'tiger', 'tiges', 'tigon', 'tikas', 'tikes', 'tilak', 'tilde', 'tiled', 'tiler', 'tiles', 'timbo', 'timed', 'timer', 'times', 'timon', 'timps', 'tinas', 'tinds', 'tinea', 'tined', 'tines', 'tinge', 'tings', 'tinks', 'tipsy', 'tired', 'tires', 'tirls', 'tiros', 'tiyns', 'tizes', 'toads', 'toady', 'toaze', 'tocks', 'tocky', 'today', 'todea', 'toeas', 'tofus', 'togae', 'togas', 'toged', 'toges', 'togue', 'toidy', 'toile', 'toils', 'toing', 'toise', 'tokay', 'toked', 'token', 'toker', 'tokes', 'tolan', 'tolar', 'tolas', 'toled', 'toles', 'tolus', 'toman', 'tombs', 'tomen', 'tomes', 'tomia', 'tomin', 'tonal', 'tondi', 'toned', 'toner', 'tones', 'toney', 'tonga', 'tongs', 'tonic', 'tonka', 'tonks', 'tonus', 'topaz', 'toped', 'topek', 'toper', 'topes', 'tophe', 'tophi', 'tophs', 'topic', 'topis', 'toque', 'torah', 'toran', 'toras', 'torch', 'torcs', 'tores', 'toric', 'torse', 'torsi', 'torsk', 'torus', 'tosed', 'toshy', 'tosyl', 'touch', 'tough', 'touks', 'touns', 'tours', 'touse', 'tousy', 'touze', 'touzy', 'towai', 'towed', 'towel', 'tower', 'towie', 'towns', 'towny', 'towse', 'towsy', 'towze', 'towzy', 'toxic', 'toxin', 'toyed', 'toyer', 'tozed', 'tozes', 'tozie', 'trabs', 'trace', 'track', 'trade', 'trads', 'trady', 'tragi', 'trags', 'tragu', 'traik', 'trail', 'train', 'tramp', 'trams', 'trank', 'tranq', 'trans', 'trape', 'trapo', 'traps', 'trash', 'trave', 'trawl', 'trayf', 'trays', 'tread', 'treck', 'trefa', 'treif', 'treks', 'trema', 'trems', 'trend', 'trews', 'treyf', 'treys', 'triac', 'triad', 'trial', 'tribe', 'trice', 'trick', 'tride', 'tried', 'tries', 'trifa', 'trigo', 'trigs', 'trike', 'trild', 'trims', 'trine', 'trins', 'triol', 'trios', 'tripe', 'trips', 'tripy', 'troad', 'troak', 'trock', 'trode', 'trods', 'trogs', 'trois', 'troke', 'tromp', 'trona', 'tronc', 'trone', 'tronk', 'trons', 'trope', 'trove', 'trows', 'troys', 'truce', 'truck', 'trued', 'trues', 'trugo', 'trugs', 'truly', 'trump', 'trunk', 'tryke', 'tryma', 'tryps', 'tsade', 'tsadi', 'tsked', 'tsuba', 'tsubo', 'tuans', 'tubae', 'tubal', 'tubar', 'tubas', 'tubed', 'tuber', 'tubes', 'tucks', 'tufas', 'tugra', 'tuile', 'tuina', 'tuism', 'tules', 'tulip', 'tulpa', 'tulps', 'tulsi', 'tumid', 'tumor', 'tumps', 'tumpy', 'tunas', 'tunds', 'tuned', 'tuner', 'tunes', 'tungs', 'tunic', 'tupek', 'tupik', 'tuple', 'turbo', 'turds', 'turfs', 'turfy', 'turks', 'turme', 'turms', 'turns', 'turon', 'turps', 'tushy', 'tusky', 'tuxes', 'tuyer', 'twaes', 'twain', 'twals', 'twang', 'twank', 'tways', 'tweak', 'twerk', 'twerp', 'twice', 'twier', 'twigs', 'twine', 'twink', 'twins', 'twiny', 'twire', 'twirk', 'twirl', 'twirp', 'twocs', 'twoer', 'twonk', 'twyer', 'tyers', 'tying', 'tykes', 'tyler', 'tymps', 'tynde', 'tyned', 'tynes', 'typal', 'typed', 'types', 'typic', 'typos', 'tyran', 'tyred', 'tyres', 'tyros', 'tzars', 'ubacs', 'ubity', 'udals', 'udons', 'udyog', 'ugali', 'uhlan', 'ukase', 'ulans', 'ulcer', 'ulema', 'ulmin', 'ulmos', 'ulnad', 'ulnae', 'ulnar', 'ulnas', 'ulpan', 'ultra', 'ulvas', 'ulyie', 'ulzie', 'umbel', 'umber', 'umble', 'umbos', 'umbra', 'umbre', 'umiac', 'umiak', 'umiaq', 'umped', 'umphs', 'umpie', 'umpty', 'umrah', 'umras', 'unagi', 'unais', 'unapt', 'unarm', 'unary', 'unbag', 'unbar', 'unbed', 'unbid', 'unbox', 'uncap', 'unces', 'uncia', 'uncle', 'uncos', 'uncoy', 'undam', 'under', 'undos', 'uneth', 'unfed', 'unfit', 'unfix', 'unget', 'ungod', 'ungot', 'unhat', 'unhip', 'unica', 'unify', 'unios', 'unite', 'units', 'unity', 'unjam', 'unked', 'unket', 'unkey', 'unkid', 'unlap', 'unlaw', 'unlay', 'unled', 'unleg', 'unlet', 'unlid', 'unlit', 'unmad', 'unmet', 'unmew', 'unmix', 'unode', 'unold', 'unpay', 'unpeg', 'unply', 'unpot', 'unred', 'unrid', 'unrig', 'unrip', 'unsaw', 'unsay', 'unset', 'unsew', 'unsex', 'unsod', 'untag', 'untax', 'untie', 'until', 'unwed', 'unwet', 'unwit', 'unzip', 'upbow', 'upbye', 'updos', 'updry', 'upend', 'upjet', 'uplay', 'upled', 'uplit', 'upran', 'upset', 'upsey', 'uptak', 'upter', 'uptie', 'uraei', 'urali', 'uraos', 'urase', 'urate', 'urban', 'urbex', 'urbia', 'ureal', 'ureas', 'uredo', 'ureic', 'ureid', 'urena', 'urent', 'urged', 'urges', 'urial', 'urine', 'urite', 'urman', 'urnal', 'urned', 'urped', 'ursae', 'ursid', 'urson', 'urvas', 'usage', 'useta', 'usher', 'using', 'usnea', 'usnic', 'ustad', 'uster', 'uteri', 'utero', 'utile', 'uveal', 'uveas', 'vacui', 'vacuo', 'vades', 'vadge', 'vague', 'vagus', 'vaids', 'vails', 'vaire', 'vairs', 'vairy', 'vakil', 'vales', 'valet', 'valid', 'valis', 'valor', 'valse', 'value', 'vamps', 'vampy', 'vaned', 'vanes', 'vangs', 'vants', 'vaped', 'vaper', 'vapes', 'vapid', 'vapor', 'vardo', 'vardy', 'varec', 'vares', 'varix', 'varus', 'vasty', 'vatic', 'vatje', 'vatos', 'vatus', 'vauch', 'vault', 'vaunt', 'vaute', 'vauts', 'vawte', 'vaxes', 'veals', 'vealy', 'vegan', 'vegas', 'vegos', 'veils', 'veily', 'veins', 'veiny', 'velar', 'velds', 'veldt', 'velum', 'venal', 'venas', 'vends', 'vendu', 'venom', 'venti', 'vents', 'venus', 'verba', 'verbs', 'versa', 'verso', 'verst', 'verts', 'vertu', 'vespa', 'vesta', 'vetch', 'vexil', 'vezir', 'vials', 'viand', 'vibed', 'vibes', 'vibex', 'vibey', 'vicar', 'viced', 'vices', 'vichy', 'vicus', 'video', 'viers', 'vieux', 'views', 'viewy', 'vifda', 'vigas', 'vigor', 'vilde', 'viler', 'vimen', 'vinal', 'vinas', 'vinca', 'vined', 'viner', 'vines', 'vinew', 'vinho', 'vinos', 'vints', 'vinyl', 'viola', 'viold', 'viols', 'viper', 'viral', 'vired', 'vireo', 'vires', 'virga', 'virge', 'virgo', 'virls', 'virtu', 'virus', 'vised', 'visna', 'visne', 'vison', 'visor', 'vista', 'visto', 'vitae', 'vital', 'vitas', 'vitex', 'vitro', 'vixen', 'vizor', 'vlast', 'vleis', 'vlies', 'vlogs', 'voars', 'vobla', 'vocab', 'vocal', 'voces', 'vodka', 'vodun', 'voema', 'vogie', 'vogue', 'voice', 'voids', 'voila', 'voile', 'voips', 'volae', 'volar', 'voled', 'voles', 'volet', 'volke', 'volks', 'volta', 'volte', 'volti', 'volts', 'vomer', 'vomit', 'voted', 'voter', 'votes', 'vouch', 'vouge', 'vowed', 'vowel', 'vower', 'voxel', 'voxes', 'vozhd', 'vraic', 'vrils', 'vrous', 'vrouw', 'vrows', 'vughs', 'vughy', 'vulgo', 'vulns', 'vygie', 'vying', 'wacke', 'wacko', 'wacks', 'wacky', 'wader', 'wades', 'wadge', 'wadis', 'wadts', 'wafer', 'wafts', 'waged', 'wager', 'wages', 'wagon', 'wagyu', 'wahey', 'waide', 'waifs', 'waift', 'wails', 'wains', 'wairs', 'waist', 'waite', 'waits', 'waive', 'waked', 'waken', 'waker', 'wakes', 'wakfs', 'waldo', 'walds', 'waled', 'waler', 'wales', 'walie', 'walis', 'walks', 'walty', 'waltz', 'wamed', 'wames', 'wamus', 'wands', 'waned', 'wanes', 'waney', 'wangs', 'wanks', 'wanky', 'wanle', 'wanly', 'wants', 'wanty', 'wanze', 'waqfs', 'warbs', 'warby', 'wards', 'wared', 'wares', 'warez', 'warks', 'warms', 'warns', 'warps', 'warst', 'warts', 'warty', 'washi', 'washy', 'waspy', 'waste', 'watch', 'water', 'waugh', 'wauks', 'waulk', 'wauls', 'waurs', 'waved', 'waver', 'waves', 'wavey', 'waxed', 'waxen', 'waxer', 'waxes', 'wayed', 'wazir', 'weald', 'weals', 'weamb', 'weans', 'wears', 'weary', 'wecht', 'wedgy', 'wefts', 'weids', 'weigh', 'weils', 'weird', 'weirs', 'wekas', 'welch', 'welds', 'welks', 'welkt', 'welsh', 'welts', 'wembs', 'wench', 'wends', 'wents', 'werfs', 'weros', 'wersh', 'wetas', 'wetly', 'whack', 'whale', 'whamo', 'whams', 'whang', 'whaps', 'whare', 'wharf', 'whats', 'whaup', 'whaur', 'wheal', 'whear', 'wheat', 'wheft', 'whelk', 'whelm', 'whelp', 'whens', 'whets', 'wheys', 'whids', 'whies', 'whift', 'whigs', 'while', 'whilk', 'whims', 'whine', 'whins', 'whiny', 'whios', 'whips', 'whipt', 'whirl', 'whirs', 'whisk', 'whist', 'white', 'whits', 'whity', 'whole', 'whomp', 'whops', 'whore', 'whorl', 'whort', 'whose', 'whump', 'whups', 'whyda', 'wicks', 'wicky', 'widen', 'wider', 'wides', 'width', 'wield', 'wiels', 'wifed', 'wifes', 'wifey', 'wifts', 'wifty', 'wigan', 'wight', 'wilco', 'wilds', 'wiled', 'wiles', 'wilga', 'wilja', 'wilts', 'wimps', 'wimpy', 'wince', 'winch', 'winds', 'windy', 'wined', 'wines', 'winey', 'winge', 'wings', 'wingy', 'winks', 'winky', 'winos', 'winze', 'wiped', 'wiper', 'wipes', 'wired', 'wires', 'wised', 'wiser', 'wisha', 'wisht', 'wispy', 'witan', 'witch', 'wited', 'wites', 'withe', 'withs', 'withy', 'wived', 'wiver', 'wives', 'wizen', 'wizes', 'woads', 'woady', 'woald', 'wocks', 'wodge', 'wodgy', 'woful', 'wojus', 'woken', 'woker', 'wolds', 'wolfs', 'wolve', 'woman', 'womas', 'wombs', 'womby', 'women', 'womyn', 'wonga', 'wongi', 'wonks', 'wonky', 'wonts', 'words', 'wordy', 'works', 'worky', 'world', 'worms', 'wormy', 'worse', 'worst', 'worth', 'worts', 'would', 'wound', 'woven', 'woxen', 'wrack', 'wrang', 'wraps', 'wrapt', 'wrast', 'wrate', 'wrath', 'wreak', 'wreck', 'wrens', 'wrest', 'wrick', 'wried', 'wries', 'wring', 'wrist', 'write', 'writs', 'wroke', 'wrong', 'wrote', 'wroth', 'wrung', 'wunga', 'wurst', 'wuxia', 'wyled', 'wyles', 'wynds', 'wyted', 'wytes', 'wythe', 'xenia', 'xenic', 'xeric', 'xerus', 'xrays', 'xylan', 'xylem', 'xylic', 'xysti', 'yacht', 'yacks', 'yager', 'yages', 'yagis', 'yaird', 'yakow', 'yales', 'yamen', 'yamun', 'yangs', 'yanks', 'yapok', 'yapon', 'yarco', 'yards', 'yarks', 'yarns', 'yarto', 'yates', 'yauds', 'yauld', 'yaups', 'yawed', 'yawls', 'yawns', 'yawps', 'ybore', 'yclad', 'ycled', 'ycond', 'yeads', 'yeahs', 'yealm', 'yeans', 'yeard', 'yearn', 'years', 'yeast', 'yechs', 'yelks', 'yelms', 'yelps', 'yelts', 'yenta', 'yerba', 'yerds', 'yerks', 'yetis', 'yeuch', 'yeuks', 'yield', 'yiked', 'yikes', 'yince', 'yipes', 'yirds', 'yirks', 'yirth', 'yites', 'ylems', 'ylide', 'ylids', 'ylike', 'ylkes', 'ymolt', 'ympes', 'yocks', 'yodel', 'yodhs', 'yodle', 'yogas', 'yoghs', 'yogic', 'yogin', 'yogis', 'yoick', 'yojan', 'yokan', 'yoked', 'yokeg', 'yokel', 'yoker', 'yokes', 'yokul', 'yolks', 'yolps', 'yomps', 'yonic', 'yonis', 'yonks', 'yores', 'yorga', 'yorks', 'yorps', 'youks', 'young', 'yourn', 'yours', 'yourt', 'youse', 'youth', 'yowed', 'yowes', 'yowie', 'yowls', 'yowsa', 'yowza', 'yrapt', 'yrent', 'yrivd', 'yrneh', 'ysame', 'yuans', 'yucas', 'yucko', 'yucks', 'yufts', 'yugas', 'yuked', 'yukes', 'yukos', 'yulan', 'yules', 'yumps', 'yupon', 'yurta', 'yurts', 'zacks', 'zaide', 'zaidy', 'zaire', 'zambo', 'zamis', 'zante', 'zarfs', 'zaris', 'zatis', 'zawns', 'zaxes', 'zayde', 'zayin', 'zeals', 'zebra', 'zebus', 'zedas', 'zeins', 'zendo', 'zerda', 'zerks', 'zeros', 'zesty', 'zetas', 'zibet', 'zigan', 'zikrs', 'zilas', 'zilch', 'zimbs', 'zinco', 'zincs', 'zincy', 'zineb', 'zines', 'zings', 'zingy', 'zinke', 'zinky', 'zinos', 'ziram', 'zlote', 'zloty', 'zobus', 'zoeal', 'zoeas', 'zoism', 'zoist', 'zombi', 'zonae', 'zonal', 'zonda', 'zoned', 'zoner', 'zones', 'zonks', 'zoril', 'zoris', 'zorse', 'zouks', 'zowie', 'zupan', 'zupas', 'zurfs', 'zygal', 'zygon', 'zymes', 'zymic']\n"
     ]
    }
   ],
   "source": [
    "# dataset prep\n",
    "# !wget https://gist.githubusercontent.com/dracos/dd0668f281e685bad51479e5acaadb93/raw/6bfa15d263d6d5b63840a8e5b64e04b382fdb079/valid-wordle-words.txt\n",
    "import torch\n",
    "import random\n",
    "data_unfiltered = open('valid-wordle-words.txt', 'r').readlines()\n",
    "def filter_word(word):\n",
    "    # don't repeat letters this makes the game hard to code.\n",
    "    return len(set(word)) == len(word)\n",
    "data = [d for d in data_unfiltered if filter_word(d[:-1])]\n",
    "print('total filtered words:', len(data))\n",
    "print(\"words removed:\", len(data_unfiltered) - len(data))\n",
    "# train_data = random_split\n",
    "train_data, val_data, test_data = torch.utils.data.random_split(data, lengths=[0.8,0.1,0.1], generator=torch.random.manual_seed(42))\n",
    "open(\"filtered-valid-wordle-words.txt\", 'w').writelines(data)\n",
    "open(\"train-valid-wordle-words.txt\", 'w').writelines(train_data)\n",
    "open(\"val-valid-wordle-words.txt\", 'w').writelines(val_data)\n",
    "open(\"test-valid-wordle-words.txt\", 'w').writelines(test_data)\n",
    "remove_nl = lambda l: [li.strip() for li in l]\n",
    "train_data, val_data, test_data = list(remove_nl(train_data)), list(remove_nl(val_data)), list(remove_nl(test_data))\n",
    "data = list(remove_nl(data))\n",
    "print(list(data)) # good words: speir, lythe, rangs, ables"
   ]
  },
  {
   "cell_type": "code",
   "execution_count": 29,
   "id": "5ac3e42e",
   "metadata": {},
   "outputs": [
    {
     "name": "stdout",
     "output_type": "stream",
     "text": [
      "target='scour'\n",
      "Guess #1: print -> ⬜🟨⬜⬜⬜\n",
      "Guess #2: usage -> 🟨🟨⬜⬜⬜\n",
      "Guess #3: scour -> 🟩🟩🟩🟩🟩\n",
      "won\n"
     ]
    }
   ],
   "source": [
    "# game of wordle with no repeated characters.\n",
    "game_possible_words = data\n",
    "def get_feedback_str(guess, target):\n",
    "    feedback_str = \"\" # ⬜🟨⬜🟩⬜\n",
    "    for c_t, c_g in zip(target, guess):\n",
    "        if c_t == c_g:\n",
    "            feedback_str += \"🟩\"\n",
    "        elif c_g in target:\n",
    "            feedback_str += \"🟨\"\n",
    "        else:\n",
    "            feedback_str += \"⬜\"\n",
    "    return feedback_str\n",
    "target = random.choice(game_possible_words)\n",
    "def is_valid_guess(guess: str):\n",
    "    if guess.lower() not in game_possible_words:\n",
    "        return False\n",
    "    return True\n",
    "print(f\"{target=}\")\n",
    "for i in range(6):\n",
    "    guess = input(\"what is your next guess?\")\n",
    "    if guess == \"q\":\n",
    "        break\n",
    "    while not is_valid_guess(guess):\n",
    "        guess = input(f\"Invalid guess {guess}. What is your next guess?\")\n",
    "        if guess == \"q\":\n",
    "            break\n",
    "    if guess == 'q':\n",
    "        break\n",
    "    feedback = get_feedback_str(guess, target)\n",
    "    print(f\"Guess #{i+1}: {guess} -> {feedback}\")\n",
    "    if guess == target:\n",
    "        print(\"won\")\n",
    "        break\n",
    "    if i == 6:\n",
    "        print(\"lost\")"
   ]
  },
  {
   "cell_type": "code",
   "execution_count": 2,
   "id": "15d5b568",
   "metadata": {},
   "outputs": [],
   "source": [
    "# how do I formally come up with the best first word in wordle? \n",
    "# this is a tree search problem right? well its something.\n",
    "# I guess the first word: picks, based on how many words it eliminates or. \n",
    "# we start with a uniform prior over all 14855 words\n",
    "# Then in a pragmatic way we reduce the possibility space, are we trying to increase the probability of the answer? \n",
    "# well. we know the probability of any word is 1/14855 before we start, and nothing we do will change that. \n",
    "# we can only eliminate some words from the possibility space. \n",
    "# like if they we know that some letter is not included, or that some letter must be at a particular spot.\n",
    "# this feels a lot like a set cover problem with guesses connecting to a maximal number of words. maybe the edges are characters shared between them.\n",
    "# this isn't exactly right tho. The characters which are within your word are how you get feedback, so you want to remove characters. \n",
    "# if you had some character which was in every word, you would gain no information from using that character.\n",
    "# if you had a character which partitioned the set of choices exactly, then including that word would be great, \n",
    "# further the position information you get about that word would help you get more than just 1/2 the support eliminated.\n",
    "# if you knew that when the word is included that the position of its inclusion would partition the set further, \n",
    "# then you would try to optimally position this character.\n",
    "# then you balance these choices with all characters in your string to reduce your set optimally. \n",
    "# But I guess if you reduce your set to a set which isn't nice to reduce, then you've screwed yourself doing the greedy thing.\n",
    "# there is a simplified version of wordle. lets call it set wordle, we do this to reduce wordle to a set covering. \n",
    "# Perhaps because it isn't the exact same its an invalid heuristic, but whatever.\n",
    "# looking for a node in the graph and we only get to probe the graph and see if this node is neighbors with the target.\n",
    "# kind of a binary search. find nodes which partition the search, and which allow for further paritioning information gain style.\n",
    "# what is the information gain of the word (in decision trees information gain doesn't necessarily tell you everything because sometimes there are two zero information gain decisions, but they can lead to partitions which have high information gain in themselves.)\n",
    "# lets talk about the support (it sounds nice).\n",
    "# initial support is 14855\n",
    "# then you guess and what is the smallest support you can achieve after the first guess?\n",
    "# I can just enumerate over all possible words."
   ]
  },
  {
   "cell_type": "markdown",
   "id": "bf18612b",
   "metadata": {},
   "source": [
    "$min_{word} max_{target} (len support(feedback(word, target)))$"
   ]
  },
  {
   "cell_type": "code",
   "execution_count": null,
   "id": "cbd9f8b6",
   "metadata": {},
   "outputs": [
    {
     "data": {
      "text/plain": [
       "(194, 9365)"
      ]
     },
     "execution_count": 3,
     "metadata": {},
     "output_type": "execute_result"
    }
   ],
   "source": [
    "# this cell is me trying to calculate optimal word for wordle and realizing it seems intractible. And in python the first greedy information gathering layer is also too slow with O(n**3).\n",
    "class Criteria:\n",
    "    def __init__(self):\n",
    "        # types of feedback. \n",
    "        # W is in the word and in the correct spot.\n",
    "        # I is in the word but in the wrong spot.\n",
    "        # U is not in the word in any spot.\n",
    "        self.contained: set = set()\n",
    "        self.located: dict = dict()\n",
    "        self.not_contained: set = set()\n",
    "    #     self.guesses: list = list()\n",
    "    # def add_guess(self, guess, target):\n",
    "        # \"⬜🟨⬜🟩⬜\" I could add guesses to help verbalize the guesses and feedback for a langauge model instead of giving the LLM the full support every time.\n",
    "        # \n",
    "        # ...\n",
    "    def is_supported(self, word):\n",
    "        assert len(word) == 5, \"word must be 5 chars long\"\n",
    "        for c, i in self.located.items():\n",
    "            if word[i] != c:\n",
    "                return False\n",
    "        for c in self.contained:\n",
    "            if c not in word:\n",
    "                return False\n",
    "        for c in self.not_contained:\n",
    "            if c in word:\n",
    "                return False\n",
    "        return True\n",
    "    def verbalize(self):\n",
    "        # TODO: make for prompting \n",
    "        # return \n",
    "        ...\n",
    "    def __repr__(self):\n",
    "        return f\"Criteria(contained={self.contained}, located={self.located}, not_contained={self.not_contained})\"\n",
    "    def __add__(self, other):\n",
    "        new_contained = self.contained | other.contained\n",
    "        new_located = self.located | other.located\n",
    "        new_not_contained = self.not_contained | other.not_contained\n",
    "        new_criteria = Criteria()\n",
    "        new_criteria.contained = new_contained\n",
    "        new_criteria.located = new_located\n",
    "        new_criteria.not_contained = new_not_contained\n",
    "        return new_criteria\n",
    "\n",
    "def get_criteria(guess, target):\n",
    "    criteria: Criteria = Criteria()\n",
    "    for i, (c_t, c_g) in enumerate(zip(target, guess)):\n",
    "        if c_t == c_g:\n",
    "            criteria.located[c_t] = i\n",
    "        elif c_g in target:\n",
    "            criteria.contained.add(c_g)\n",
    "        else:\n",
    "            criteria.not_contained.add(c_g)\n",
    "    return criteria\n",
    "\n",
    "def find_new_support(support: list[str], criteria: Criteria):\n",
    "    new_support = []\n",
    "    for word in support:\n",
    "        if criteria.is_supported(word):\n",
    "            new_support.append(word)\n",
    "    return new_support\n",
    "\n",
    "# assuming all possible targets, what is the minimum_word max_targets{len newsupport(allwords, criteria(word, target))} ? \n",
    "# this is a 9365 * 9365 sized problem 87,703,225 words and to calculate the new support takes O(9365) again so really \n",
    "# 821,340,702,125 python string operations. which is going to be slow...\n",
    "\n",
    "new_support = find_new_support(data, get_criteria('words', \"tarts\"))\n",
    "len(new_support), len(data)"
   ]
  },
  {
   "cell_type": "code",
   "execution_count": null,
   "id": "da59d686",
   "metadata": {},
   "outputs": [],
   "source": [
    "# Dynamic programming solution to Wordle?\n",
    "# Given a set of criteria, you can narrow your search from there. \n"
   ]
  },
  {
   "cell_type": "code",
   "execution_count": 7,
   "id": "8573c7f1",
   "metadata": {},
   "outputs": [
    {
     "data": {
      "text/plain": [
       "66.85569444444444"
      ]
     },
     "execution_count": 7,
     "metadata": {},
     "output_type": "execute_result"
    }
   ],
   "source": [
    "25.7 * 9365 / 3600"
   ]
  },
  {
   "cell_type": "code",
   "execution_count": 13,
   "id": "76e0ddd4",
   "metadata": {},
   "outputs": [],
   "source": [
    "# for guess_word in data:\n",
    "#     worst_case_support = max(\n",
    "#         len(find_new_support(data, get_criteria(guess_word, target))) for target in data\n",
    "#     )\n",
    "#     print(worst_case_support)\n",
    "#     break\n",
    "worst_case_support = max(\n",
    "    len(find_new_support(data, get_criteria('ranes', target))) for target in data\n",
    ")"
   ]
  },
  {
   "cell_type": "code",
   "execution_count": 15,
   "id": "823f7f1c",
   "metadata": {},
   "outputs": [
    {
     "data": {
      "text/plain": [
       "704"
      ]
     },
     "execution_count": 15,
     "metadata": {},
     "output_type": "execute_result"
    }
   ],
   "source": [
    "worst_case_support"
   ]
  },
  {
   "cell_type": "code",
   "execution_count": 1,
   "id": "2501bfb1",
   "metadata": {},
   "outputs": [
    {
     "name": "stdout",
     "output_type": "stream",
     "text": [
      "[2025-05-25 17:05:07] server_args=ServerArgs(model_path='qwen/qwen2.5-0.5b', tokenizer_path='qwen/qwen2.5-0.5b', tokenizer_mode='auto', skip_tokenizer_init=False, load_format='auto', trust_remote_code=False, dtype='auto', kv_cache_dtype='auto', quantization=None, quantization_param_path=None, context_length=None, device='cuda', served_model_name='qwen/qwen2.5-0.5b', chat_template=None, completion_template=None, is_embedding=False, enable_multimodal=None, revision=None, host='0.0.0.0', port=30212, mem_fraction_static=0.88, max_running_requests=None, max_total_tokens=None, chunked_prefill_size=8192, max_prefill_tokens=16384, schedule_policy='fcfs', schedule_conservativeness=1.0, cpu_offload_gb=0, page_size=1, tp_size=1, pp_size=1, max_micro_batch_size=None, stream_interval=1, stream_output=False, random_seed=915520994, constrained_json_whitespace_pattern=None, watchdog_timeout=300, dist_timeout=None, download_dir=None, base_gpu_id=0, gpu_id_step=1, log_level='info', log_level_http=None, log_requests=False, log_requests_level=0, show_time_cost=False, enable_metrics=False, bucket_time_to_first_token=None, bucket_e2e_request_latency=None, bucket_inter_token_latency=None, collect_tokens_histogram=False, decode_log_interval=40, enable_request_time_stats_logging=False, kv_events_config=None, api_key=None, file_storage_path='sglang_storage', enable_cache_report=False, reasoning_parser=None, dp_size=1, load_balance_method='round_robin', ep_size=1, dist_init_addr=None, nnodes=1, node_rank=0, json_model_override_args='{}', preferred_sampling_params=None, lora_paths=None, max_loras_per_batch=8, lora_backend='triton', attention_backend=None, sampling_backend='flashinfer', grammar_backend='xgrammar', speculative_algorithm=None, speculative_draft_model_path=None, speculative_num_steps=None, speculative_eagle_topk=None, speculative_num_draft_tokens=None, speculative_accept_threshold_single=1.0, speculative_accept_threshold_acc=1.0, speculative_token_map=None, enable_double_sparsity=False, ds_channel_config_path=None, ds_heavy_channel_num=32, ds_heavy_token_num=256, ds_heavy_channel_type='qk', ds_sparse_decode_threshold=4096, disable_radix_cache=False, disable_cuda_graph=False, disable_cuda_graph_padding=False, enable_nccl_nvls=False, enable_tokenizer_batch_encode=False, disable_outlines_disk_cache=False, disable_custom_all_reduce=False, disable_overlap_schedule=False, enable_mixed_chunk=False, enable_dp_attention=False, enable_dp_lm_head=False, enable_ep_moe=False, enable_deepep_moe=False, deepep_mode='auto', ep_num_redundant_experts=0, ep_dispatch_algorithm=None, init_expert_location='trivial', enable_eplb=False, eplb_rebalance_num_iterations=1000, expert_distribution_recorder_mode=None, expert_distribution_recorder_buffer_size=None, enable_expert_distribution_metrics=False, deepep_config=None, enable_torch_compile=False, torch_compile_max_bs=32, cuda_graph_max_bs=None, cuda_graph_bs=None, torchao_config='', enable_nan_detection=False, enable_p2p_check=False, triton_attention_reduce_in_fp32=False, triton_attention_num_kv_splits=8, num_continuous_decode_steps=1, delete_ckpt_after_loading=False, enable_memory_saver=False, allow_auto_truncate=False, enable_custom_logit_processor=False, tool_call_parser=None, enable_hierarchical_cache=False, hicache_ratio=2.0, hicache_size=0, hicache_write_policy='write_through_selective', flashinfer_mla_disable_ragged=False, warmups=None, moe_dense_tp_size=None, n_share_experts_fusion=0, disable_chunked_prefix_cache=False, disable_fast_image_processor=False, mm_attention_backend=None, debug_tensor_dump_output_folder=None, debug_tensor_dump_input_file=None, debug_tensor_dump_inject=False, disaggregation_mode='null', disaggregation_bootstrap_port=8998, disaggregation_transfer_backend='mooncake', disaggregation_ib_device=None, pdlb_url=None)\n",
      "[2025-05-25 17:05:14] Attention backend not set. Use flashinfer backend by default.\n",
      "[2025-05-25 17:05:14] Init torch distributed begin.\n",
      "[2025-05-25 17:05:14] Init torch distributed ends. mem usage=0.00 GB\n",
      "[2025-05-25 17:05:14] init_expert_location from trivial\n",
      "[2025-05-25 17:05:15] Load weight begin. avail mem=47.23 GB\n",
      "[2025-05-25 17:05:15] Using model weights format ['*.safetensors']\n",
      "[2025-05-25 17:05:20] No model.safetensors.index.json found in remote.\n",
      "Loading safetensors checkpoint shards:   0% Completed | 0/1 [00:00<?, ?it/s]\n",
      "Loading safetensors checkpoint shards: 100% Completed | 1/1 [00:02<00:00,  2.27s/it]\n",
      "Loading safetensors checkpoint shards: 100% Completed | 1/1 [00:02<00:00,  2.27s/it]\n",
      "\n",
      "[2025-05-25 17:05:22] Load weight end. type=Qwen2ForCausalLM, dtype=torch.bfloat16, avail mem=46.25 GB, mem usage=0.98 GB.\n",
      "[2025-05-25 17:05:22] KV Cache is allocated. #tokens: 3545821, K size: 20.29 GB, V size: 20.29 GB\n",
      "[2025-05-25 17:05:22] Memory pool end. avail mem=5.11 GB\n",
      "2025-05-25 17:05:23,104 - INFO - flashinfer.jit: Prebuilt kernels not found, using JIT backend\n",
      "[2025-05-25 17:05:23] Capture cuda graph begin. This can take up to several minutes. avail mem=4.47 GB\n",
      "[2025-05-25 17:05:23] Capture cuda graph bs [1, 2, 4, 8, 16, 24, 32, 40, 48, 56, 64, 72, 80, 88, 96, 104, 112, 120, 128, 136, 144, 152, 160]\n",
      "Capturing batches (avail_mem=4.45 GB):   0%|          | 0/23 [00:00<?, ?it/s]2025-05-25 17:05:23,752 - INFO - flashinfer.jit: Loading JIT ops: batch_prefill_with_kv_cache_dtype_q_bf16_dtype_kv_bf16_dtype_o_bf16_dtype_idx_i32_head_dim_qk_64_head_dim_vo_64_posenc_0_use_swa_False_use_logits_cap_False_f16qk_False\n",
      "2025-05-25 17:05:23,833 - INFO - flashinfer.jit: Finished loading JIT ops: batch_prefill_with_kv_cache_dtype_q_bf16_dtype_kv_bf16_dtype_o_bf16_dtype_idx_i32_head_dim_qk_64_head_dim_vo_64_posenc_0_use_swa_False_use_logits_cap_False_f16qk_False\n",
      "Capturing batches (avail_mem=2.70 GB): 100%|██████████| 23/23 [00:05<00:00,  4.12it/s]\n",
      "[2025-05-25 17:05:28] Capture cuda graph end. Time elapsed: 5.65 s. mem usage=1.79 GB. avail mem=2.69 GB.\n",
      "[2025-05-25 17:05:29] max_total_num_tokens=3545821, chunked_prefill_size=8192, max_prefill_tokens=16384, max_running_requests=4097, context_len=32768\n",
      "[2025-05-25 17:05:29] INFO:     Started server process [1801121]\n",
      "[2025-05-25 17:05:29] INFO:     Waiting for application startup.\n",
      "[2025-05-25 17:05:29] INFO:     Application startup complete.\n",
      "[2025-05-25 17:05:29] INFO:     Uvicorn running on http://0.0.0.0:30212 (Press CTRL+C to quit)\n",
      "[2025-05-25 17:05:30] INFO:     127.0.0.1:34192 - \"GET /v1/models HTTP/1.1\" 200 OK\n",
      "[2025-05-25 17:05:30] INFO:     127.0.0.1:34196 - \"GET /get_model_info HTTP/1.1\" 200 OK\n",
      "[2025-05-25 17:05:30] Prefill batch. #new-seq: 1, #new-token: 6, #cached-token: 0, token usage: 0.00, #running-req: 0, #queue-req: 0\n",
      "[2025-05-25 17:05:31] INFO:     127.0.0.1:34200 - \"POST /generate HTTP/1.1\" 200 OK\n",
      "[2025-05-25 17:05:31] The server is fired up and ready to roll!\n",
      "\n",
      "\n",
      "                    NOTE: Typically, the server runs in a separate terminal.\n",
      "                    In this notebook, we run the server and notebook code together, so their outputs are combined.\n",
      "                    To improve clarity, the server logs are displayed in the original black color, while the notebook outputs are highlighted in blue.\n",
      "                    We are running those notebooks in a CI parallel environment, so the throughput is not representative of the actual performance.\n",
      "                    \n"
     ]
    }
   ],
   "source": [
    "import os\n",
    "os.environ[\"CUDA_VISIBLE_DEVICES\"] = \"3,4\"\n",
    "from sglang.test.test_utils import is_in_ci\n",
    "from sglang.utils import wait_for_server, print_highlight, terminate_process\n",
    "\n",
    "if is_in_ci():\n",
    "    from patch import launch_server_cmd\n",
    "else:\n",
    "    from sglang.utils import launch_server_cmd\n",
    "\n",
    "# This is equivalent to running the following command in your terminal\n",
    "\n",
    "# python3 -m sglang.launch_server --model-path qwen/qwen2.5-0.5b --host 0.0.0.0\n",
    "model_name = \"qwen/qwen2.5-0.5b\"\n",
    "\n",
    "server_process, port = launch_server_cmd(\n",
    "    f\"\"\"\n",
    "python3 -m sglang.launch_server --model-path {model_name} --host 0.0.0.0\n",
    "\"\"\"\n",
    ")\n",
    "\n",
    "wait_for_server(f\"http://localhost:{port}\")\n"
   ]
  },
  {
   "cell_type": "code",
   "execution_count": 2,
   "id": "1d3968c6",
   "metadata": {},
   "outputs": [],
   "source": [
    "from openai import OpenAI\n",
    "client = OpenAI(api_key=\"None\", base_url=f\"http://0.0.0.0:{port}/v1\")"
   ]
  },
  {
   "cell_type": "code",
   "execution_count": null,
   "id": "ce6456ec",
   "metadata": {},
   "outputs": [
    {
     "name": "stdout",
     "output_type": "stream",
     "text": [
      "[2025-05-25 17:09:19] Prefill batch. #new-seq: 1, #new-token: 1, #cached-token: 10, token usage: 0.00, #running-req: 0, #queue-req: 0\n",
      "[2025-05-25 17:09:19] Prefill batch. #new-seq: 19, #new-token: 19, #cached-token: 190, token usage: 0.00, #running-req: 1, #queue-req: 0\n",
      "[2025-05-25 17:09:20] Decode batch. #running-req: 19, #token: 486, token usage: 0.00, cuda graph: True, gen throughput (token/s): 41.40, #queue-req: 0\n",
      "[2025-05-25 17:09:20] Decode batch. #running-req: 15, #token: 0, token usage: 0.00, cuda graph: True, gen throughput (token/s): 5608.12, #queue-req: 0\n",
      "[2025-05-25 17:09:20] INFO:     127.0.0.1:51868 - \"POST /v1/completions HTTP/1.1\" 200 OK\n"
     ]
    },
    {
     "data": {
      "text/plain": [
       "Completion(id='99a619430f984719b100fb7f2dff0230', choices=[CompletionChoice(finish_reason='length', index=0, logprobs=None, text='6 | A SMARTMAN\\nWords300\\nacters\\nnumbers\\nAnalyzing the\\nWords300\\nacters revealed their type as me\\ndded & by definition\\nwords. Having used up the fourteen typed letters, \"\\\\\\nHQQD\" as the first guess we enter the alphabet\\n-\\\\\\n\\nThen', matched_stop=None), CompletionChoice(finish_reason='length', index=1, logprobs=None, text='100 words and counts with an average of 3 words per natural/day.\\\\nThis is what I got:\\\\nI have seven main categories:\\\\n1. Sheers (4: 6 XL, 4 U, 1 10) > 1 word\\\\n2. Contact List > ', matched_stop=None), CompletionChoice(finish_reason='length', index=2, logprobs=None, text='3, 6, 11, 16, 5? Most people guess the word [enigma] first. Why?\\nThis may seem ridiculous from a math perspective, but it’s the right motivation.\\nThe “words” that you see in wordle each might have multiple meanings. Déjà vu', matched_stop=None), CompletionChoice(finish_reason='stop', index=3, logprobs=None, text='9? 5?\\nThe answer to this question is:\\n\\nnine', matched_stop=151643), CompletionChoice(finish_reason='length', index=4, logprobs=None, text=\"70% of numbers got at least 1 letter wrong. The solutions were write me and 2000 days of coding\\\\nLet's calculate:\\\\nThere are 62 letters in the alphabet\\\\nThere are a total of 9 digits\\\\nIf each place is equally likely and a digit is placed in\", matched_stop=None), CompletionChoice(finish_reason='stop', index=5, logprobs=None, text=\"romeo, blake leather sunday monday fifa, venetian cipher, work day sunday friday Friday Wednesday Saturday\\\\nUpdated on January 6, 2020\\\\nI'm guessing today's wordle is , which consists of the letters: cab nz.\", matched_stop=151643), CompletionChoice(finish_reason='length', index=6, logprobs=None, text='20 words from the Word Bank? Maybe you sketch out a plan for your design. In your design plan, you decide to use a recurring unit of a huge invisible cube. The numbers 20 are the cube’s volume with in 8 ways that the month of February is hidden. I will explain more about', matched_stop=None), CompletionChoice(finish_reason='length', index=7, logprobs=None, text='46, 36, 53, 5, 23, 23, 36? Can you figure it out? The first guess to wordle for arrows Today: 6, 11, 8, 13, 12, 1, ', matched_stop=None), CompletionChoice(finish_reason='length', index=8, logprobs=None, text='6,1,9 or 46,14,6 as the last word?\\nNo, the correct answer to the wordle game should be 6,4,7 or 46,14,25 or 18,6,40 or 5,32. Can', matched_stop=None), CompletionChoice(finish_reason='stop', index=9, logprobs=None, text='1st, 3rd, or 5th?\\nShould 1st, 3rd, or 5th be one of the first 24 words to first guess in Wordle today?\\nDo those questions have the same meaning?\\nOPTIONS: I. no; II. yes;\\n\\nII.', matched_stop=151643), CompletionChoice(finish_reason='length', index=10, logprobs=None, text='2, 3, 7, 1, or 29?\\nFilling in the wordle:\\nAccessories, Label\\nWordle Hint:\\nTwenty Eight.\\nThat is correct. The word \"accessories\" with placing hash (#) around it would be \"2#8\". The word \"accessories', matched_stop=None), CompletionChoice(finish_reason='length', index=11, logprobs=None, text='75 myths and unisons in the puzzle and probable matching words?\\nA logical start to the mystery of the message. Some of them aren’t…some of them have truth working against them, are we right?\\n!\\nSeveral of you are “way-ish” in your starting observations today. If we knew the answers from', matched_stop=None), CompletionChoice(finish_reason='length', index=12, logprobs=None, text=\" radio, broadcasts, anger or pilot?\\nˌbinəˈleɪ\\nWord forms\\nEditor’s picks for words and expressions of the day\\nfind the correct word for each clue\\n*) 0 b patient $50/100!\\n$500\\nToday's Hint Prompt: You asked:\\nYes\", matched_stop=None), CompletionChoice(finish_reason='stop', index=13, logprobs=None, text=\"365, Chapter 7, Paragraph 2, Page 1, Now, I'm in.\\\\nOne possible answer could be that it is a wordless puzzle. There is not very much reading.\", matched_stop=151643), CompletionChoice(finish_reason='length', index=14, logprobs=None, text='2 out of the balloons, or 1 in the 2?\\\\nWhy make cat on a stick? The answer is that when playing cat on pie until someone surprises you, the uncommon fact is that your opponent is at least in love with a cat.\\\\nWhat is a good second guess for wordle today:', matched_stop=None), CompletionChoice(finish_reason='length', index=15, logprobs=None, text=' Hera... MERC? or  reading?\\nNo problem! I\\'ll go through this together.\\n\\nFirst, we need to recall the definitions of the letters \"Hera\" and \"Merc\":\\n\\n* Hera (H)\\n* Merc (M)\\n\\nAccording to the alphabetic association rules:\\n\\nHera: L{DVV},', matched_stop=None), CompletionChoice(finish_reason='length', index=16, logprobs=None, text='2, 4, 6, 8, 1, 3?\\nBest guess: ____\\nSure, your guess for the first wordle would be:\\n\\n_ *** _ ** _ *\\n_  A A ** * _ _ _\\n\\nThere are no correct words at the moment for your wordle, so your', matched_stop=None), CompletionChoice(finish_reason='stop', index=17, logprobs=None, text=' ? All ready answers in right green, black, and white.\\nWORDLE DUNNO THE EXACT ANSWER OF THE WORDLE WORD OR WORDLE?\\n\\nThe wordle solver also gives the hint that the word in question is LUST. The ALL_READY answer is in fact \\'LLUST\\'S!\".', matched_stop=151643), CompletionChoice(finish_reason='length', index=18, logprobs=None, text='3 A/le E/E/n IN/B CC\\nHis blood slowly peaches at the memory of peptides like beta-ipl Fn .\\n9 B/E B/le L/E/E/A U/E/A N/A SHiLLL O F/Fn B/S/le\\nRead more vocabulary related to main word.\\nYou', matched_stop=None), CompletionChoice(finish_reason='length', index=19, logprobs=None, text=\"0 4 4 6 2 0, 2 5 1 2 10 5? I.\\\\nAttempt at this wordle\\\\nI'm working on a wordle simulation and the data has been given to me. If anybody can help me with the calculations I would appreciate it\", matched_stop=None)], created=1748218159, model='qwen/qwen2.5-0.5b', object='text_completion', system_fingerprint=None, usage=CompletionUsage(completion_tokens=1199, prompt_tokens=220, total_tokens=1419, completion_tokens_details=None, prompt_tokens_details=None))"
      ]
     },
     "execution_count": 8,
     "metadata": {},
     "output_type": "execute_result"
    }
   ],
   "source": [
    "prompt = \"What is your first guess for wordle today: \"\n",
    "# longer prompt from the paper https://arxiv.org/pdf/2504.20997\n",
    "# '''You are an agent playing a customized version of the game Wordle. There is a five-letter target word from the\n",
    "# English dictionary which you must try to guess as quickly as possible. The target word does not contain any repeated\n",
    "# letters. You will incrementally construct your guess for this target word by selecting one letter of the alphabet at each\n",
    "# timestep. For each letter you guess, you will be given feedback indicating if the guessed letter is either in the correct\n",
    "# position for the target word, in the wrong position for the target word, or does not appear in the target word at all.\n",
    "# You will receive a reward of one if your guessed word correctly matches the target word. Otherwise, rewards will\n",
    "# always be zero. Your only available actions are letters of the alphabet.'''\n",
    "num_attempts = 20\n",
    "res = client.completions.create(model=model_name, prompt=[prompt] * num_attempts, max_tokens=5)\n",
    "res"
   ]
  },
  {
   "cell_type": "code",
   "execution_count": null,
   "id": "b913b303",
   "metadata": {},
   "outputs": [],
   "source": []
  },
  {
   "cell_type": "code",
   "execution_count": 11,
   "id": "e090915e",
   "metadata": {},
   "outputs": [
    {
     "name": "stdout",
     "output_type": "stream",
     "text": [
      "----------\n",
      "6 | A SMARTMAN\n",
      "Words300\n",
      "acters\n",
      "numbers\n",
      "Analyzing the\n",
      "Words300\n",
      "acters revealed their type as me\n",
      "dded & by definition\n",
      "words. Having used up the fourteen typed letters, \"\\\n",
      "HQQD\" as the first guess we enter the alphabet\n",
      "-\\\n",
      "\n",
      "Then\n",
      "----------\n",
      "100 words and counts with an average of 3 words per natural/day.\\nThis is what I got:\\nI have seven main categories:\\n1. Sheers (4: 6 XL, 4 U, 1 10) > 1 word\\n2. Contact List > \n",
      "----------\n",
      "3, 6, 11, 16, 5? Most people guess the word [enigma] first. Why?\n",
      "This may seem ridiculous from a math perspective, but it’s the right motivation.\n",
      "The “words” that you see in wordle each might have multiple meanings. Déjà vu\n",
      "----------\n",
      "9? 5?\n",
      "The answer to this question is:\n",
      "\n",
      "nine\n",
      "----------\n",
      "70% of numbers got at least 1 letter wrong. The solutions were write me and 2000 days of coding\\nLet's calculate:\\nThere are 62 letters in the alphabet\\nThere are a total of 9 digits\\nIf each place is equally likely and a digit is placed in\n",
      "----------\n",
      "romeo, blake leather sunday monday fifa, venetian cipher, work day sunday friday Friday Wednesday Saturday\\nUpdated on January 6, 2020\\nI'm guessing today's wordle is , which consists of the letters: cab nz.\n",
      "----------\n",
      "20 words from the Word Bank? Maybe you sketch out a plan for your design. In your design plan, you decide to use a recurring unit of a huge invisible cube. The numbers 20 are the cube’s volume with in 8 ways that the month of February is hidden. I will explain more about\n",
      "----------\n",
      "46, 36, 53, 5, 23, 23, 36? Can you figure it out? The first guess to wordle for arrows Today: 6, 11, 8, 13, 12, 1, \n",
      "----------\n",
      "6,1,9 or 46,14,6 as the last word?\n",
      "No, the correct answer to the wordle game should be 6,4,7 or 46,14,25 or 18,6,40 or 5,32. Can\n",
      "----------\n",
      "1st, 3rd, or 5th?\n",
      "Should 1st, 3rd, or 5th be one of the first 24 words to first guess in Wordle today?\n",
      "Do those questions have the same meaning?\n",
      "OPTIONS: I. no; II. yes;\n",
      "\n",
      "II.\n",
      "----------\n",
      "2, 3, 7, 1, or 29?\n",
      "Filling in the wordle:\n",
      "Accessories, Label\n",
      "Wordle Hint:\n",
      "Twenty Eight.\n",
      "That is correct. The word \"accessories\" with placing hash (#) around it would be \"2#8\". The word \"accessories\n",
      "----------\n",
      "75 myths and unisons in the puzzle and probable matching words?\n",
      "A logical start to the mystery of the message. Some of them aren’t…some of them have truth working against them, are we right?\n",
      "!\n",
      "Several of you are “way-ish” in your starting observations today. If we knew the answers from\n",
      "----------\n",
      " radio, broadcasts, anger or pilot?\n",
      "ˌbinəˈleɪ\n",
      "Word forms\n",
      "Editor’s picks for words and expressions of the day\n",
      "find the correct word for each clue\n",
      "*) 0 b patient $50/100!\n",
      "$500\n",
      "Today's Hint Prompt: You asked:\n",
      "Yes\n",
      "----------\n",
      "365, Chapter 7, Paragraph 2, Page 1, Now, I'm in.\\nOne possible answer could be that it is a wordless puzzle. There is not very much reading.\n",
      "----------\n",
      "2 out of the balloons, or 1 in the 2?\\nWhy make cat on a stick? The answer is that when playing cat on pie until someone surprises you, the uncommon fact is that your opponent is at least in love with a cat.\\nWhat is a good second guess for wordle today:\n",
      "----------\n",
      " Hera... MERC? or  reading?\n",
      "No problem! I'll go through this together.\n",
      "\n",
      "First, we need to recall the definitions of the letters \"Hera\" and \"Merc\":\n",
      "\n",
      "* Hera (H)\n",
      "* Merc (M)\n",
      "\n",
      "According to the alphabetic association rules:\n",
      "\n",
      "Hera: L{DVV},\n",
      "----------\n",
      "2, 4, 6, 8, 1, 3?\n",
      "Best guess: ____\n",
      "Sure, your guess for the first wordle would be:\n",
      "\n",
      "_ *** _ ** _ *\n",
      "_  A A ** * _ _ _\n",
      "\n",
      "There are no correct words at the moment for your wordle, so your\n",
      "----------\n",
      " ? All ready answers in right green, black, and white.\n",
      "WORDLE DUNNO THE EXACT ANSWER OF THE WORDLE WORD OR WORDLE?\n",
      "\n",
      "The wordle solver also gives the hint that the word in question is LUST. The ALL_READY answer is in fact 'LLUST'S!\".\n",
      "----------\n",
      "3 A/le E/E/n IN/B CC\n",
      "His blood slowly peaches at the memory of peptides like beta-ipl Fn .\n",
      "9 B/E B/le L/E/E/A U/E/A N/A SHiLLL O F/Fn B/S/le\n",
      "Read more vocabulary related to main word.\n",
      "You\n",
      "----------\n",
      "0 4 4 6 2 0, 2 5 1 2 10 5? I.\\nAttempt at this wordle\\nI'm working on a wordle simulation and the data has been given to me. If anybody can help me with the calculations I would appreciate it\n"
     ]
    }
   ],
   "source": [
    "for choice in res.choices:\n",
    "    print(\"-\"*10)\n",
    "    print(choice.text)"
   ]
  },
  {
   "cell_type": "code",
   "execution_count": 4,
   "id": "97388c63",
   "metadata": {},
   "outputs": [
    {
     "name": "stdout",
     "output_type": "stream",
     "text": [
      "\u001b[0;31mSignature:\u001b[0m\n",
      "\u001b[0mclient\u001b[0m\u001b[0;34m.\u001b[0m\u001b[0mcompletions\u001b[0m\u001b[0;34m.\u001b[0m\u001b[0mcreate\u001b[0m\u001b[0;34m(\u001b[0m\u001b[0;34m\u001b[0m\n",
      "\u001b[0;34m\u001b[0m    \u001b[0;34m*\u001b[0m\u001b[0;34m,\u001b[0m\u001b[0;34m\u001b[0m\n",
      "\u001b[0;34m\u001b[0m    \u001b[0mmodel\u001b[0m\u001b[0;34m:\u001b[0m \u001b[0;34m\"Union[str, Literal['gpt-3.5-turbo-instruct', 'davinci-002', 'babbage-002']]\"\u001b[0m\u001b[0;34m,\u001b[0m\u001b[0;34m\u001b[0m\n",
      "\u001b[0;34m\u001b[0m    \u001b[0mprompt\u001b[0m\u001b[0;34m:\u001b[0m \u001b[0;34m'Union[str, List[str], Iterable[int], Iterable[Iterable[int]], None]'\u001b[0m\u001b[0;34m,\u001b[0m\u001b[0;34m\u001b[0m\n",
      "\u001b[0;34m\u001b[0m    \u001b[0mbest_of\u001b[0m\u001b[0;34m:\u001b[0m \u001b[0;34m'Optional[int] | NotGiven'\u001b[0m \u001b[0;34m=\u001b[0m \u001b[0mNOT_GIVEN\u001b[0m\u001b[0;34m,\u001b[0m\u001b[0;34m\u001b[0m\n",
      "\u001b[0;34m\u001b[0m    \u001b[0mecho\u001b[0m\u001b[0;34m:\u001b[0m \u001b[0;34m'Optional[bool] | NotGiven'\u001b[0m \u001b[0;34m=\u001b[0m \u001b[0mNOT_GIVEN\u001b[0m\u001b[0;34m,\u001b[0m\u001b[0;34m\u001b[0m\n",
      "\u001b[0;34m\u001b[0m    \u001b[0mfrequency_penalty\u001b[0m\u001b[0;34m:\u001b[0m \u001b[0;34m'Optional[float] | NotGiven'\u001b[0m \u001b[0;34m=\u001b[0m \u001b[0mNOT_GIVEN\u001b[0m\u001b[0;34m,\u001b[0m\u001b[0;34m\u001b[0m\n",
      "\u001b[0;34m\u001b[0m    \u001b[0mlogit_bias\u001b[0m\u001b[0;34m:\u001b[0m \u001b[0;34m'Optional[Dict[str, int]] | NotGiven'\u001b[0m \u001b[0;34m=\u001b[0m \u001b[0mNOT_GIVEN\u001b[0m\u001b[0;34m,\u001b[0m\u001b[0;34m\u001b[0m\n",
      "\u001b[0;34m\u001b[0m    \u001b[0mlogprobs\u001b[0m\u001b[0;34m:\u001b[0m \u001b[0;34m'Optional[int] | NotGiven'\u001b[0m \u001b[0;34m=\u001b[0m \u001b[0mNOT_GIVEN\u001b[0m\u001b[0;34m,\u001b[0m\u001b[0;34m\u001b[0m\n",
      "\u001b[0;34m\u001b[0m    \u001b[0mmax_tokens\u001b[0m\u001b[0;34m:\u001b[0m \u001b[0;34m'Optional[int] | NotGiven'\u001b[0m \u001b[0;34m=\u001b[0m \u001b[0mNOT_GIVEN\u001b[0m\u001b[0;34m,\u001b[0m\u001b[0;34m\u001b[0m\n",
      "\u001b[0;34m\u001b[0m    \u001b[0mn\u001b[0m\u001b[0;34m:\u001b[0m \u001b[0;34m'Optional[int] | NotGiven'\u001b[0m \u001b[0;34m=\u001b[0m \u001b[0mNOT_GIVEN\u001b[0m\u001b[0;34m,\u001b[0m\u001b[0;34m\u001b[0m\n",
      "\u001b[0;34m\u001b[0m    \u001b[0mpresence_penalty\u001b[0m\u001b[0;34m:\u001b[0m \u001b[0;34m'Optional[float] | NotGiven'\u001b[0m \u001b[0;34m=\u001b[0m \u001b[0mNOT_GIVEN\u001b[0m\u001b[0;34m,\u001b[0m\u001b[0;34m\u001b[0m\n",
      "\u001b[0;34m\u001b[0m    \u001b[0mseed\u001b[0m\u001b[0;34m:\u001b[0m \u001b[0;34m'Optional[int] | NotGiven'\u001b[0m \u001b[0;34m=\u001b[0m \u001b[0mNOT_GIVEN\u001b[0m\u001b[0;34m,\u001b[0m\u001b[0;34m\u001b[0m\n",
      "\u001b[0;34m\u001b[0m    \u001b[0mstop\u001b[0m\u001b[0;34m:\u001b[0m \u001b[0;34m'Union[Optional[str], List[str], None] | NotGiven'\u001b[0m \u001b[0;34m=\u001b[0m \u001b[0mNOT_GIVEN\u001b[0m\u001b[0;34m,\u001b[0m\u001b[0;34m\u001b[0m\n",
      "\u001b[0;34m\u001b[0m    \u001b[0mstream\u001b[0m\u001b[0;34m:\u001b[0m \u001b[0;34m'Optional[Literal[False]] | Literal[True] | NotGiven'\u001b[0m \u001b[0;34m=\u001b[0m \u001b[0mNOT_GIVEN\u001b[0m\u001b[0;34m,\u001b[0m\u001b[0;34m\u001b[0m\n",
      "\u001b[0;34m\u001b[0m    \u001b[0mstream_options\u001b[0m\u001b[0;34m:\u001b[0m \u001b[0;34m'Optional[ChatCompletionStreamOptionsParam] | NotGiven'\u001b[0m \u001b[0;34m=\u001b[0m \u001b[0mNOT_GIVEN\u001b[0m\u001b[0;34m,\u001b[0m\u001b[0;34m\u001b[0m\n",
      "\u001b[0;34m\u001b[0m    \u001b[0msuffix\u001b[0m\u001b[0;34m:\u001b[0m \u001b[0;34m'Optional[str] | NotGiven'\u001b[0m \u001b[0;34m=\u001b[0m \u001b[0mNOT_GIVEN\u001b[0m\u001b[0;34m,\u001b[0m\u001b[0;34m\u001b[0m\n",
      "\u001b[0;34m\u001b[0m    \u001b[0mtemperature\u001b[0m\u001b[0;34m:\u001b[0m \u001b[0;34m'Optional[float] | NotGiven'\u001b[0m \u001b[0;34m=\u001b[0m \u001b[0mNOT_GIVEN\u001b[0m\u001b[0;34m,\u001b[0m\u001b[0;34m\u001b[0m\n",
      "\u001b[0;34m\u001b[0m    \u001b[0mtop_p\u001b[0m\u001b[0;34m:\u001b[0m \u001b[0;34m'Optional[float] | NotGiven'\u001b[0m \u001b[0;34m=\u001b[0m \u001b[0mNOT_GIVEN\u001b[0m\u001b[0;34m,\u001b[0m\u001b[0;34m\u001b[0m\n",
      "\u001b[0;34m\u001b[0m    \u001b[0muser\u001b[0m\u001b[0;34m:\u001b[0m \u001b[0;34m'str | NotGiven'\u001b[0m \u001b[0;34m=\u001b[0m \u001b[0mNOT_GIVEN\u001b[0m\u001b[0;34m,\u001b[0m\u001b[0;34m\u001b[0m\n",
      "\u001b[0;34m\u001b[0m    \u001b[0mextra_headers\u001b[0m\u001b[0;34m:\u001b[0m \u001b[0;34m'Headers | None'\u001b[0m \u001b[0;34m=\u001b[0m \u001b[0;32mNone\u001b[0m\u001b[0;34m,\u001b[0m\u001b[0;34m\u001b[0m\n",
      "\u001b[0;34m\u001b[0m    \u001b[0mextra_query\u001b[0m\u001b[0;34m:\u001b[0m \u001b[0;34m'Query | None'\u001b[0m \u001b[0;34m=\u001b[0m \u001b[0;32mNone\u001b[0m\u001b[0;34m,\u001b[0m\u001b[0;34m\u001b[0m\n",
      "\u001b[0;34m\u001b[0m    \u001b[0mextra_body\u001b[0m\u001b[0;34m:\u001b[0m \u001b[0;34m'Body | None'\u001b[0m \u001b[0;34m=\u001b[0m \u001b[0;32mNone\u001b[0m\u001b[0;34m,\u001b[0m\u001b[0;34m\u001b[0m\n",
      "\u001b[0;34m\u001b[0m    \u001b[0mtimeout\u001b[0m\u001b[0;34m:\u001b[0m \u001b[0;34m'float | httpx.Timeout | None | NotGiven'\u001b[0m \u001b[0;34m=\u001b[0m \u001b[0mNOT_GIVEN\u001b[0m\u001b[0;34m,\u001b[0m\u001b[0;34m\u001b[0m\n",
      "\u001b[0;34m\u001b[0m\u001b[0;34m)\u001b[0m \u001b[0;34m->\u001b[0m \u001b[0;34m'Completion | Stream[Completion]'\u001b[0m\u001b[0;34m\u001b[0m\u001b[0;34m\u001b[0m\u001b[0m\n",
      "\u001b[0;31mDocstring:\u001b[0m <no docstring>\n",
      "\u001b[0;31mFile:\u001b[0m      /home/jbjorner3/storage/dev/optimal-explorer-dev/venv/lib/python3.10/site-packages/openai/resources/completions.py\n",
      "\u001b[0;31mType:\u001b[0m      method"
     ]
    }
   ],
   "source": [
    "client.completions.create?"
   ]
  },
  {
   "cell_type": "code",
   "execution_count": 12,
   "id": "1b0b6c14",
   "metadata": {},
   "outputs": [],
   "source": [
    "# import requests\n",
    "\n",
    "# response = requests.post(\n",
    "#     f\"http://localhost:{port}/generate\",\n",
    "#     json={\n",
    "#         \"text\": \"The capital of France is\",\n",
    "#         \"sampling_params\": {\n",
    "#             \"temperature\": 0,\n",
    "#             \"max_new_tokens\": 320,\n",
    "#         },\n",
    "#     },\n",
    "# )\n",
    "\n",
    "# print_highlight(response.json())"
   ]
  }
 ],
 "metadata": {
  "kernelspec": {
   "display_name": "venv",
   "language": "python",
   "name": "python3"
  },
  "language_info": {
   "codemirror_mode": {
    "name": "ipython",
    "version": 3
   },
   "file_extension": ".py",
   "mimetype": "text/x-python",
   "name": "python",
   "nbconvert_exporter": "python",
   "pygments_lexer": "ipython3",
   "version": "3.10.17"
  }
 },
 "nbformat": 4,
 "nbformat_minor": 5
}
