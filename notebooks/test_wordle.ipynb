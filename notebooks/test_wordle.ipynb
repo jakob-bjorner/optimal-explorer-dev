{
 "cells": [
  {
   "cell_type": "code",
   "execution_count": 1,
   "metadata": {},
   "outputs": [],
   "source": [
    "import sys\n",
    "sys.path.append('..')\n",
    "from mdps.wordle import play_wordle_interactive"
   ]
  },
  {
   "cell_type": "code",
   "execution_count": 2,
   "metadata": {},
   "outputs": [
    {
     "name": "stdout",
     "output_type": "stream",
     "text": [
      "Welcome to Wordle! You have 6 guesses to find the word.\n",
      "Enter 'q' to quit at any time.\n",
      "\n",
      "'redis' is not in the word list. Please try again.\n",
      "Guess #1: crane -> ⬜🟨⬜⬜🟨\n",
      "Guess #2: redip -> 🟨🟨⬜⬜⬜\n",
      "'dario' is not in the word list. Please try again.\n",
      "Guess #3: dairy -> ⬜⬜⬜🟩🟨\n",
      "Guess #4: hyper -> ⬜🟩⬜🟨🟨\n",
      "'pyers' is not in the word list. Please try again.\n",
      "'myers' is not in the word list. Please try again.\n",
      "Guess #5: dyers -> ⬜🟩🟩🟩🟩\n",
      "'lyers' is not in the word list. Please try again.\n",
      "Guess #6: tyers -> ⬜🟩🟩🟩🟩\n",
      "\n",
      "Game over! The word was: oyers\n"
     ]
    }
   ],
   "source": [
    "play_wordle_interactive()"
   ]
  }
 ],
 "metadata": {
  "kernelspec": {
   "display_name": "Python 3",
   "language": "python",
   "name": "python3"
  },
  "language_info": {
   "codemirror_mode": {
    "name": "ipython",
    "version": 3
   },
   "file_extension": ".py",
   "mimetype": "text/x-python",
   "name": "python",
   "nbconvert_exporter": "python",
   "pygments_lexer": "ipython3",
   "version": "3.12.9"
  }
 },
 "nbformat": 4,
 "nbformat_minor": 2
}
